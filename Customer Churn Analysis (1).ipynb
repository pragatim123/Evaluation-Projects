{
 "cells": [
  {
   "cell_type": "markdown",
   "id": "de4d2d6d",
   "metadata": {},
   "source": [
    "# Customer Churn Analysis Project\n"
   ]
  },
  {
   "cell_type": "markdown",
   "id": "c61a411c",
   "metadata": {},
   "source": [
    "# Importing Libraries"
   ]
  },
  {
   "cell_type": "code",
   "execution_count": 1,
   "id": "fa6c8628",
   "metadata": {},
   "outputs": [],
   "source": [
    "#Import libreries \n",
    "\n",
    "import pandas as pd\n",
    "import numpy as np\n",
    "from sklearn.preprocessing import StandardScaler\n",
    "from sklearn.linear_model import LinearRegression\n",
    "from sklearn.model_selection import train_test_split\n",
    "import statsmodels.api as sm\n",
    "import matplotlib.pyplot as plt\n",
    "import seaborn as sn\n",
    "import pickle\n",
    "\n",
    "import warnings\n",
    "warnings.filterwarnings(\"ignore\")"
   ]
  },
  {
   "cell_type": "markdown",
   "id": "79c40667",
   "metadata": {},
   "source": [
    "# Importing dataset"
   ]
  },
  {
   "cell_type": "code",
   "execution_count": 2,
   "id": "81c569c4",
   "metadata": {},
   "outputs": [
    {
     "data": {
      "text/html": [
       "<div>\n",
       "<style scoped>\n",
       "    .dataframe tbody tr th:only-of-type {\n",
       "        vertical-align: middle;\n",
       "    }\n",
       "\n",
       "    .dataframe tbody tr th {\n",
       "        vertical-align: top;\n",
       "    }\n",
       "\n",
       "    .dataframe thead th {\n",
       "        text-align: right;\n",
       "    }\n",
       "</style>\n",
       "<table border=\"1\" class=\"dataframe\">\n",
       "  <thead>\n",
       "    <tr style=\"text-align: right;\">\n",
       "      <th></th>\n",
       "      <th>customerID</th>\n",
       "      <th>gender</th>\n",
       "      <th>SeniorCitizen</th>\n",
       "      <th>Partner</th>\n",
       "      <th>Dependents</th>\n",
       "      <th>tenure</th>\n",
       "      <th>PhoneService</th>\n",
       "      <th>MultipleLines</th>\n",
       "      <th>InternetService</th>\n",
       "      <th>OnlineSecurity</th>\n",
       "      <th>...</th>\n",
       "      <th>DeviceProtection</th>\n",
       "      <th>TechSupport</th>\n",
       "      <th>StreamingTV</th>\n",
       "      <th>StreamingMovies</th>\n",
       "      <th>Contract</th>\n",
       "      <th>PaperlessBilling</th>\n",
       "      <th>PaymentMethod</th>\n",
       "      <th>MonthlyCharges</th>\n",
       "      <th>TotalCharges</th>\n",
       "      <th>Churn</th>\n",
       "    </tr>\n",
       "  </thead>\n",
       "  <tbody>\n",
       "    <tr>\n",
       "      <th>0</th>\n",
       "      <td>7590-VHVEG</td>\n",
       "      <td>Female</td>\n",
       "      <td>0</td>\n",
       "      <td>Yes</td>\n",
       "      <td>No</td>\n",
       "      <td>1</td>\n",
       "      <td>No</td>\n",
       "      <td>No phone service</td>\n",
       "      <td>DSL</td>\n",
       "      <td>No</td>\n",
       "      <td>...</td>\n",
       "      <td>No</td>\n",
       "      <td>No</td>\n",
       "      <td>No</td>\n",
       "      <td>No</td>\n",
       "      <td>Month-to-month</td>\n",
       "      <td>Yes</td>\n",
       "      <td>Electronic check</td>\n",
       "      <td>29.85</td>\n",
       "      <td>29.85</td>\n",
       "      <td>No</td>\n",
       "    </tr>\n",
       "    <tr>\n",
       "      <th>1</th>\n",
       "      <td>5575-GNVDE</td>\n",
       "      <td>Male</td>\n",
       "      <td>0</td>\n",
       "      <td>No</td>\n",
       "      <td>No</td>\n",
       "      <td>34</td>\n",
       "      <td>Yes</td>\n",
       "      <td>No</td>\n",
       "      <td>DSL</td>\n",
       "      <td>Yes</td>\n",
       "      <td>...</td>\n",
       "      <td>Yes</td>\n",
       "      <td>No</td>\n",
       "      <td>No</td>\n",
       "      <td>No</td>\n",
       "      <td>One year</td>\n",
       "      <td>No</td>\n",
       "      <td>Mailed check</td>\n",
       "      <td>56.95</td>\n",
       "      <td>1889.5</td>\n",
       "      <td>No</td>\n",
       "    </tr>\n",
       "    <tr>\n",
       "      <th>2</th>\n",
       "      <td>3668-QPYBK</td>\n",
       "      <td>Male</td>\n",
       "      <td>0</td>\n",
       "      <td>No</td>\n",
       "      <td>No</td>\n",
       "      <td>2</td>\n",
       "      <td>Yes</td>\n",
       "      <td>No</td>\n",
       "      <td>DSL</td>\n",
       "      <td>Yes</td>\n",
       "      <td>...</td>\n",
       "      <td>No</td>\n",
       "      <td>No</td>\n",
       "      <td>No</td>\n",
       "      <td>No</td>\n",
       "      <td>Month-to-month</td>\n",
       "      <td>Yes</td>\n",
       "      <td>Mailed check</td>\n",
       "      <td>53.85</td>\n",
       "      <td>108.15</td>\n",
       "      <td>Yes</td>\n",
       "    </tr>\n",
       "    <tr>\n",
       "      <th>3</th>\n",
       "      <td>7795-CFOCW</td>\n",
       "      <td>Male</td>\n",
       "      <td>0</td>\n",
       "      <td>No</td>\n",
       "      <td>No</td>\n",
       "      <td>45</td>\n",
       "      <td>No</td>\n",
       "      <td>No phone service</td>\n",
       "      <td>DSL</td>\n",
       "      <td>Yes</td>\n",
       "      <td>...</td>\n",
       "      <td>Yes</td>\n",
       "      <td>Yes</td>\n",
       "      <td>No</td>\n",
       "      <td>No</td>\n",
       "      <td>One year</td>\n",
       "      <td>No</td>\n",
       "      <td>Bank transfer (automatic)</td>\n",
       "      <td>42.30</td>\n",
       "      <td>1840.75</td>\n",
       "      <td>No</td>\n",
       "    </tr>\n",
       "    <tr>\n",
       "      <th>4</th>\n",
       "      <td>9237-HQITU</td>\n",
       "      <td>Female</td>\n",
       "      <td>0</td>\n",
       "      <td>No</td>\n",
       "      <td>No</td>\n",
       "      <td>2</td>\n",
       "      <td>Yes</td>\n",
       "      <td>No</td>\n",
       "      <td>Fiber optic</td>\n",
       "      <td>No</td>\n",
       "      <td>...</td>\n",
       "      <td>No</td>\n",
       "      <td>No</td>\n",
       "      <td>No</td>\n",
       "      <td>No</td>\n",
       "      <td>Month-to-month</td>\n",
       "      <td>Yes</td>\n",
       "      <td>Electronic check</td>\n",
       "      <td>70.70</td>\n",
       "      <td>151.65</td>\n",
       "      <td>Yes</td>\n",
       "    </tr>\n",
       "  </tbody>\n",
       "</table>\n",
       "<p>5 rows × 21 columns</p>\n",
       "</div>"
      ],
      "text/plain": [
       "   customerID  gender  SeniorCitizen Partner Dependents  tenure PhoneService  \\\n",
       "0  7590-VHVEG  Female              0     Yes         No       1           No   \n",
       "1  5575-GNVDE    Male              0      No         No      34          Yes   \n",
       "2  3668-QPYBK    Male              0      No         No       2          Yes   \n",
       "3  7795-CFOCW    Male              0      No         No      45           No   \n",
       "4  9237-HQITU  Female              0      No         No       2          Yes   \n",
       "\n",
       "      MultipleLines InternetService OnlineSecurity  ... DeviceProtection  \\\n",
       "0  No phone service             DSL             No  ...               No   \n",
       "1                No             DSL            Yes  ...              Yes   \n",
       "2                No             DSL            Yes  ...               No   \n",
       "3  No phone service             DSL            Yes  ...              Yes   \n",
       "4                No     Fiber optic             No  ...               No   \n",
       "\n",
       "  TechSupport StreamingTV StreamingMovies        Contract PaperlessBilling  \\\n",
       "0          No          No              No  Month-to-month              Yes   \n",
       "1          No          No              No        One year               No   \n",
       "2          No          No              No  Month-to-month              Yes   \n",
       "3         Yes          No              No        One year               No   \n",
       "4          No          No              No  Month-to-month              Yes   \n",
       "\n",
       "               PaymentMethod MonthlyCharges  TotalCharges Churn  \n",
       "0           Electronic check          29.85         29.85    No  \n",
       "1               Mailed check          56.95        1889.5    No  \n",
       "2               Mailed check          53.85        108.15   Yes  \n",
       "3  Bank transfer (automatic)          42.30       1840.75    No  \n",
       "4           Electronic check          70.70        151.65   Yes  \n",
       "\n",
       "[5 rows x 21 columns]"
      ]
     },
     "execution_count": 2,
     "metadata": {},
     "output_type": "execute_result"
    }
   ],
   "source": [
    "#Import the dataset\n",
    "\n",
    "data= pd.read_csv(\"churn.csv\")\n",
    "data.head()"
   ]
  },
  {
   "cell_type": "markdown",
   "id": "4e211da6",
   "metadata": {},
   "source": [
    "Importing the dataset and see all columns with first five rows."
   ]
  },
  {
   "cell_type": "markdown",
   "id": "4930f44f",
   "metadata": {},
   "source": [
    "# Problem Statement"
   ]
  },
  {
   "cell_type": "markdown",
   "id": "58996ae7",
   "metadata": {},
   "source": [
    "Customer churn is when a company’s customers stop doing business with that company. Businesses are very keen on measuring churn because keeping an existing customer is far less expensive than acquiring a new customer. New business involves working leads through a sales funnel, using marketing and sales budgets to gain additional customers. Existing customers will often have a higher volume of service consumption and can generate additional customer referrals.\n",
    "\n",
    "Customer retention can be achieved with good customer service and products. But the most effective way for a company to prevent attrition of customers is to truly know them. The vast volumes of data collected about customers can be used to build churn prediction models. Knowing who is most likely to defect means that a company can prioritise focused marketing efforts on that subset of their customer base.\n",
    "\n",
    "Preventing customer churn is critically important to the telecommunications sector, as the barriers to entry for switching services are so low. \n",
    "\n",
    "You will examine customer data from IBM Sample Data Sets with the aim of building and comparing several customer churn prediction models. \n",
    "\n",
    "So as we have to find out discrete values so this problem refers to Classification Problem"
   ]
  },
  {
   "cell_type": "markdown",
   "id": "82940595",
   "metadata": {},
   "source": [
    "# Shape of data with number of rows and columns"
   ]
  },
  {
   "cell_type": "code",
   "execution_count": 3,
   "id": "25c0ede8",
   "metadata": {},
   "outputs": [
    {
     "data": {
      "text/plain": [
       "(7043, 21)"
      ]
     },
     "execution_count": 3,
     "metadata": {},
     "output_type": "execute_result"
    }
   ],
   "source": [
    "data.shape"
   ]
  },
  {
   "cell_type": "markdown",
   "id": "18c0026e",
   "metadata": {},
   "source": [
    "There are 7043 Rows and 21 Columns in dataset"
   ]
  },
  {
   "cell_type": "markdown",
   "id": "62c8d51b",
   "metadata": {},
   "source": [
    "# Detailed description"
   ]
  },
  {
   "cell_type": "code",
   "execution_count": 4,
   "id": "47b2180b",
   "metadata": {},
   "outputs": [
    {
     "data": {
      "text/html": [
       "<div>\n",
       "<style scoped>\n",
       "    .dataframe tbody tr th:only-of-type {\n",
       "        vertical-align: middle;\n",
       "    }\n",
       "\n",
       "    .dataframe tbody tr th {\n",
       "        vertical-align: top;\n",
       "    }\n",
       "\n",
       "    .dataframe thead th {\n",
       "        text-align: right;\n",
       "    }\n",
       "</style>\n",
       "<table border=\"1\" class=\"dataframe\">\n",
       "  <thead>\n",
       "    <tr style=\"text-align: right;\">\n",
       "      <th></th>\n",
       "      <th>SeniorCitizen</th>\n",
       "      <th>tenure</th>\n",
       "      <th>MonthlyCharges</th>\n",
       "    </tr>\n",
       "  </thead>\n",
       "  <tbody>\n",
       "    <tr>\n",
       "      <th>count</th>\n",
       "      <td>7043.000000</td>\n",
       "      <td>7043.000000</td>\n",
       "      <td>7043.000000</td>\n",
       "    </tr>\n",
       "    <tr>\n",
       "      <th>mean</th>\n",
       "      <td>0.162147</td>\n",
       "      <td>32.371149</td>\n",
       "      <td>64.761692</td>\n",
       "    </tr>\n",
       "    <tr>\n",
       "      <th>std</th>\n",
       "      <td>0.368612</td>\n",
       "      <td>24.559481</td>\n",
       "      <td>30.090047</td>\n",
       "    </tr>\n",
       "    <tr>\n",
       "      <th>min</th>\n",
       "      <td>0.000000</td>\n",
       "      <td>0.000000</td>\n",
       "      <td>18.250000</td>\n",
       "    </tr>\n",
       "    <tr>\n",
       "      <th>25%</th>\n",
       "      <td>0.000000</td>\n",
       "      <td>9.000000</td>\n",
       "      <td>35.500000</td>\n",
       "    </tr>\n",
       "    <tr>\n",
       "      <th>50%</th>\n",
       "      <td>0.000000</td>\n",
       "      <td>29.000000</td>\n",
       "      <td>70.350000</td>\n",
       "    </tr>\n",
       "    <tr>\n",
       "      <th>75%</th>\n",
       "      <td>0.000000</td>\n",
       "      <td>55.000000</td>\n",
       "      <td>89.850000</td>\n",
       "    </tr>\n",
       "    <tr>\n",
       "      <th>max</th>\n",
       "      <td>1.000000</td>\n",
       "      <td>72.000000</td>\n",
       "      <td>118.750000</td>\n",
       "    </tr>\n",
       "  </tbody>\n",
       "</table>\n",
       "</div>"
      ],
      "text/plain": [
       "       SeniorCitizen       tenure  MonthlyCharges\n",
       "count    7043.000000  7043.000000     7043.000000\n",
       "mean        0.162147    32.371149       64.761692\n",
       "std         0.368612    24.559481       30.090047\n",
       "min         0.000000     0.000000       18.250000\n",
       "25%         0.000000     9.000000       35.500000\n",
       "50%         0.000000    29.000000       70.350000\n",
       "75%         0.000000    55.000000       89.850000\n",
       "max         1.000000    72.000000      118.750000"
      ]
     },
     "execution_count": 4,
     "metadata": {},
     "output_type": "execute_result"
    }
   ],
   "source": [
    "data.describe()"
   ]
  },
  {
   "cell_type": "markdown",
   "id": "37a92f1e",
   "metadata": {},
   "source": [
    "We can see the detailed description of all the rows and columns like count, mean value, standard deviation, minimum and maximum value."
   ]
  },
  {
   "cell_type": "markdown",
   "id": "0747b99a",
   "metadata": {},
   "source": [
    "# Datatypes of all columns"
   ]
  },
  {
   "cell_type": "code",
   "execution_count": 5,
   "id": "0c4b482f",
   "metadata": {},
   "outputs": [
    {
     "data": {
      "text/plain": [
       "customerID           object\n",
       "gender               object\n",
       "SeniorCitizen         int64\n",
       "Partner              object\n",
       "Dependents           object\n",
       "tenure                int64\n",
       "PhoneService         object\n",
       "MultipleLines        object\n",
       "InternetService      object\n",
       "OnlineSecurity       object\n",
       "OnlineBackup         object\n",
       "DeviceProtection     object\n",
       "TechSupport          object\n",
       "StreamingTV          object\n",
       "StreamingMovies      object\n",
       "Contract             object\n",
       "PaperlessBilling     object\n",
       "PaymentMethod        object\n",
       "MonthlyCharges      float64\n",
       "TotalCharges         object\n",
       "Churn                object\n",
       "dtype: object"
      ]
     },
     "execution_count": 5,
     "metadata": {},
     "output_type": "execute_result"
    }
   ],
   "source": [
    "data.dtypes"
   ]
  },
  {
   "cell_type": "markdown",
   "id": "ac6d4c16",
   "metadata": {},
   "source": [
    "We have Integer data type ----> SeniorCitizen and tenure only.\n",
    "\n",
    "object datatypes ----> customerID, gender, Partner, Dependents, PhoneService, MultipleLines, InternetService, OnlineSecurit, OnlineBackup, DeviceProtection, TechSupport, StreamingTV, StreamingMovies, Contract, PaperlessBilling, PaymentMethod, TotalCharges and Churn\n",
    "\n",
    "float data type ----> MonthlyCharges\n",
    "\n",
    "all are independent variable accept Churn. Churn is a target variable.\n",
    "\n"
   ]
  },
  {
   "cell_type": "markdown",
   "id": "5691d45a",
   "metadata": {},
   "source": [
    "# Checking is there any null value"
   ]
  },
  {
   "cell_type": "code",
   "execution_count": 6,
   "id": "57854900",
   "metadata": {},
   "outputs": [
    {
     "data": {
      "text/plain": [
       "customerID          0\n",
       "gender              0\n",
       "SeniorCitizen       0\n",
       "Partner             0\n",
       "Dependents          0\n",
       "tenure              0\n",
       "PhoneService        0\n",
       "MultipleLines       0\n",
       "InternetService     0\n",
       "OnlineSecurity      0\n",
       "OnlineBackup        0\n",
       "DeviceProtection    0\n",
       "TechSupport         0\n",
       "StreamingTV         0\n",
       "StreamingMovies     0\n",
       "Contract            0\n",
       "PaperlessBilling    0\n",
       "PaymentMethod       0\n",
       "MonthlyCharges      0\n",
       "TotalCharges        0\n",
       "Churn               0\n",
       "dtype: int64"
      ]
     },
     "execution_count": 6,
     "metadata": {},
     "output_type": "execute_result"
    }
   ],
   "source": [
    "#check is there any null value present in any column\n",
    "\n",
    "data.isnull().sum()"
   ]
  },
  {
   "cell_type": "markdown",
   "id": "31038be7",
   "metadata": {},
   "source": [
    "There are no missing values in whole dataset. so, we can proceed further"
   ]
  },
  {
   "cell_type": "markdown",
   "id": "8794ada6",
   "metadata": {},
   "source": [
    "# Visualization of null values"
   ]
  },
  {
   "cell_type": "code",
   "execution_count": 7,
   "id": "856e1152",
   "metadata": {},
   "outputs": [
    {
     "data": {
      "image/png": "[encoded data removed]",
      "text/plain": [
       "<Figure size 1152x432 with 2 Axes>"
      ]
     },
     "metadata": {
      "needs_background": "light"
     },
     "output_type": "display_data"
    }
   ],
   "source": [
    "plt.figure(figsize=[16,6])\n",
    "sn.heatmap(data.isnull())\n",
    "plt.title(\"NULL VALUES\")\n",
    "plt.show()"
   ]
  },
  {
   "cell_type": "markdown",
   "id": "c5ba6f36",
   "metadata": {},
   "source": [
    "As shown in plot there is no white lines in whole dataset."
   ]
  },
  {
   "cell_type": "markdown",
   "id": "be80b9f8",
   "metadata": {},
   "source": [
    "# Before visualization we need to convert encode target variable"
   ]
  },
  {
   "cell_type": "code",
   "execution_count": 8,
   "id": "b68360ef",
   "metadata": {},
   "outputs": [
    {
     "data": {
      "text/plain": [
       "array(['No', 'Yes'], dtype=object)"
      ]
     },
     "execution_count": 8,
     "metadata": {},
     "output_type": "execute_result"
    }
   ],
   "source": [
    "data['Churn'].unique()"
   ]
  },
  {
   "cell_type": "code",
   "execution_count": 9,
   "id": "865f9000",
   "metadata": {},
   "outputs": [
    {
     "data": {
      "text/plain": [
       "No     5174\n",
       "Yes    1869\n",
       "Name: Churn, dtype: int64"
      ]
     },
     "execution_count": 9,
     "metadata": {},
     "output_type": "execute_result"
    }
   ],
   "source": [
    "data['Churn'].value_counts()"
   ]
  },
  {
   "cell_type": "code",
   "execution_count": 10,
   "id": "f3cc10cc",
   "metadata": {},
   "outputs": [],
   "source": [
    "# Replace Attrition column to binary encoder\n",
    "data['Churn'] = data['Churn'].replace({'Yes':1, 'No':0})"
   ]
  },
  {
   "cell_type": "markdown",
   "id": "3989904e",
   "metadata": {},
   "source": [
    "after converting target variable the Yes will become 1 and No will become 0."
   ]
  },
  {
   "cell_type": "markdown",
   "id": "8abf8375",
   "metadata": {},
   "source": [
    "# EDA (Exploratory Data Analysis)"
   ]
  },
  {
   "cell_type": "markdown",
   "id": "e61a20bd",
   "metadata": {},
   "source": [
    "# Univariate Analysis"
   ]
  },
  {
   "cell_type": "code",
   "execution_count": 11,
   "id": "07c46747",
   "metadata": {},
   "outputs": [
    {
     "data": {
      "image/png": "[encoded data removed]",
      "text/plain": [
       "<Figure size 432x288 with 1 Axes>"
      ]
     },
     "metadata": {
      "needs_background": "light"
     },
     "output_type": "display_data"
    }
   ],
   "source": [
    "#visualization of variables \n",
    "sn.countplot(data[\"gender\"])\n",
    "plt.show()"
   ]
  },
  {
   "cell_type": "code",
   "execution_count": 12,
   "id": "e7a201d3",
   "metadata": {},
   "outputs": [
    {
     "data": {
      "image/png": "[encoded data removed]",
      "text/plain": [
       "<Figure size 432x288 with 1 Axes>"
      ]
     },
     "metadata": {
      "needs_background": "light"
     },
     "output_type": "display_data"
    }
   ],
   "source": [
    "#visualization of variables \n",
    "sn.countplot(data[\"Partner\"])\n",
    "plt.show()"
   ]
  },
  {
   "cell_type": "code",
   "execution_count": 13,
   "id": "6e399ecd",
   "metadata": {},
   "outputs": [
    {
     "data": {
      "image/png": "[encoded data removed]",
      "text/plain": [
       "<Figure size 432x288 with 1 Axes>"
      ]
     },
     "metadata": {
      "needs_background": "light"
     },
     "output_type": "display_data"
    }
   ],
   "source": [
    "#visualization of variables \n",
    "sn.countplot(data[\"Dependents\"])\n",
    "plt.show()"
   ]
  },
  {
   "cell_type": "code",
   "execution_count": 14,
   "id": "a52bf8e4",
   "metadata": {},
   "outputs": [
    {
     "data": {
      "image/png": "[encoded data removed]",
      "text/plain": [
       "<Figure size 432x288 with 1 Axes>"
      ]
     },
     "metadata": {
      "needs_background": "light"
     },
     "output_type": "display_data"
    }
   ],
   "source": [
    "#visualization of variables \n",
    "sn.countplot(data[\"PhoneService\"])\n",
    "plt.show()"
   ]
  },
  {
   "cell_type": "code",
   "execution_count": 15,
   "id": "cb4aa1ad",
   "metadata": {},
   "outputs": [
    {
     "data": {
      "image/png": "[encoded data removed]",
      "text/plain": [
       "<Figure size 432x288 with 1 Axes>"
      ]
     },
     "metadata": {
      "needs_background": "light"
     },
     "output_type": "display_data"
    }
   ],
   "source": [
    "#visualization of variables \n",
    "sn.countplot(data[\"MultipleLines\"])\n",
    "plt.show()"
   ]
  },
  {
   "cell_type": "code",
   "execution_count": 16,
   "id": "3ef31fc3",
   "metadata": {},
   "outputs": [
    {
     "data": {
      "image/png": "[encoded data removed]",
      "text/plain": [
       "<Figure size 432x288 with 1 Axes>"
      ]
     },
     "metadata": {
      "needs_background": "light"
     },
     "output_type": "display_data"
    }
   ],
   "source": [
    "#visualization of variables \n",
    "sn.countplot(data[\"InternetService\"])\n",
    "plt.show()"
   ]
  },
  {
   "cell_type": "code",
   "execution_count": 17,
   "id": "64916916",
   "metadata": {},
   "outputs": [
    {
     "data": {
      "image/png": "[encoded data removed]",
      "text/plain": [
       "<Figure size 432x288 with 1 Axes>"
      ]
     },
     "metadata": {
      "needs_background": "light"
     },
     "output_type": "display_data"
    }
   ],
   "source": [
    "#visualization of variables \n",
    "sn.countplot(data[\"OnlineSecurity\"])\n",
    "plt.show()"
   ]
  },
  {
   "cell_type": "code",
   "execution_count": 18,
   "id": "c198e8f7",
   "metadata": {},
   "outputs": [
    {
     "data": {
      "image/png": "[encoded data removed]",
      "text/plain": [
       "<Figure size 432x288 with 1 Axes>"
      ]
     },
     "metadata": {
      "needs_background": "light"
     },
     "output_type": "display_data"
    }
   ],
   "source": [
    "#visualization of variables \n",
    "sn.countplot(data[\"OnlineBackup\"])\n",
    "plt.show()"
   ]
  },
  {
   "cell_type": "code",
   "execution_count": 19,
   "id": "af66a34f",
   "metadata": {},
   "outputs": [
    {
     "data": {
      "image/png": "[encoded data removed]",
      "text/plain": [
       "<Figure size 432x288 with 1 Axes>"
      ]
     },
     "metadata": {
      "needs_background": "light"
     },
     "output_type": "display_data"
    }
   ],
   "source": [
    "#visualization of variables \n",
    "sn.countplot(data[\"DeviceProtection\"])\n",
    "plt.show()"
   ]
  },
  {
   "cell_type": "code",
   "execution_count": 20,
   "id": "36d23808",
   "metadata": {},
   "outputs": [
    {
     "data": {
      "image/png": "[encoded data removed]",
      "text/plain": [
       "<Figure size 432x288 with 1 Axes>"
      ]
     },
     "metadata": {
      "needs_background": "light"
     },
     "output_type": "display_data"
    }
   ],
   "source": [
    "#visualization of variables \n",
    "sn.countplot(data[\"TechSupport\"])\n",
    "plt.show()"
   ]
  },
  {
   "cell_type": "code",
   "execution_count": 21,
   "id": "a7e4f88b",
   "metadata": {},
   "outputs": [
    {
     "data": {
      "image/png": "[encoded data removed]",
      "text/plain": [
       "<Figure size 432x288 with 1 Axes>"
      ]
     },
     "metadata": {
      "needs_background": "light"
     },
     "output_type": "display_data"
    }
   ],
   "source": [
    "#visualization of variables \n",
    "sn.countplot(data[\"StreamingTV\"])\n",
    "plt.show()"
   ]
  },
  {
   "cell_type": "code",
   "execution_count": 22,
   "id": "f6618b84",
   "metadata": {},
   "outputs": [
    {
     "data": {
      "image/png": "[encoded data removed]",
      "text/plain": [
       "<Figure size 432x288 with 1 Axes>"
      ]
     },
     "metadata": {
      "needs_background": "light"
     },
     "output_type": "display_data"
    }
   ],
   "source": [
    "#visualization of variables \n",
    "sn.countplot(data[\"StreamingMovies\"])\n",
    "plt.show()"
   ]
  },
  {
   "cell_type": "code",
   "execution_count": 23,
   "id": "ee08cff7",
   "metadata": {},
   "outputs": [
    {
     "data": {
      "image/png": "[encoded data removed]",
      "text/plain": [
       "<Figure size 432x288 with 1 Axes>"
      ]
     },
     "metadata": {
      "needs_background": "light"
     },
     "output_type": "display_data"
    }
   ],
   "source": [
    "#visualization of variables \n",
    "sn.countplot(data[\"Contract\"])\n",
    "plt.show()"
   ]
  },
  {
   "cell_type": "code",
   "execution_count": 24,
   "id": "63ccd204",
   "metadata": {},
   "outputs": [
    {
     "data": {
      "image/png": "[encoded data removed]",
      "text/plain": [
       "<Figure size 432x288 with 1 Axes>"
      ]
     },
     "metadata": {
      "needs_background": "light"
     },
     "output_type": "display_data"
    }
   ],
   "source": [
    "#visualization of variables \n",
    "sn.countplot(data[\"PaperlessBilling\"])\n",
    "plt.show()"
   ]
  },
  {
   "cell_type": "code",
   "execution_count": 25,
   "id": "38a43c21",
   "metadata": {},
   "outputs": [
    {
     "data": {
      "image/png": "[encoded data removed]",
      "text/plain": [
       "<Figure size 432x288 with 1 Axes>"
      ]
     },
     "metadata": {
      "needs_background": "light"
     },
     "output_type": "display_data"
    }
   ],
   "source": [
    "#visualization of variables \n",
    "sn.countplot(data[\"PaymentMethod\"])\n",
    "plt.show()"
   ]
  },
  {
   "cell_type": "code",
   "execution_count": 26,
   "id": "bc2ae61f",
   "metadata": {},
   "outputs": [
    {
     "data": {
      "text/plain": [
       "customerID           object\n",
       "gender               object\n",
       "SeniorCitizen         int64\n",
       "Partner              object\n",
       "Dependents           object\n",
       "tenure                int64\n",
       "PhoneService         object\n",
       "MultipleLines        object\n",
       "InternetService      object\n",
       "OnlineSecurity       object\n",
       "OnlineBackup         object\n",
       "DeviceProtection     object\n",
       "TechSupport          object\n",
       "StreamingTV          object\n",
       "StreamingMovies      object\n",
       "Contract             object\n",
       "PaperlessBilling     object\n",
       "PaymentMethod        object\n",
       "MonthlyCharges      float64\n",
       "TotalCharges         object\n",
       "Churn                 int64\n",
       "dtype: object"
      ]
     },
     "execution_count": 26,
     "metadata": {},
     "output_type": "execute_result"
    }
   ],
   "source": [
    "data.dtypes"
   ]
  },
  {
   "cell_type": "markdown",
   "id": "2a661e2d",
   "metadata": {},
   "source": [
    "# Distplot"
   ]
  },
  {
   "cell_type": "code",
   "execution_count": 27,
   "id": "7d174e67",
   "metadata": {},
   "outputs": [],
   "source": [
    "fe = data[[\"SeniorCitizen\", \"tenure\", \"MonthlyCharges\", \"Churn\"]]"
   ]
  },
  {
   "cell_type": "code",
   "execution_count": 28,
   "id": "c13e9ea8",
   "metadata": {},
   "outputs": [
    {
     "data": {
      "image/png": "[encoded data removed]",
      "text/plain": [
       "<Figure size 1440x2520 with 4 Axes>"
      ]
     },
     "metadata": {},
     "output_type": "display_data"
    }
   ],
   "source": [
    "#Relationship Visualizing\n",
    "\n",
    "plt.figure(figsize = (20,35), facecolor = 'white')\n",
    "plotnumber = 1\n",
    "\n",
    "for column in fe:\n",
    "    if plotnumber <= 15: # as we see there are eight columns in the data\n",
    "        ax = plt.subplot(6,2,plotnumber)\n",
    "        sn.distplot(fe[column], color = 'g')\n",
    "        plt.xlabel(column,fontsize=20)\n",
    "        \n",
    "    plotnumber += 1\n",
    "plt.show()"
   ]
  },
  {
   "cell_type": "markdown",
   "id": "2e98fe54",
   "metadata": {},
   "source": [
    "As shown in distplot almost every input variable are normally distributed. no skewness is present in it."
   ]
  },
  {
   "cell_type": "code",
   "execution_count": 29,
   "id": "44e78f3b",
   "metadata": {},
   "outputs": [
    {
     "data": {
      "text/plain": [
       "SeniorCitizen     1.833633\n",
       "tenure            0.239540\n",
       "MonthlyCharges   -0.220524\n",
       "Churn             1.063031\n",
       "dtype: float64"
      ]
     },
     "execution_count": 29,
     "metadata": {},
     "output_type": "execute_result"
    }
   ],
   "source": [
    "data.skew()#skewness in data"
   ]
  },
  {
   "cell_type": "markdown",
   "id": "0d102b65",
   "metadata": {},
   "source": [
    "Quality is a targate variable and it is having two classes. so, it is a binaryclassification problem.\n",
    "\n"
   ]
  },
  {
   "cell_type": "markdown",
   "id": "371761ec",
   "metadata": {},
   "source": [
    "# Analysis through boxplot"
   ]
  },
  {
   "cell_type": "code",
   "execution_count": 30,
   "id": "b8cf4cb4",
   "metadata": {},
   "outputs": [
    {
     "data": {
      "image/png": "[encoded data removed]",
      "text/plain": [
       "<Figure size 1440x2160 with 4 Axes>"
      ]
     },
     "metadata": {},
     "output_type": "display_data"
    }
   ],
   "source": [
    "#Relationship Visualizing\n",
    "\n",
    "plt.figure(figsize = (20,30), facecolor = 'white')\n",
    "plotnumber = 1\n",
    "\n",
    "for column in fe:\n",
    "    if plotnumber <= 15: # as we see there are therteen columns in the data\n",
    "        ax = plt.subplot(6,2,plotnumber)\n",
    "        sn.boxplot(fe[column], color = 'c')\n",
    "        plt.xlabel(column,fontsize=20)\n",
    "        \n",
    "    plotnumber += 1\n",
    "plt.show()"
   ]
  },
  {
   "cell_type": "markdown",
   "id": "67fb49a5",
   "metadata": {},
   "source": [
    "As we can see all columns are not having outliers, so we need to proceed further."
   ]
  },
  {
   "cell_type": "markdown",
   "id": "39ab9d31",
   "metadata": {},
   "source": [
    "# Histplot"
   ]
  },
  {
   "cell_type": "code",
   "execution_count": 31,
   "id": "feb86ebc",
   "metadata": {},
   "outputs": [
    {
     "data": {
      "image/png": "[encoded data removed]",
      "text/plain": [
       "<Figure size 1440x2160 with 4 Axes>"
      ]
     },
     "metadata": {},
     "output_type": "display_data"
    }
   ],
   "source": [
    "#Relationship Visualizing\n",
    "\n",
    "plt.figure(figsize = (20,30), facecolor = 'white')\n",
    "plotnumber = 1\n",
    "\n",
    "for column in fe:\n",
    "    if plotnumber <= 10: # as we see there are thirtheen columns in the data\n",
    "        ax = plt.subplot(5,2,plotnumber)\n",
    "        sn.histplot(fe[column], color = 'g')\n",
    "        plt.xlabel(column,fontsize=20)\n",
    "        \n",
    "    plotnumber += 1\n",
    "plt.show()"
   ]
  },
  {
   "cell_type": "markdown",
   "id": "53c28e85",
   "metadata": {},
   "source": [
    "we can see all variables are normally distributed, skewness are not present it."
   ]
  },
  {
   "cell_type": "markdown",
   "id": "4c2607bc",
   "metadata": {},
   "source": [
    "# Bi variate analysis"
   ]
  },
  {
   "cell_type": "code",
   "execution_count": 32,
   "id": "afaa47e4",
   "metadata": {},
   "outputs": [],
   "source": [
    "feature = data[[\"SeniorCitizen\", \"tenure\", \"MonthlyCharges\", \"Churn\"]]"
   ]
  },
  {
   "cell_type": "code",
   "execution_count": 33,
   "id": "3b912995",
   "metadata": {},
   "outputs": [
    {
     "data": {
      "image/png": "[encoded data removed]",
      "text/plain": [
       "<Figure size 2160x2520 with 4 Axes>"
      ]
     },
     "metadata": {},
     "output_type": "display_data"
    }
   ],
   "source": [
    "#Relationship Visualizing\n",
    "\n",
    "plt.figure(figsize = (30,35), facecolor = 'white')\n",
    "plotnumber = 1\n",
    "\n",
    "for column in feature:\n",
    "    if plotnumber <= 15:\n",
    "        ax = plt.subplot(5,3,plotnumber)\n",
    "        plt.scatter(feature[column],feature['Churn'], color='b')\n",
    "        plt.xlabel(column,fontsize=26)\n",
    "        plt.ylabel('Churn', fontsize=26)\n",
    "    plotnumber += 1\n",
    "plt.tight_layout()\n"
   ]
  },
  {
   "cell_type": "markdown",
   "id": "a556e940",
   "metadata": {},
   "source": [
    "As we have seen in the plot some outliers are not present in it."
   ]
  },
  {
   "cell_type": "markdown",
   "id": "dec5350f",
   "metadata": {},
   "source": [
    "# Multi Variate analysis\n"
   ]
  },
  {
   "cell_type": "code",
   "execution_count": 34,
   "id": "bfca113d",
   "metadata": {},
   "outputs": [
    {
     "data": {
      "image/png": "[encoded data removed]",
      "text/plain": [
       "<Figure size 1440x1080 with 2 Axes>"
      ]
     },
     "metadata": {
      "needs_background": "light"
     },
     "output_type": "display_data"
    }
   ],
   "source": [
    "data_cor = data.corr().abs()\n",
    "\n",
    "plt.figure(figsize = (20,15))\n",
    "sn.heatmap(data_cor, vmin=-1, vmax= 1, annot=True, square=True,\n",
    "          center=0, fmt='.1g', linewidths=.1)\n",
    "plt.tight_layout()"
   ]
  },
  {
   "cell_type": "markdown",
   "id": "d353803d",
   "metadata": {},
   "source": [
    "# Find out which columns are positively and negatively correlated with each other"
   ]
  },
  {
   "cell_type": "code",
   "execution_count": 35,
   "id": "dbb1bb2b",
   "metadata": {},
   "outputs": [
    {
     "data": {
      "image/png": "[encoded data removed]",
      "text/plain": [
       "<Figure size 1584x504 with 1 Axes>"
      ]
     },
     "metadata": {
      "needs_background": "light"
     },
     "output_type": "display_data"
    }
   ],
   "source": [
    "plt.figure(figsize=(22,7))\n",
    "data.corr()['Churn'].sort_values(ascending = False).drop(['Churn']).plot(kind = 'bar', color = 'y')\n",
    "plt.xlabel('Feature', fontsize = 15)\n",
    "plt.ylabel('Churn', fontsize = 15)\n",
    "plt.title('correlation', fontsize = 20)\n",
    "plt.show()"
   ]
  },
  {
   "cell_type": "markdown",
   "id": "05cd2e23",
   "metadata": {},
   "source": [
    "# Pairplot"
   ]
  },
  {
   "cell_type": "code",
   "execution_count": 36,
   "id": "cec3c20c",
   "metadata": {},
   "outputs": [
    {
     "data": {
      "image/png": "[encoded data removed]",
      "text/plain": [
       "<Figure size 720x720 with 20 Axes>"
      ]
     },
     "metadata": {
      "needs_background": "light"
     },
     "output_type": "display_data"
    }
   ],
   "source": [
    "sn.pairplot(data)\n",
    "plt.show()"
   ]
  },
  {
   "cell_type": "markdown",
   "id": "f4738a21",
   "metadata": {},
   "source": [
    "In above pairplot we can see each and every coloumn relationship with each other.\n",
    "\n",
    "After visualization conclude that all input variables are having some/good amount relationship with target variable. Now proceed futher for next steps:"
   ]
  },
  {
   "cell_type": "markdown",
   "id": "50e43f55",
   "metadata": {},
   "source": [
    "# Encoding/Droping"
   ]
  },
  {
   "cell_type": "code",
   "execution_count": 37,
   "id": "f5ba709a",
   "metadata": {},
   "outputs": [
    {
     "data": {
      "text/html": [
       "<div>\n",
       "<style scoped>\n",
       "    .dataframe tbody tr th:only-of-type {\n",
       "        vertical-align: middle;\n",
       "    }\n",
       "\n",
       "    .dataframe tbody tr th {\n",
       "        vertical-align: top;\n",
       "    }\n",
       "\n",
       "    .dataframe thead th {\n",
       "        text-align: right;\n",
       "    }\n",
       "</style>\n",
       "<table border=\"1\" class=\"dataframe\">\n",
       "  <thead>\n",
       "    <tr style=\"text-align: right;\">\n",
       "      <th></th>\n",
       "      <th>customerID</th>\n",
       "      <th>gender</th>\n",
       "      <th>SeniorCitizen</th>\n",
       "      <th>Partner</th>\n",
       "      <th>Dependents</th>\n",
       "      <th>tenure</th>\n",
       "      <th>PhoneService</th>\n",
       "      <th>MultipleLines</th>\n",
       "      <th>InternetService</th>\n",
       "      <th>OnlineSecurity</th>\n",
       "      <th>...</th>\n",
       "      <th>DeviceProtection</th>\n",
       "      <th>TechSupport</th>\n",
       "      <th>StreamingTV</th>\n",
       "      <th>StreamingMovies</th>\n",
       "      <th>Contract</th>\n",
       "      <th>PaperlessBilling</th>\n",
       "      <th>PaymentMethod</th>\n",
       "      <th>MonthlyCharges</th>\n",
       "      <th>TotalCharges</th>\n",
       "      <th>Churn</th>\n",
       "    </tr>\n",
       "  </thead>\n",
       "  <tbody>\n",
       "    <tr>\n",
       "      <th>0</th>\n",
       "      <td>7590-VHVEG</td>\n",
       "      <td>Female</td>\n",
       "      <td>0</td>\n",
       "      <td>Yes</td>\n",
       "      <td>No</td>\n",
       "      <td>1</td>\n",
       "      <td>No</td>\n",
       "      <td>No phone service</td>\n",
       "      <td>DSL</td>\n",
       "      <td>No</td>\n",
       "      <td>...</td>\n",
       "      <td>No</td>\n",
       "      <td>No</td>\n",
       "      <td>No</td>\n",
       "      <td>No</td>\n",
       "      <td>Month-to-month</td>\n",
       "      <td>Yes</td>\n",
       "      <td>Electronic check</td>\n",
       "      <td>29.85</td>\n",
       "      <td>29.85</td>\n",
       "      <td>0</td>\n",
       "    </tr>\n",
       "    <tr>\n",
       "      <th>1</th>\n",
       "      <td>5575-GNVDE</td>\n",
       "      <td>Male</td>\n",
       "      <td>0</td>\n",
       "      <td>No</td>\n",
       "      <td>No</td>\n",
       "      <td>34</td>\n",
       "      <td>Yes</td>\n",
       "      <td>No</td>\n",
       "      <td>DSL</td>\n",
       "      <td>Yes</td>\n",
       "      <td>...</td>\n",
       "      <td>Yes</td>\n",
       "      <td>No</td>\n",
       "      <td>No</td>\n",
       "      <td>No</td>\n",
       "      <td>One year</td>\n",
       "      <td>No</td>\n",
       "      <td>Mailed check</td>\n",
       "      <td>56.95</td>\n",
       "      <td>1889.5</td>\n",
       "      <td>0</td>\n",
       "    </tr>\n",
       "    <tr>\n",
       "      <th>2</th>\n",
       "      <td>3668-QPYBK</td>\n",
       "      <td>Male</td>\n",
       "      <td>0</td>\n",
       "      <td>No</td>\n",
       "      <td>No</td>\n",
       "      <td>2</td>\n",
       "      <td>Yes</td>\n",
       "      <td>No</td>\n",
       "      <td>DSL</td>\n",
       "      <td>Yes</td>\n",
       "      <td>...</td>\n",
       "      <td>No</td>\n",
       "      <td>No</td>\n",
       "      <td>No</td>\n",
       "      <td>No</td>\n",
       "      <td>Month-to-month</td>\n",
       "      <td>Yes</td>\n",
       "      <td>Mailed check</td>\n",
       "      <td>53.85</td>\n",
       "      <td>108.15</td>\n",
       "      <td>1</td>\n",
       "    </tr>\n",
       "    <tr>\n",
       "      <th>3</th>\n",
       "      <td>7795-CFOCW</td>\n",
       "      <td>Male</td>\n",
       "      <td>0</td>\n",
       "      <td>No</td>\n",
       "      <td>No</td>\n",
       "      <td>45</td>\n",
       "      <td>No</td>\n",
       "      <td>No phone service</td>\n",
       "      <td>DSL</td>\n",
       "      <td>Yes</td>\n",
       "      <td>...</td>\n",
       "      <td>Yes</td>\n",
       "      <td>Yes</td>\n",
       "      <td>No</td>\n",
       "      <td>No</td>\n",
       "      <td>One year</td>\n",
       "      <td>No</td>\n",
       "      <td>Bank transfer (automatic)</td>\n",
       "      <td>42.30</td>\n",
       "      <td>1840.75</td>\n",
       "      <td>0</td>\n",
       "    </tr>\n",
       "    <tr>\n",
       "      <th>4</th>\n",
       "      <td>9237-HQITU</td>\n",
       "      <td>Female</td>\n",
       "      <td>0</td>\n",
       "      <td>No</td>\n",
       "      <td>No</td>\n",
       "      <td>2</td>\n",
       "      <td>Yes</td>\n",
       "      <td>No</td>\n",
       "      <td>Fiber optic</td>\n",
       "      <td>No</td>\n",
       "      <td>...</td>\n",
       "      <td>No</td>\n",
       "      <td>No</td>\n",
       "      <td>No</td>\n",
       "      <td>No</td>\n",
       "      <td>Month-to-month</td>\n",
       "      <td>Yes</td>\n",
       "      <td>Electronic check</td>\n",
       "      <td>70.70</td>\n",
       "      <td>151.65</td>\n",
       "      <td>1</td>\n",
       "    </tr>\n",
       "    <tr>\n",
       "      <th>...</th>\n",
       "      <td>...</td>\n",
       "      <td>...</td>\n",
       "      <td>...</td>\n",
       "      <td>...</td>\n",
       "      <td>...</td>\n",
       "      <td>...</td>\n",
       "      <td>...</td>\n",
       "      <td>...</td>\n",
       "      <td>...</td>\n",
       "      <td>...</td>\n",
       "      <td>...</td>\n",
       "      <td>...</td>\n",
       "      <td>...</td>\n",
       "      <td>...</td>\n",
       "      <td>...</td>\n",
       "      <td>...</td>\n",
       "      <td>...</td>\n",
       "      <td>...</td>\n",
       "      <td>...</td>\n",
       "      <td>...</td>\n",
       "      <td>...</td>\n",
       "    </tr>\n",
       "    <tr>\n",
       "      <th>7038</th>\n",
       "      <td>6840-RESVB</td>\n",
       "      <td>Male</td>\n",
       "      <td>0</td>\n",
       "      <td>Yes</td>\n",
       "      <td>Yes</td>\n",
       "      <td>24</td>\n",
       "      <td>Yes</td>\n",
       "      <td>Yes</td>\n",
       "      <td>DSL</td>\n",
       "      <td>Yes</td>\n",
       "      <td>...</td>\n",
       "      <td>Yes</td>\n",
       "      <td>Yes</td>\n",
       "      <td>Yes</td>\n",
       "      <td>Yes</td>\n",
       "      <td>One year</td>\n",
       "      <td>Yes</td>\n",
       "      <td>Mailed check</td>\n",
       "      <td>84.80</td>\n",
       "      <td>1990.5</td>\n",
       "      <td>0</td>\n",
       "    </tr>\n",
       "    <tr>\n",
       "      <th>7039</th>\n",
       "      <td>2234-XADUH</td>\n",
       "      <td>Female</td>\n",
       "      <td>0</td>\n",
       "      <td>Yes</td>\n",
       "      <td>Yes</td>\n",
       "      <td>72</td>\n",
       "      <td>Yes</td>\n",
       "      <td>Yes</td>\n",
       "      <td>Fiber optic</td>\n",
       "      <td>No</td>\n",
       "      <td>...</td>\n",
       "      <td>Yes</td>\n",
       "      <td>No</td>\n",
       "      <td>Yes</td>\n",
       "      <td>Yes</td>\n",
       "      <td>One year</td>\n",
       "      <td>Yes</td>\n",
       "      <td>Credit card (automatic)</td>\n",
       "      <td>103.20</td>\n",
       "      <td>7362.9</td>\n",
       "      <td>0</td>\n",
       "    </tr>\n",
       "    <tr>\n",
       "      <th>7040</th>\n",
       "      <td>4801-JZAZL</td>\n",
       "      <td>Female</td>\n",
       "      <td>0</td>\n",
       "      <td>Yes</td>\n",
       "      <td>Yes</td>\n",
       "      <td>11</td>\n",
       "      <td>No</td>\n",
       "      <td>No phone service</td>\n",
       "      <td>DSL</td>\n",
       "      <td>Yes</td>\n",
       "      <td>...</td>\n",
       "      <td>No</td>\n",
       "      <td>No</td>\n",
       "      <td>No</td>\n",
       "      <td>No</td>\n",
       "      <td>Month-to-month</td>\n",
       "      <td>Yes</td>\n",
       "      <td>Electronic check</td>\n",
       "      <td>29.60</td>\n",
       "      <td>346.45</td>\n",
       "      <td>0</td>\n",
       "    </tr>\n",
       "    <tr>\n",
       "      <th>7041</th>\n",
       "      <td>8361-LTMKD</td>\n",
       "      <td>Male</td>\n",
       "      <td>1</td>\n",
       "      <td>Yes</td>\n",
       "      <td>No</td>\n",
       "      <td>4</td>\n",
       "      <td>Yes</td>\n",
       "      <td>Yes</td>\n",
       "      <td>Fiber optic</td>\n",
       "      <td>No</td>\n",
       "      <td>...</td>\n",
       "      <td>No</td>\n",
       "      <td>No</td>\n",
       "      <td>No</td>\n",
       "      <td>No</td>\n",
       "      <td>Month-to-month</td>\n",
       "      <td>Yes</td>\n",
       "      <td>Mailed check</td>\n",
       "      <td>74.40</td>\n",
       "      <td>306.6</td>\n",
       "      <td>1</td>\n",
       "    </tr>\n",
       "    <tr>\n",
       "      <th>7042</th>\n",
       "      <td>3186-AJIEK</td>\n",
       "      <td>Male</td>\n",
       "      <td>0</td>\n",
       "      <td>No</td>\n",
       "      <td>No</td>\n",
       "      <td>66</td>\n",
       "      <td>Yes</td>\n",
       "      <td>No</td>\n",
       "      <td>Fiber optic</td>\n",
       "      <td>Yes</td>\n",
       "      <td>...</td>\n",
       "      <td>Yes</td>\n",
       "      <td>Yes</td>\n",
       "      <td>Yes</td>\n",
       "      <td>Yes</td>\n",
       "      <td>Two year</td>\n",
       "      <td>Yes</td>\n",
       "      <td>Bank transfer (automatic)</td>\n",
       "      <td>105.65</td>\n",
       "      <td>6844.5</td>\n",
       "      <td>0</td>\n",
       "    </tr>\n",
       "  </tbody>\n",
       "</table>\n",
       "<p>7043 rows × 21 columns</p>\n",
       "</div>"
      ],
      "text/plain": [
       "      customerID  gender  SeniorCitizen Partner Dependents  tenure  \\\n",
       "0     7590-VHVEG  Female              0     Yes         No       1   \n",
       "1     5575-GNVDE    Male              0      No         No      34   \n",
       "2     3668-QPYBK    Male              0      No         No       2   \n",
       "3     7795-CFOCW    Male              0      No         No      45   \n",
       "4     9237-HQITU  Female              0      No         No       2   \n",
       "...          ...     ...            ...     ...        ...     ...   \n",
       "7038  6840-RESVB    Male              0     Yes        Yes      24   \n",
       "7039  2234-XADUH  Female              0     Yes        Yes      72   \n",
       "7040  4801-JZAZL  Female              0     Yes        Yes      11   \n",
       "7041  8361-LTMKD    Male              1     Yes         No       4   \n",
       "7042  3186-AJIEK    Male              0      No         No      66   \n",
       "\n",
       "     PhoneService     MultipleLines InternetService OnlineSecurity  ...  \\\n",
       "0              No  No phone service             DSL             No  ...   \n",
       "1             Yes                No             DSL            Yes  ...   \n",
       "2             Yes                No             DSL            Yes  ...   \n",
       "3              No  No phone service             DSL            Yes  ...   \n",
       "4             Yes                No     Fiber optic             No  ...   \n",
       "...           ...               ...             ...            ...  ...   \n",
       "7038          Yes               Yes             DSL            Yes  ...   \n",
       "7039          Yes               Yes     Fiber optic             No  ...   \n",
       "7040           No  No phone service             DSL            Yes  ...   \n",
       "7041          Yes               Yes     Fiber optic             No  ...   \n",
       "7042          Yes                No     Fiber optic            Yes  ...   \n",
       "\n",
       "     DeviceProtection TechSupport StreamingTV StreamingMovies        Contract  \\\n",
       "0                  No          No          No              No  Month-to-month   \n",
       "1                 Yes          No          No              No        One year   \n",
       "2                  No          No          No              No  Month-to-month   \n",
       "3                 Yes         Yes          No              No        One year   \n",
       "4                  No          No          No              No  Month-to-month   \n",
       "...               ...         ...         ...             ...             ...   \n",
       "7038              Yes         Yes         Yes             Yes        One year   \n",
       "7039              Yes          No         Yes             Yes        One year   \n",
       "7040               No          No          No              No  Month-to-month   \n",
       "7041               No          No          No              No  Month-to-month   \n",
       "7042              Yes         Yes         Yes             Yes        Two year   \n",
       "\n",
       "     PaperlessBilling              PaymentMethod MonthlyCharges  TotalCharges  \\\n",
       "0                 Yes           Electronic check          29.85         29.85   \n",
       "1                  No               Mailed check          56.95        1889.5   \n",
       "2                 Yes               Mailed check          53.85        108.15   \n",
       "3                  No  Bank transfer (automatic)          42.30       1840.75   \n",
       "4                 Yes           Electronic check          70.70        151.65   \n",
       "...               ...                        ...            ...           ...   \n",
       "7038              Yes               Mailed check          84.80        1990.5   \n",
       "7039              Yes    Credit card (automatic)         103.20        7362.9   \n",
       "7040              Yes           Electronic check          29.60        346.45   \n",
       "7041              Yes               Mailed check          74.40         306.6   \n",
       "7042              Yes  Bank transfer (automatic)         105.65        6844.5   \n",
       "\n",
       "     Churn  \n",
       "0        0  \n",
       "1        0  \n",
       "2        1  \n",
       "3        0  \n",
       "4        1  \n",
       "...    ...  \n",
       "7038     0  \n",
       "7039     0  \n",
       "7040     0  \n",
       "7041     1  \n",
       "7042     0  \n",
       "\n",
       "[7043 rows x 21 columns]"
      ]
     },
     "execution_count": 37,
     "metadata": {},
     "output_type": "execute_result"
    }
   ],
   "source": [
    "data"
   ]
  },
  {
   "cell_type": "markdown",
   "id": "d4747f73",
   "metadata": {},
   "source": [
    "# 1. Drop Loan_ID column"
   ]
  },
  {
   "cell_type": "code",
   "execution_count": 38,
   "id": "86d85210",
   "metadata": {},
   "outputs": [
    {
     "data": {
      "text/plain": [
       "array(['7590-VHVEG', '5575-GNVDE', '3668-QPYBK', ..., '4801-JZAZL',\n",
       "       '8361-LTMKD', '3186-AJIEK'], dtype=object)"
      ]
     },
     "execution_count": 38,
     "metadata": {},
     "output_type": "execute_result"
    }
   ],
   "source": [
    "# Check unique values of customerID column\n",
    "data['customerID'].unique()"
   ]
  },
  {
   "cell_type": "code",
   "execution_count": 39,
   "id": "167acce6",
   "metadata": {},
   "outputs": [
    {
     "data": {
      "text/plain": [
       "9447-YPTBX    1\n",
       "8445-DNBAE    1\n",
       "7396-VJUZB    1\n",
       "5133-VRSAB    1\n",
       "1682-VCOIO    1\n",
       "             ..\n",
       "0412-UCCNP    1\n",
       "2049-BAFNW    1\n",
       "7495-OOKFY    1\n",
       "3446-QDSZF    1\n",
       "2808-CHTDM    1\n",
       "Name: customerID, Length: 7043, dtype: int64"
      ]
     },
     "execution_count": 39,
     "metadata": {},
     "output_type": "execute_result"
    }
   ],
   "source": [
    "data['customerID'].value_counts()"
   ]
  },
  {
   "cell_type": "markdown",
   "id": "b300a74c",
   "metadata": {},
   "source": [
    "as we can see in customerID all values are having unique count, so we can drop that column."
   ]
  },
  {
   "cell_type": "code",
   "execution_count": 40,
   "id": "119036c2",
   "metadata": {},
   "outputs": [],
   "source": [
    "#drop customerID column\n",
    "data=data.drop(['customerID'], axis=1)"
   ]
  },
  {
   "cell_type": "markdown",
   "id": "5261f2c2",
   "metadata": {},
   "source": [
    "# 2.Gender"
   ]
  },
  {
   "cell_type": "code",
   "execution_count": 41,
   "id": "9fe24ec6",
   "metadata": {},
   "outputs": [
    {
     "data": {
      "text/plain": [
       "array(['Female', 'Male'], dtype=object)"
      ]
     },
     "execution_count": 41,
     "metadata": {},
     "output_type": "execute_result"
    }
   ],
   "source": [
    "# Check unique values of gender column\n",
    "data['gender'].unique()"
   ]
  },
  {
   "cell_type": "code",
   "execution_count": 42,
   "id": "549e671b",
   "metadata": {},
   "outputs": [
    {
     "data": {
      "text/plain": [
       "Male      3555\n",
       "Female    3488\n",
       "Name: gender, dtype: int64"
      ]
     },
     "execution_count": 42,
     "metadata": {},
     "output_type": "execute_result"
    }
   ],
   "source": [
    "data['gender'].value_counts()"
   ]
  },
  {
   "cell_type": "markdown",
   "id": "c2cb1788",
   "metadata": {},
   "source": [
    "# 3. Partner"
   ]
  },
  {
   "cell_type": "code",
   "execution_count": 43,
   "id": "2630dc14",
   "metadata": {},
   "outputs": [
    {
     "data": {
      "text/plain": [
       "array(['Yes', 'No'], dtype=object)"
      ]
     },
     "execution_count": 43,
     "metadata": {},
     "output_type": "execute_result"
    }
   ],
   "source": [
    "# Check unique values of Partner column\n",
    "data['Partner'].unique()"
   ]
  },
  {
   "cell_type": "code",
   "execution_count": 44,
   "id": "e0944acf",
   "metadata": {},
   "outputs": [
    {
     "data": {
      "text/plain": [
       "No     3641\n",
       "Yes    3402\n",
       "Name: Partner, dtype: int64"
      ]
     },
     "execution_count": 44,
     "metadata": {},
     "output_type": "execute_result"
    }
   ],
   "source": [
    "data['Partner'].value_counts()"
   ]
  },
  {
   "cell_type": "markdown",
   "id": "f3f8c89b",
   "metadata": {},
   "source": [
    "# 4.Dependents"
   ]
  },
  {
   "cell_type": "code",
   "execution_count": 45,
   "id": "909c6d0c",
   "metadata": {},
   "outputs": [
    {
     "data": {
      "text/plain": [
       "array(['No', 'Yes'], dtype=object)"
      ]
     },
     "execution_count": 45,
     "metadata": {},
     "output_type": "execute_result"
    }
   ],
   "source": [
    "# Check unique values of Dependents column\n",
    "data['Dependents'].unique()"
   ]
  },
  {
   "cell_type": "code",
   "execution_count": 46,
   "id": "6b1338b2",
   "metadata": {},
   "outputs": [
    {
     "data": {
      "text/plain": [
       "No     4933\n",
       "Yes    2110\n",
       "Name: Dependents, dtype: int64"
      ]
     },
     "execution_count": 46,
     "metadata": {},
     "output_type": "execute_result"
    }
   ],
   "source": [
    "data['Dependents'].value_counts()"
   ]
  },
  {
   "cell_type": "markdown",
   "id": "cb3744fc",
   "metadata": {},
   "source": [
    "# 5.PhoneService"
   ]
  },
  {
   "cell_type": "code",
   "execution_count": 47,
   "id": "3725c1b9",
   "metadata": {},
   "outputs": [
    {
     "data": {
      "text/plain": [
       "array(['No', 'Yes'], dtype=object)"
      ]
     },
     "execution_count": 47,
     "metadata": {},
     "output_type": "execute_result"
    }
   ],
   "source": [
    "# Check unique values of PhoneService column\n",
    "data['PhoneService'].unique()"
   ]
  },
  {
   "cell_type": "code",
   "execution_count": 48,
   "id": "ef95c4ee",
   "metadata": {},
   "outputs": [
    {
     "data": {
      "text/plain": [
       "Yes    6361\n",
       "No      682\n",
       "Name: PhoneService, dtype: int64"
      ]
     },
     "execution_count": 48,
     "metadata": {},
     "output_type": "execute_result"
    }
   ],
   "source": [
    "data['PhoneService'].value_counts()"
   ]
  },
  {
   "cell_type": "markdown",
   "id": "b53ed414",
   "metadata": {},
   "source": [
    "# 6.MultipleLines"
   ]
  },
  {
   "cell_type": "code",
   "execution_count": 49,
   "id": "8c92701b",
   "metadata": {},
   "outputs": [
    {
     "data": {
      "text/plain": [
       "array(['No phone service', 'No', 'Yes'], dtype=object)"
      ]
     },
     "execution_count": 49,
     "metadata": {},
     "output_type": "execute_result"
    }
   ],
   "source": [
    "# Check unique values of MultipleLines column\n",
    "data['MultipleLines'].unique()"
   ]
  },
  {
   "cell_type": "code",
   "execution_count": 50,
   "id": "580c5e32",
   "metadata": {},
   "outputs": [
    {
     "data": {
      "text/plain": [
       "No                  3390\n",
       "Yes                 2971\n",
       "No phone service     682\n",
       "Name: MultipleLines, dtype: int64"
      ]
     },
     "execution_count": 50,
     "metadata": {},
     "output_type": "execute_result"
    }
   ],
   "source": [
    "data['MultipleLines'].value_counts()"
   ]
  },
  {
   "cell_type": "markdown",
   "id": "25fb3bb3",
   "metadata": {},
   "source": [
    "# 7.InternetService"
   ]
  },
  {
   "cell_type": "code",
   "execution_count": 51,
   "id": "9a8bea4c",
   "metadata": {},
   "outputs": [
    {
     "data": {
      "text/plain": [
       "array(['DSL', 'Fiber optic', 'No'], dtype=object)"
      ]
     },
     "execution_count": 51,
     "metadata": {},
     "output_type": "execute_result"
    }
   ],
   "source": [
    "# Check unique values of InternetService column\n",
    "data['InternetService'].unique()"
   ]
  },
  {
   "cell_type": "code",
   "execution_count": 52,
   "id": "6d3e28de",
   "metadata": {},
   "outputs": [
    {
     "data": {
      "text/plain": [
       "Fiber optic    3096\n",
       "DSL            2421\n",
       "No             1526\n",
       "Name: InternetService, dtype: int64"
      ]
     },
     "execution_count": 52,
     "metadata": {},
     "output_type": "execute_result"
    }
   ],
   "source": [
    "data['InternetService'].value_counts()"
   ]
  },
  {
   "cell_type": "markdown",
   "id": "d7d3274a",
   "metadata": {},
   "source": [
    "# 8.OnlineSecurity"
   ]
  },
  {
   "cell_type": "code",
   "execution_count": 53,
   "id": "17638f1d",
   "metadata": {},
   "outputs": [
    {
     "data": {
      "text/plain": [
       "array(['No', 'Yes', 'No internet service'], dtype=object)"
      ]
     },
     "execution_count": 53,
     "metadata": {},
     "output_type": "execute_result"
    }
   ],
   "source": [
    "# Check unique values of OnlineSecurity column\n",
    "data['OnlineSecurity'].unique()"
   ]
  },
  {
   "cell_type": "code",
   "execution_count": 54,
   "id": "4b74eb55",
   "metadata": {},
   "outputs": [
    {
     "data": {
      "text/plain": [
       "No                     3498\n",
       "Yes                    2019\n",
       "No internet service    1526\n",
       "Name: OnlineSecurity, dtype: int64"
      ]
     },
     "execution_count": 54,
     "metadata": {},
     "output_type": "execute_result"
    }
   ],
   "source": [
    "data['OnlineSecurity'].value_counts()"
   ]
  },
  {
   "cell_type": "markdown",
   "id": "3729ba54",
   "metadata": {},
   "source": [
    "# 9.OnlineBackup\n"
   ]
  },
  {
   "cell_type": "code",
   "execution_count": 55,
   "id": "15527aca",
   "metadata": {},
   "outputs": [
    {
     "data": {
      "text/plain": [
       "array(['No', 'Yes', 'No internet service'], dtype=object)"
      ]
     },
     "execution_count": 55,
     "metadata": {},
     "output_type": "execute_result"
    }
   ],
   "source": [
    "# Check unique values of OnlineSecurity column\n",
    "data['OnlineSecurity'].unique()"
   ]
  },
  {
   "cell_type": "code",
   "execution_count": 56,
   "id": "5c9cc300",
   "metadata": {},
   "outputs": [
    {
     "data": {
      "text/plain": [
       "No                     3498\n",
       "Yes                    2019\n",
       "No internet service    1526\n",
       "Name: OnlineSecurity, dtype: int64"
      ]
     },
     "execution_count": 56,
     "metadata": {},
     "output_type": "execute_result"
    }
   ],
   "source": [
    "data['OnlineSecurity'].value_counts()"
   ]
  },
  {
   "cell_type": "markdown",
   "id": "581d6813",
   "metadata": {},
   "source": [
    "# 10. DeviceProtection"
   ]
  },
  {
   "cell_type": "code",
   "execution_count": 57,
   "id": "9b17b56a",
   "metadata": {},
   "outputs": [
    {
     "data": {
      "text/plain": [
       "array(['No', 'Yes', 'No internet service'], dtype=object)"
      ]
     },
     "execution_count": 57,
     "metadata": {},
     "output_type": "execute_result"
    }
   ],
   "source": [
    "# Check unique values of DeviceProtection column\n",
    "data['DeviceProtection'].unique()"
   ]
  },
  {
   "cell_type": "code",
   "execution_count": 58,
   "id": "a6694b7b",
   "metadata": {},
   "outputs": [
    {
     "data": {
      "text/plain": [
       "No                     3095\n",
       "Yes                    2422\n",
       "No internet service    1526\n",
       "Name: DeviceProtection, dtype: int64"
      ]
     },
     "execution_count": 58,
     "metadata": {},
     "output_type": "execute_result"
    }
   ],
   "source": [
    "data['DeviceProtection'].value_counts()"
   ]
  },
  {
   "cell_type": "markdown",
   "id": "1d7080b0",
   "metadata": {},
   "source": [
    "# 11. TechSupport"
   ]
  },
  {
   "cell_type": "code",
   "execution_count": 59,
   "id": "871d08d9",
   "metadata": {},
   "outputs": [
    {
     "data": {
      "text/plain": [
       "array(['No', 'Yes', 'No internet service'], dtype=object)"
      ]
     },
     "execution_count": 59,
     "metadata": {},
     "output_type": "execute_result"
    }
   ],
   "source": [
    "# Check unique values of TechSupport column\n",
    "data['TechSupport'].unique()"
   ]
  },
  {
   "cell_type": "code",
   "execution_count": 60,
   "id": "aae30656",
   "metadata": {},
   "outputs": [
    {
     "data": {
      "text/plain": [
       "No                     3473\n",
       "Yes                    2044\n",
       "No internet service    1526\n",
       "Name: TechSupport, dtype: int64"
      ]
     },
     "execution_count": 60,
     "metadata": {},
     "output_type": "execute_result"
    }
   ],
   "source": [
    "data['TechSupport'].value_counts()"
   ]
  },
  {
   "cell_type": "markdown",
   "id": "802e5639",
   "metadata": {},
   "source": [
    "# 12.StreamingTV"
   ]
  },
  {
   "cell_type": "code",
   "execution_count": 61,
   "id": "45579d1e",
   "metadata": {},
   "outputs": [
    {
     "data": {
      "text/plain": [
       "array(['No', 'Yes', 'No internet service'], dtype=object)"
      ]
     },
     "execution_count": 61,
     "metadata": {},
     "output_type": "execute_result"
    }
   ],
   "source": [
    "# Check unique values of StreamingTV column\n",
    "data['StreamingTV'].unique()"
   ]
  },
  {
   "cell_type": "code",
   "execution_count": 62,
   "id": "2b6990be",
   "metadata": {},
   "outputs": [
    {
     "data": {
      "text/plain": [
       "No                     2810\n",
       "Yes                    2707\n",
       "No internet service    1526\n",
       "Name: StreamingTV, dtype: int64"
      ]
     },
     "execution_count": 62,
     "metadata": {},
     "output_type": "execute_result"
    }
   ],
   "source": [
    "data['StreamingTV'].value_counts()"
   ]
  },
  {
   "cell_type": "markdown",
   "id": "ba2e9479",
   "metadata": {},
   "source": [
    "# 13.StreamingMovies"
   ]
  },
  {
   "cell_type": "code",
   "execution_count": 63,
   "id": "667608fc",
   "metadata": {},
   "outputs": [
    {
     "data": {
      "text/plain": [
       "array(['No', 'Yes', 'No internet service'], dtype=object)"
      ]
     },
     "execution_count": 63,
     "metadata": {},
     "output_type": "execute_result"
    }
   ],
   "source": [
    "# Check unique values of StreamingMovies column\n",
    "data['StreamingMovies'].unique()"
   ]
  },
  {
   "cell_type": "code",
   "execution_count": 64,
   "id": "3d85d8e5",
   "metadata": {},
   "outputs": [
    {
     "data": {
      "text/plain": [
       "No                     2785\n",
       "Yes                    2732\n",
       "No internet service    1526\n",
       "Name: StreamingMovies, dtype: int64"
      ]
     },
     "execution_count": 64,
     "metadata": {},
     "output_type": "execute_result"
    }
   ],
   "source": [
    "data['StreamingMovies'].value_counts()"
   ]
  },
  {
   "cell_type": "markdown",
   "id": "bf929f97",
   "metadata": {},
   "source": [
    "# 14.Contract"
   ]
  },
  {
   "cell_type": "code",
   "execution_count": 65,
   "id": "d784ed19",
   "metadata": {},
   "outputs": [
    {
     "data": {
      "text/plain": [
       "array(['Month-to-month', 'One year', 'Two year'], dtype=object)"
      ]
     },
     "execution_count": 65,
     "metadata": {},
     "output_type": "execute_result"
    }
   ],
   "source": [
    "# Check unique values of Contract column\n",
    "data['Contract'].unique()"
   ]
  },
  {
   "cell_type": "code",
   "execution_count": 66,
   "id": "167d80ca",
   "metadata": {},
   "outputs": [
    {
     "data": {
      "text/plain": [
       "Month-to-month    3875\n",
       "Two year          1695\n",
       "One year          1473\n",
       "Name: Contract, dtype: int64"
      ]
     },
     "execution_count": 66,
     "metadata": {},
     "output_type": "execute_result"
    }
   ],
   "source": [
    "data['Contract'].value_counts()"
   ]
  },
  {
   "cell_type": "markdown",
   "id": "6d938378",
   "metadata": {},
   "source": [
    "# 15.PaperlessBilling"
   ]
  },
  {
   "cell_type": "code",
   "execution_count": 67,
   "id": "a7bb4e6b",
   "metadata": {},
   "outputs": [
    {
     "data": {
      "text/plain": [
       "array(['Yes', 'No'], dtype=object)"
      ]
     },
     "execution_count": 67,
     "metadata": {},
     "output_type": "execute_result"
    }
   ],
   "source": [
    "# Check unique values of PaperlessBilling column\n",
    "data['PaperlessBilling'].unique()"
   ]
  },
  {
   "cell_type": "code",
   "execution_count": 68,
   "id": "e04d9acd",
   "metadata": {},
   "outputs": [
    {
     "data": {
      "text/plain": [
       "Yes    4171\n",
       "No     2872\n",
       "Name: PaperlessBilling, dtype: int64"
      ]
     },
     "execution_count": 68,
     "metadata": {},
     "output_type": "execute_result"
    }
   ],
   "source": [
    "data['PaperlessBilling'].value_counts()"
   ]
  },
  {
   "cell_type": "markdown",
   "id": "9447dda3",
   "metadata": {},
   "source": [
    "# 16. PaymentMethod"
   ]
  },
  {
   "cell_type": "code",
   "execution_count": 69,
   "id": "3e3bbd4a",
   "metadata": {},
   "outputs": [
    {
     "data": {
      "text/plain": [
       "array(['Electronic check', 'Mailed check', 'Bank transfer (automatic)',\n",
       "       'Credit card (automatic)'], dtype=object)"
      ]
     },
     "execution_count": 69,
     "metadata": {},
     "output_type": "execute_result"
    }
   ],
   "source": [
    "# Check unique values of PaymentMethod column\n",
    "data['PaymentMethod'].unique()"
   ]
  },
  {
   "cell_type": "code",
   "execution_count": 70,
   "id": "41b427a0",
   "metadata": {},
   "outputs": [
    {
     "data": {
      "text/plain": [
       "Electronic check             2365\n",
       "Mailed check                 1612\n",
       "Bank transfer (automatic)    1544\n",
       "Credit card (automatic)      1522\n",
       "Name: PaymentMethod, dtype: int64"
      ]
     },
     "execution_count": 70,
     "metadata": {},
     "output_type": "execute_result"
    }
   ],
   "source": [
    "data['PaymentMethod'].value_counts()"
   ]
  },
  {
   "cell_type": "markdown",
   "id": "5e2561bd",
   "metadata": {},
   "source": [
    "# 17. TotalCharges"
   ]
  },
  {
   "cell_type": "code",
   "execution_count": 71,
   "id": "5ed58fb6",
   "metadata": {},
   "outputs": [
    {
     "data": {
      "text/plain": [
       "array(['29.85', '1889.5', '108.15', ..., '346.45', '306.6', '6844.5'],\n",
       "      dtype=object)"
      ]
     },
     "execution_count": 71,
     "metadata": {},
     "output_type": "execute_result"
    }
   ],
   "source": [
    "# Check unique values of TotalCharges column\n",
    "data['TotalCharges'].unique()\n"
   ]
  },
  {
   "cell_type": "code",
   "execution_count": 72,
   "id": "eb19edb5",
   "metadata": {},
   "outputs": [
    {
     "data": {
      "text/plain": [
       "           11\n",
       "20.2       11\n",
       "19.75       9\n",
       "20.05       8\n",
       "19.9        8\n",
       "           ..\n",
       "861.85      1\n",
       "111.4       1\n",
       "8331.95     1\n",
       "158.95      1\n",
       "2888.7      1\n",
       "Name: TotalCharges, Length: 6531, dtype: int64"
      ]
     },
     "execution_count": 72,
     "metadata": {},
     "output_type": "execute_result"
    }
   ],
   "source": [
    "data['TotalCharges'].value_counts()"
   ]
  },
  {
   "cell_type": "markdown",
   "id": "27130c6d",
   "metadata": {},
   "source": [
    "# Encoding"
   ]
  },
  {
   "cell_type": "code",
   "execution_count": 73,
   "id": "325cf57f",
   "metadata": {},
   "outputs": [],
   "source": [
    "#import label encoder\n",
    "from sklearn.preprocessing import LabelEncoder\n",
    "le = LabelEncoder()"
   ]
  },
  {
   "cell_type": "code",
   "execution_count": 74,
   "id": "7396a3e9",
   "metadata": {},
   "outputs": [],
   "source": [
    "for i in data.columns:\n",
    "    if data[i].dtypes==\"object\":\n",
    "        data[i]=le.fit_transform(data[i].values.reshape(-1,1))"
   ]
  },
  {
   "cell_type": "code",
   "execution_count": 75,
   "id": "1462a9e0",
   "metadata": {},
   "outputs": [
    {
     "data": {
      "text/html": [
       "<div>\n",
       "<style scoped>\n",
       "    .dataframe tbody tr th:only-of-type {\n",
       "        vertical-align: middle;\n",
       "    }\n",
       "\n",
       "    .dataframe tbody tr th {\n",
       "        vertical-align: top;\n",
       "    }\n",
       "\n",
       "    .dataframe thead th {\n",
       "        text-align: right;\n",
       "    }\n",
       "</style>\n",
       "<table border=\"1\" class=\"dataframe\">\n",
       "  <thead>\n",
       "    <tr style=\"text-align: right;\">\n",
       "      <th></th>\n",
       "      <th>gender</th>\n",
       "      <th>SeniorCitizen</th>\n",
       "      <th>Partner</th>\n",
       "      <th>Dependents</th>\n",
       "      <th>tenure</th>\n",
       "      <th>PhoneService</th>\n",
       "      <th>MultipleLines</th>\n",
       "      <th>InternetService</th>\n",
       "      <th>OnlineSecurity</th>\n",
       "      <th>OnlineBackup</th>\n",
       "      <th>DeviceProtection</th>\n",
       "      <th>TechSupport</th>\n",
       "      <th>StreamingTV</th>\n",
       "      <th>StreamingMovies</th>\n",
       "      <th>Contract</th>\n",
       "      <th>PaperlessBilling</th>\n",
       "      <th>PaymentMethod</th>\n",
       "      <th>MonthlyCharges</th>\n",
       "      <th>TotalCharges</th>\n",
       "      <th>Churn</th>\n",
       "    </tr>\n",
       "  </thead>\n",
       "  <tbody>\n",
       "    <tr>\n",
       "      <th>0</th>\n",
       "      <td>0</td>\n",
       "      <td>0</td>\n",
       "      <td>1</td>\n",
       "      <td>0</td>\n",
       "      <td>1</td>\n",
       "      <td>0</td>\n",
       "      <td>1</td>\n",
       "      <td>0</td>\n",
       "      <td>0</td>\n",
       "      <td>2</td>\n",
       "      <td>0</td>\n",
       "      <td>0</td>\n",
       "      <td>0</td>\n",
       "      <td>0</td>\n",
       "      <td>0</td>\n",
       "      <td>1</td>\n",
       "      <td>2</td>\n",
       "      <td>29.85</td>\n",
       "      <td>2505</td>\n",
       "      <td>0</td>\n",
       "    </tr>\n",
       "    <tr>\n",
       "      <th>1</th>\n",
       "      <td>1</td>\n",
       "      <td>0</td>\n",
       "      <td>0</td>\n",
       "      <td>0</td>\n",
       "      <td>34</td>\n",
       "      <td>1</td>\n",
       "      <td>0</td>\n",
       "      <td>0</td>\n",
       "      <td>2</td>\n",
       "      <td>0</td>\n",
       "      <td>2</td>\n",
       "      <td>0</td>\n",
       "      <td>0</td>\n",
       "      <td>0</td>\n",
       "      <td>1</td>\n",
       "      <td>0</td>\n",
       "      <td>3</td>\n",
       "      <td>56.95</td>\n",
       "      <td>1466</td>\n",
       "      <td>0</td>\n",
       "    </tr>\n",
       "    <tr>\n",
       "      <th>2</th>\n",
       "      <td>1</td>\n",
       "      <td>0</td>\n",
       "      <td>0</td>\n",
       "      <td>0</td>\n",
       "      <td>2</td>\n",
       "      <td>1</td>\n",
       "      <td>0</td>\n",
       "      <td>0</td>\n",
       "      <td>2</td>\n",
       "      <td>2</td>\n",
       "      <td>0</td>\n",
       "      <td>0</td>\n",
       "      <td>0</td>\n",
       "      <td>0</td>\n",
       "      <td>0</td>\n",
       "      <td>1</td>\n",
       "      <td>3</td>\n",
       "      <td>53.85</td>\n",
       "      <td>157</td>\n",
       "      <td>1</td>\n",
       "    </tr>\n",
       "    <tr>\n",
       "      <th>3</th>\n",
       "      <td>1</td>\n",
       "      <td>0</td>\n",
       "      <td>0</td>\n",
       "      <td>0</td>\n",
       "      <td>45</td>\n",
       "      <td>0</td>\n",
       "      <td>1</td>\n",
       "      <td>0</td>\n",
       "      <td>2</td>\n",
       "      <td>0</td>\n",
       "      <td>2</td>\n",
       "      <td>2</td>\n",
       "      <td>0</td>\n",
       "      <td>0</td>\n",
       "      <td>1</td>\n",
       "      <td>0</td>\n",
       "      <td>0</td>\n",
       "      <td>42.30</td>\n",
       "      <td>1400</td>\n",
       "      <td>0</td>\n",
       "    </tr>\n",
       "    <tr>\n",
       "      <th>4</th>\n",
       "      <td>0</td>\n",
       "      <td>0</td>\n",
       "      <td>0</td>\n",
       "      <td>0</td>\n",
       "      <td>2</td>\n",
       "      <td>1</td>\n",
       "      <td>0</td>\n",
       "      <td>1</td>\n",
       "      <td>0</td>\n",
       "      <td>0</td>\n",
       "      <td>0</td>\n",
       "      <td>0</td>\n",
       "      <td>0</td>\n",
       "      <td>0</td>\n",
       "      <td>0</td>\n",
       "      <td>1</td>\n",
       "      <td>2</td>\n",
       "      <td>70.70</td>\n",
       "      <td>925</td>\n",
       "      <td>1</td>\n",
       "    </tr>\n",
       "    <tr>\n",
       "      <th>...</th>\n",
       "      <td>...</td>\n",
       "      <td>...</td>\n",
       "      <td>...</td>\n",
       "      <td>...</td>\n",
       "      <td>...</td>\n",
       "      <td>...</td>\n",
       "      <td>...</td>\n",
       "      <td>...</td>\n",
       "      <td>...</td>\n",
       "      <td>...</td>\n",
       "      <td>...</td>\n",
       "      <td>...</td>\n",
       "      <td>...</td>\n",
       "      <td>...</td>\n",
       "      <td>...</td>\n",
       "      <td>...</td>\n",
       "      <td>...</td>\n",
       "      <td>...</td>\n",
       "      <td>...</td>\n",
       "      <td>...</td>\n",
       "    </tr>\n",
       "    <tr>\n",
       "      <th>7038</th>\n",
       "      <td>1</td>\n",
       "      <td>0</td>\n",
       "      <td>1</td>\n",
       "      <td>1</td>\n",
       "      <td>24</td>\n",
       "      <td>1</td>\n",
       "      <td>2</td>\n",
       "      <td>0</td>\n",
       "      <td>2</td>\n",
       "      <td>0</td>\n",
       "      <td>2</td>\n",
       "      <td>2</td>\n",
       "      <td>2</td>\n",
       "      <td>2</td>\n",
       "      <td>1</td>\n",
       "      <td>1</td>\n",
       "      <td>3</td>\n",
       "      <td>84.80</td>\n",
       "      <td>1597</td>\n",
       "      <td>0</td>\n",
       "    </tr>\n",
       "    <tr>\n",
       "      <th>7039</th>\n",
       "      <td>0</td>\n",
       "      <td>0</td>\n",
       "      <td>1</td>\n",
       "      <td>1</td>\n",
       "      <td>72</td>\n",
       "      <td>1</td>\n",
       "      <td>2</td>\n",
       "      <td>1</td>\n",
       "      <td>0</td>\n",
       "      <td>2</td>\n",
       "      <td>2</td>\n",
       "      <td>0</td>\n",
       "      <td>2</td>\n",
       "      <td>2</td>\n",
       "      <td>1</td>\n",
       "      <td>1</td>\n",
       "      <td>1</td>\n",
       "      <td>103.20</td>\n",
       "      <td>5698</td>\n",
       "      <td>0</td>\n",
       "    </tr>\n",
       "    <tr>\n",
       "      <th>7040</th>\n",
       "      <td>0</td>\n",
       "      <td>0</td>\n",
       "      <td>1</td>\n",
       "      <td>1</td>\n",
       "      <td>11</td>\n",
       "      <td>0</td>\n",
       "      <td>1</td>\n",
       "      <td>0</td>\n",
       "      <td>2</td>\n",
       "      <td>0</td>\n",
       "      <td>0</td>\n",
       "      <td>0</td>\n",
       "      <td>0</td>\n",
       "      <td>0</td>\n",
       "      <td>0</td>\n",
       "      <td>1</td>\n",
       "      <td>2</td>\n",
       "      <td>29.60</td>\n",
       "      <td>2994</td>\n",
       "      <td>0</td>\n",
       "    </tr>\n",
       "    <tr>\n",
       "      <th>7041</th>\n",
       "      <td>1</td>\n",
       "      <td>1</td>\n",
       "      <td>1</td>\n",
       "      <td>0</td>\n",
       "      <td>4</td>\n",
       "      <td>1</td>\n",
       "      <td>2</td>\n",
       "      <td>1</td>\n",
       "      <td>0</td>\n",
       "      <td>0</td>\n",
       "      <td>0</td>\n",
       "      <td>0</td>\n",
       "      <td>0</td>\n",
       "      <td>0</td>\n",
       "      <td>0</td>\n",
       "      <td>1</td>\n",
       "      <td>3</td>\n",
       "      <td>74.40</td>\n",
       "      <td>2660</td>\n",
       "      <td>1</td>\n",
       "    </tr>\n",
       "    <tr>\n",
       "      <th>7042</th>\n",
       "      <td>1</td>\n",
       "      <td>0</td>\n",
       "      <td>0</td>\n",
       "      <td>0</td>\n",
       "      <td>66</td>\n",
       "      <td>1</td>\n",
       "      <td>0</td>\n",
       "      <td>1</td>\n",
       "      <td>2</td>\n",
       "      <td>0</td>\n",
       "      <td>2</td>\n",
       "      <td>2</td>\n",
       "      <td>2</td>\n",
       "      <td>2</td>\n",
       "      <td>2</td>\n",
       "      <td>1</td>\n",
       "      <td>0</td>\n",
       "      <td>105.65</td>\n",
       "      <td>5407</td>\n",
       "      <td>0</td>\n",
       "    </tr>\n",
       "  </tbody>\n",
       "</table>\n",
       "<p>7043 rows × 20 columns</p>\n",
       "</div>"
      ],
      "text/plain": [
       "      gender  SeniorCitizen  Partner  Dependents  tenure  PhoneService  \\\n",
       "0          0              0        1           0       1             0   \n",
       "1          1              0        0           0      34             1   \n",
       "2          1              0        0           0       2             1   \n",
       "3          1              0        0           0      45             0   \n",
       "4          0              0        0           0       2             1   \n",
       "...      ...            ...      ...         ...     ...           ...   \n",
       "7038       1              0        1           1      24             1   \n",
       "7039       0              0        1           1      72             1   \n",
       "7040       0              0        1           1      11             0   \n",
       "7041       1              1        1           0       4             1   \n",
       "7042       1              0        0           0      66             1   \n",
       "\n",
       "      MultipleLines  InternetService  OnlineSecurity  OnlineBackup  \\\n",
       "0                 1                0               0             2   \n",
       "1                 0                0               2             0   \n",
       "2                 0                0               2             2   \n",
       "3                 1                0               2             0   \n",
       "4                 0                1               0             0   \n",
       "...             ...              ...             ...           ...   \n",
       "7038              2                0               2             0   \n",
       "7039              2                1               0             2   \n",
       "7040              1                0               2             0   \n",
       "7041              2                1               0             0   \n",
       "7042              0                1               2             0   \n",
       "\n",
       "      DeviceProtection  TechSupport  StreamingTV  StreamingMovies  Contract  \\\n",
       "0                    0            0            0                0         0   \n",
       "1                    2            0            0                0         1   \n",
       "2                    0            0            0                0         0   \n",
       "3                    2            2            0                0         1   \n",
       "4                    0            0            0                0         0   \n",
       "...                ...          ...          ...              ...       ...   \n",
       "7038                 2            2            2                2         1   \n",
       "7039                 2            0            2                2         1   \n",
       "7040                 0            0            0                0         0   \n",
       "7041                 0            0            0                0         0   \n",
       "7042                 2            2            2                2         2   \n",
       "\n",
       "      PaperlessBilling  PaymentMethod  MonthlyCharges  TotalCharges  Churn  \n",
       "0                    1              2           29.85          2505      0  \n",
       "1                    0              3           56.95          1466      0  \n",
       "2                    1              3           53.85           157      1  \n",
       "3                    0              0           42.30          1400      0  \n",
       "4                    1              2           70.70           925      1  \n",
       "...                ...            ...             ...           ...    ...  \n",
       "7038                 1              3           84.80          1597      0  \n",
       "7039                 1              1          103.20          5698      0  \n",
       "7040                 1              2           29.60          2994      0  \n",
       "7041                 1              3           74.40          2660      1  \n",
       "7042                 1              0          105.65          5407      0  \n",
       "\n",
       "[7043 rows x 20 columns]"
      ]
     },
     "execution_count": 75,
     "metadata": {},
     "output_type": "execute_result"
    }
   ],
   "source": [
    "data"
   ]
  },
  {
   "cell_type": "markdown",
   "id": "6ba1e478",
   "metadata": {},
   "source": [
    "# Visualization of all input variables correlation with targate variable"
   ]
  },
  {
   "cell_type": "code",
   "execution_count": 76,
   "id": "9783bdd4",
   "metadata": {},
   "outputs": [
    {
     "data": {
      "image/png": "[encoded data removed]",
      "text/plain": [
       "<Figure size 1584x504 with 1 Axes>"
      ]
     },
     "metadata": {
      "needs_background": "light"
     },
     "output_type": "display_data"
    }
   ],
   "source": [
    "plt.figure(figsize=(22,7))\n",
    "data.corr()['Churn'].sort_values(ascending = False).drop(['Churn']).plot(kind = 'bar', color = 'y')\n",
    "plt.xlabel('Feature', fontsize = 15)\n",
    "plt.ylabel('Churn', fontsize = 15)\n",
    "plt.title('correlation', fontsize = 20)\n",
    "plt.show()"
   ]
  },
  {
   "cell_type": "markdown",
   "id": "b080c5d7",
   "metadata": {},
   "source": [
    "# Check the skewness and remove that"
   ]
  },
  {
   "cell_type": "code",
   "execution_count": 77,
   "id": "49a42f4e",
   "metadata": {},
   "outputs": [
    {
     "data": {
      "text/plain": [
       "gender             -0.019031\n",
       "SeniorCitizen       1.833633\n",
       "Partner             0.067922\n",
       "Dependents          0.875199\n",
       "tenure              0.239540\n",
       "PhoneService       -2.727153\n",
       "MultipleLines       0.118719\n",
       "InternetService     0.205423\n",
       "OnlineSecurity      0.416985\n",
       "OnlineBackup        0.182930\n",
       "DeviceProtection    0.186847\n",
       "TechSupport         0.402365\n",
       "StreamingTV         0.028486\n",
       "StreamingMovies     0.014657\n",
       "Contract            0.630959\n",
       "PaperlessBilling   -0.375396\n",
       "PaymentMethod      -0.170129\n",
       "MonthlyCharges     -0.220524\n",
       "TotalCharges        0.015857\n",
       "Churn               1.063031\n",
       "dtype: float64"
      ]
     },
     "execution_count": 77,
     "metadata": {},
     "output_type": "execute_result"
    }
   ],
   "source": [
    "data.skew()"
   ]
  },
  {
   "cell_type": "markdown",
   "id": "506c30a8",
   "metadata": {},
   "source": [
    "As we see there are no variables are skewed, whoes value is not lies between -0.5 to +0.5 this range as well as they are contineous in nature."
   ]
  },
  {
   "cell_type": "markdown",
   "id": "451e8374",
   "metadata": {},
   "source": [
    "Check outliers datatype. If data types of skewed column is catogorical than no need to remove skewness from that variable.\n"
   ]
  },
  {
   "cell_type": "markdown",
   "id": "788ca60d",
   "metadata": {},
   "source": [
    "# Seprating the columns into featuers and target:"
   ]
  },
  {
   "cell_type": "markdown",
   "id": "a55610b5",
   "metadata": {},
   "source": [
    "X= features, y=Target\n"
   ]
  },
  {
   "cell_type": "code",
   "execution_count": 78,
   "id": "983cc6da",
   "metadata": {},
   "outputs": [],
   "source": [
    "x = data.drop(columns = 'Churn', axis=1)\n",
    "y = data['Churn']"
   ]
  },
  {
   "cell_type": "code",
   "execution_count": 79,
   "id": "54324a1c",
   "metadata": {},
   "outputs": [],
   "source": [
    "#import Libraries\n",
    "from sklearn.preprocessing import StandardScaler\n",
    "\n",
    "ss = StandardScaler()\n",
    "x_scaled = ss.fit_transform(x)"
   ]
  },
  {
   "cell_type": "markdown",
   "id": "489028f2",
   "metadata": {},
   "source": [
    "# Sampling"
   ]
  },
  {
   "cell_type": "code",
   "execution_count": 80,
   "id": "7ab456e8",
   "metadata": {},
   "outputs": [
    {
     "data": {
      "text/plain": [
       "0    5174\n",
       "1    1869\n",
       "Name: Churn, dtype: int64"
      ]
     },
     "execution_count": 80,
     "metadata": {},
     "output_type": "execute_result"
    }
   ],
   "source": [
    "y.value_counts()"
   ]
  },
  {
   "cell_type": "code",
   "execution_count": 81,
   "id": "aebbcde2",
   "metadata": {},
   "outputs": [
    {
     "data": {
      "image/png": "[encoded data removed]",
      "text/plain": [
       "<Figure size 432x288 with 1 Axes>"
      ]
     },
     "metadata": {
      "needs_background": "light"
     },
     "output_type": "display_data"
    }
   ],
   "source": [
    "#visualization of target variable \n",
    "sn.countplot(data[\"Churn\"])\n",
    "plt.show()"
   ]
  },
  {
   "cell_type": "markdown",
   "id": "d1e0fa5b",
   "metadata": {},
   "source": [
    "As we can see there is class imbalance in target varibale, so we need to balance that with sampling otherwise the model will get bias."
   ]
  },
  {
   "cell_type": "markdown",
   "id": "1eebdb62",
   "metadata": {},
   "source": [
    "# Oversampling"
   ]
  },
  {
   "cell_type": "code",
   "execution_count": 82,
   "id": "95c67045",
   "metadata": {},
   "outputs": [
    {
     "name": "stdout",
     "output_type": "stream",
     "text": [
      "0    5174\n",
      "1    5174\n",
      "Name: Churn, dtype: int64\n"
     ]
    }
   ],
   "source": [
    "from imblearn.over_sampling import RandomOverSampler  #Random Over Sampler\n",
    "ROS = RandomOverSampler()\n",
    "x_res, y_res = ROS.fit_resample(x_scaled, y) # it will resample the data\n",
    "print(y_res.value_counts()) # after this all classes will be balaned"
   ]
  },
  {
   "cell_type": "code",
   "execution_count": 83,
   "id": "a3a1e86f",
   "metadata": {},
   "outputs": [
    {
     "data": {
      "text/plain": [
       "0    5174\n",
       "1    5174\n",
       "Name: Churn, dtype: int64"
      ]
     },
     "execution_count": 83,
     "metadata": {},
     "output_type": "execute_result"
    }
   ],
   "source": [
    "y_res.value_counts()"
   ]
  },
  {
   "cell_type": "code",
   "execution_count": 84,
   "id": "96697924",
   "metadata": {},
   "outputs": [
    {
     "data": {
      "image/png": "[encoded data removed]",
      "text/plain": [
       "<Figure size 432x288 with 1 Axes>"
      ]
     },
     "metadata": {
      "needs_background": "light"
     },
     "output_type": "display_data"
    }
   ],
   "source": [
    "#visualization of target variable \n",
    "sn.countplot(y_res)\n",
    "plt.show()"
   ]
  },
  {
   "cell_type": "markdown",
   "id": "150e87d0",
   "metadata": {},
   "source": [
    "# Variance inflation factor"
   ]
  },
  {
   "cell_type": "code",
   "execution_count": 85,
   "id": "e33f5903",
   "metadata": {},
   "outputs": [
    {
     "data": {
      "text/html": [
       "<div>\n",
       "<style scoped>\n",
       "    .dataframe tbody tr th:only-of-type {\n",
       "        vertical-align: middle;\n",
       "    }\n",
       "\n",
       "    .dataframe tbody tr th {\n",
       "        vertical-align: top;\n",
       "    }\n",
       "\n",
       "    .dataframe thead th {\n",
       "        text-align: right;\n",
       "    }\n",
       "</style>\n",
       "<table border=\"1\" class=\"dataframe\">\n",
       "  <thead>\n",
       "    <tr style=\"text-align: right;\">\n",
       "      <th></th>\n",
       "      <th>vif</th>\n",
       "      <th>Features</th>\n",
       "    </tr>\n",
       "  </thead>\n",
       "  <tbody>\n",
       "    <tr>\n",
       "      <th>0</th>\n",
       "      <td>1.005187</td>\n",
       "      <td>gender</td>\n",
       "    </tr>\n",
       "    <tr>\n",
       "      <th>1</th>\n",
       "      <td>1.151099</td>\n",
       "      <td>SeniorCitizen</td>\n",
       "    </tr>\n",
       "    <tr>\n",
       "      <th>2</th>\n",
       "      <td>1.465927</td>\n",
       "      <td>Partner</td>\n",
       "    </tr>\n",
       "    <tr>\n",
       "      <th>3</th>\n",
       "      <td>1.387511</td>\n",
       "      <td>Dependents</td>\n",
       "    </tr>\n",
       "    <tr>\n",
       "      <th>4</th>\n",
       "      <td>2.924703</td>\n",
       "      <td>tenure</td>\n",
       "    </tr>\n",
       "    <tr>\n",
       "      <th>5</th>\n",
       "      <td>1.747826</td>\n",
       "      <td>PhoneService</td>\n",
       "    </tr>\n",
       "    <tr>\n",
       "      <th>6</th>\n",
       "      <td>1.384722</td>\n",
       "      <td>MultipleLines</td>\n",
       "    </tr>\n",
       "    <tr>\n",
       "      <th>7</th>\n",
       "      <td>1.690889</td>\n",
       "      <td>InternetService</td>\n",
       "    </tr>\n",
       "    <tr>\n",
       "      <th>8</th>\n",
       "      <td>1.299510</td>\n",
       "      <td>OnlineSecurity</td>\n",
       "    </tr>\n",
       "    <tr>\n",
       "      <th>9</th>\n",
       "      <td>1.215521</td>\n",
       "      <td>OnlineBackup</td>\n",
       "    </tr>\n",
       "    <tr>\n",
       "      <th>10</th>\n",
       "      <td>1.278147</td>\n",
       "      <td>DeviceProtection</td>\n",
       "    </tr>\n",
       "    <tr>\n",
       "      <th>11</th>\n",
       "      <td>1.364876</td>\n",
       "      <td>TechSupport</td>\n",
       "    </tr>\n",
       "    <tr>\n",
       "      <th>12</th>\n",
       "      <td>1.461227</td>\n",
       "      <td>StreamingTV</td>\n",
       "    </tr>\n",
       "    <tr>\n",
       "      <th>13</th>\n",
       "      <td>1.437842</td>\n",
       "      <td>StreamingMovies</td>\n",
       "    </tr>\n",
       "    <tr>\n",
       "      <th>14</th>\n",
       "      <td>2.623942</td>\n",
       "      <td>Contract</td>\n",
       "    </tr>\n",
       "    <tr>\n",
       "      <th>15</th>\n",
       "      <td>1.212482</td>\n",
       "      <td>PaperlessBilling</td>\n",
       "    </tr>\n",
       "    <tr>\n",
       "      <th>16</th>\n",
       "      <td>1.178484</td>\n",
       "      <td>PaymentMethod</td>\n",
       "    </tr>\n",
       "    <tr>\n",
       "      <th>17</th>\n",
       "      <td>2.738557</td>\n",
       "      <td>MonthlyCharges</td>\n",
       "    </tr>\n",
       "    <tr>\n",
       "      <th>18</th>\n",
       "      <td>1.078669</td>\n",
       "      <td>TotalCharges</td>\n",
       "    </tr>\n",
       "  </tbody>\n",
       "</table>\n",
       "</div>"
      ],
      "text/plain": [
       "         vif          Features\n",
       "0   1.005187            gender\n",
       "1   1.151099     SeniorCitizen\n",
       "2   1.465927           Partner\n",
       "3   1.387511        Dependents\n",
       "4   2.924703            tenure\n",
       "5   1.747826      PhoneService\n",
       "6   1.384722     MultipleLines\n",
       "7   1.690889   InternetService\n",
       "8   1.299510    OnlineSecurity\n",
       "9   1.215521      OnlineBackup\n",
       "10  1.278147  DeviceProtection\n",
       "11  1.364876       TechSupport\n",
       "12  1.461227       StreamingTV\n",
       "13  1.437842   StreamingMovies\n",
       "14  2.623942          Contract\n",
       "15  1.212482  PaperlessBilling\n",
       "16  1.178484     PaymentMethod\n",
       "17  2.738557    MonthlyCharges\n",
       "18  1.078669      TotalCharges"
      ]
     },
     "execution_count": 85,
     "metadata": {},
     "output_type": "execute_result"
    }
   ],
   "source": [
    "from statsmodels.stats.outliers_influence import variance_inflation_factor\n",
    "\n",
    "vif = pd.DataFrame()\n",
    "vif[\"vif\"] = [variance_inflation_factor(x_res, i) for i in range(x_res.shape[1])]\n",
    "vif[\"Features\"] = x.columns\n",
    "\n",
    "#lets check the values\n",
    "vif"
   ]
  },
  {
   "cell_type": "markdown",
   "id": "fbe78430",
   "metadata": {},
   "source": [
    "as we have saw in the table vif value is not greater than 5, so we can proceed further."
   ]
  },
  {
   "cell_type": "markdown",
   "id": "dd3f117e",
   "metadata": {},
   "source": [
    "# Finding best random state"
   ]
  },
  {
   "cell_type": "code",
   "execution_count": 86,
   "id": "6f4c635a",
   "metadata": {},
   "outputs": [],
   "source": [
    "from sklearn.model_selection import train_test_split\n",
    "from sklearn.metrics import accuracy_score"
   ]
  },
  {
   "cell_type": "code",
   "execution_count": 87,
   "id": "2361f37f",
   "metadata": {},
   "outputs": [
    {
     "name": "stdout",
     "output_type": "stream",
     "text": [
      "Best accuracy is  0.8731078904991948 on Random_state  100\n"
     ]
    }
   ],
   "source": [
    "from sklearn.tree import DecisionTreeClassifier\n",
    "maxAccu = 0\n",
    "maxRS = 0\n",
    "for i in range(1,200):\n",
    "    x_train, x_test, y_train, y_test = train_test_split(x_res,y_res, test_size=.30, random_state=i)\n",
    "    mod= DecisionTreeClassifier()\n",
    "    mod.fit(x_train, y_train)\n",
    "    pred = mod.predict(x_test)\n",
    "    acc=accuracy_score(y_test, pred)\n",
    "    if acc>maxAccu:\n",
    "        maxAccu=acc\n",
    "        maxRS=i\n",
    "print(\"Best accuracy is \",maxAccu, \"on Random_state \", maxRS)"
   ]
  },
  {
   "cell_type": "code",
   "execution_count": 89,
   "id": "b3837909",
   "metadata": {},
   "outputs": [],
   "source": [
    "x_train,x_test,y_train,y_test = train_test_split(x_res, y_res, test_size=0.25, random_state = 100)"
   ]
  },
  {
   "cell_type": "markdown",
   "id": "eb0fd78c",
   "metadata": {},
   "source": [
    "# 1.Logistic Regression Model"
   ]
  },
  {
   "cell_type": "code",
   "execution_count": 90,
   "id": "28110616",
   "metadata": {},
   "outputs": [
    {
     "data": {
      "text/plain": [
       "LogisticRegression()"
      ]
     },
     "execution_count": 90,
     "metadata": {},
     "output_type": "execute_result"
    }
   ],
   "source": [
    "from sklearn.linear_model import LogisticRegression\n",
    "from sklearn.metrics import confusion_matrix\n",
    "from sklearn.metrics import classification_report\n",
    "\n",
    "Log_reg =LogisticRegression()\n",
    "Log_reg.fit(x_train, y_train)"
   ]
  },
  {
   "cell_type": "code",
   "execution_count": 91,
   "id": "03426973",
   "metadata": {},
   "outputs": [],
   "source": [
    "pred_test=Log_reg.predict(x_test)"
   ]
  },
  {
   "cell_type": "code",
   "execution_count": 92,
   "id": "9955f8e9",
   "metadata": {},
   "outputs": [
    {
     "name": "stdout",
     "output_type": "stream",
     "text": [
      "0.7738693467336684\n",
      "[[ 955  346]\n",
      " [ 239 1047]]\n",
      "              precision    recall  f1-score   support\n",
      "\n",
      "           0       0.80      0.73      0.77      1301\n",
      "           1       0.75      0.81      0.78      1286\n",
      "\n",
      "    accuracy                           0.77      2587\n",
      "   macro avg       0.78      0.77      0.77      2587\n",
      "weighted avg       0.78      0.77      0.77      2587\n",
      "\n"
     ]
    }
   ],
   "source": [
    "print(accuracy_score(y_test,pred_test))\n",
    "print(confusion_matrix(y_test,pred_test))\n",
    "print(classification_report(y_test,pred_test))"
   ]
  },
  {
   "cell_type": "code",
   "execution_count": 93,
   "id": "311f36e9",
   "metadata": {},
   "outputs": [
    {
     "data": {
      "text/plain": [
       "0.7624672004258866"
      ]
     },
     "execution_count": 93,
     "metadata": {},
     "output_type": "execute_result"
    }
   ],
   "source": [
    "from sklearn.model_selection import cross_val_score\n",
    "cv_score= cross_val_score(Log_reg, x_res, y_res, cv=5)\n",
    "cv_mean=cv_score.mean()\n",
    "cv_mean"
   ]
  },
  {
   "cell_type": "markdown",
   "id": "69fa0dbd",
   "metadata": {},
   "source": [
    "The Accuracy score for logistic regression model is : 77.38%\n",
    "Cross validation score for logistic regression is : 76.24%\n"
   ]
  },
  {
   "cell_type": "markdown",
   "id": "8016b30f",
   "metadata": {},
   "source": [
    "# 2.Random forest Classifier"
   ]
  },
  {
   "cell_type": "code",
   "execution_count": 94,
   "id": "9804abbc",
   "metadata": {},
   "outputs": [
    {
     "name": "stdout",
     "output_type": "stream",
     "text": [
      "{'criterion': 'entropy', 'max_features': 'sqrt'}\n"
     ]
    }
   ],
   "source": [
    "from sklearn.model_selection import GridSearchCV\n",
    "from sklearn.ensemble import RandomForestClassifier\n",
    "\n",
    "parameters ={'criterion':['gini', 'entropy'], 'max_features':[\"auto\",\"sqrt\",\"log2\"]}\n",
    "Rfr= RandomForestClassifier()\n",
    "clf =GridSearchCV(Rfr, parameters)\n",
    "clf.fit(x_train, y_train)\n",
    "\n",
    "print(clf.best_params_)"
   ]
  },
  {
   "cell_type": "code",
   "execution_count": 95,
   "id": "4bf93651",
   "metadata": {},
   "outputs": [
    {
     "name": "stdout",
     "output_type": "stream",
     "text": [
      "accuracy score:  90.14302280633939\n",
      "Cross Val Score:  89.08015065628489\n"
     ]
    }
   ],
   "source": [
    "Rfr =RandomForestClassifier(criterion = \"gini\", max_features=\"auto\")\n",
    "Rfr.fit(x_train, y_train)\n",
    "Rfr.score(x_train, y_train)\n",
    "pred_decision = Rfr.predict(x_test)\n",
    "\n",
    "Rfrs = accuracy_score(y_test,pred_decision)\n",
    "print('accuracy score: ',Rfrs*100)\n",
    "\n",
    "Rfrscore = cross_val_score(Rfr, x_res, y_res, cv=3)\n",
    "Rfrc = Rfrscore.mean()\n",
    "print('Cross Val Score: ',Rfrc*100)"
   ]
  },
  {
   "cell_type": "markdown",
   "id": "259e45f8",
   "metadata": {},
   "source": [
    "The Accuracy score for Random Forest Classifier model is : 90.14%\n",
    "Cross validation score for Random Forest Classifier is : 89.08%"
   ]
  },
  {
   "cell_type": "markdown",
   "id": "1493af42",
   "metadata": {},
   "source": [
    "# 3.Decision Tree Classifier"
   ]
  },
  {
   "cell_type": "code",
   "execution_count": 96,
   "id": "6fb7c705",
   "metadata": {},
   "outputs": [
    {
     "data": {
      "text/plain": [
       "DecisionTreeClassifier()"
      ]
     },
     "execution_count": 96,
     "metadata": {},
     "output_type": "execute_result"
    }
   ],
   "source": [
    "from sklearn.tree import DecisionTreeClassifier\n",
    "\n",
    "DT = DecisionTreeClassifier()\n",
    "DT.fit(x_train, y_train)"
   ]
  },
  {
   "cell_type": "code",
   "execution_count": 97,
   "id": "50b1434e",
   "metadata": {},
   "outputs": [
    {
     "name": "stdout",
     "output_type": "stream",
     "text": [
      "0.872825666795516\n"
     ]
    }
   ],
   "source": [
    "pred_DT = DT.predict(x_test)\n",
    "print(accuracy_score(y_test,pred_DT))"
   ]
  },
  {
   "cell_type": "code",
   "execution_count": 98,
   "id": "4cf1e64e",
   "metadata": {},
   "outputs": [
    {
     "name": "stdout",
     "output_type": "stream",
     "text": [
      "[[1057  244]\n",
      " [  85 1201]]\n",
      "              precision    recall  f1-score   support\n",
      "\n",
      "           0       0.93      0.81      0.87      1301\n",
      "           1       0.83      0.93      0.88      1286\n",
      "\n",
      "    accuracy                           0.87      2587\n",
      "   macro avg       0.88      0.87      0.87      2587\n",
      "weighted avg       0.88      0.87      0.87      2587\n",
      "\n"
     ]
    }
   ],
   "source": [
    "print(confusion_matrix(y_test,pred_DT))\n",
    "print(classification_report(y_test,pred_DT))"
   ]
  },
  {
   "cell_type": "code",
   "execution_count": 99,
   "id": "d09247ac",
   "metadata": {},
   "outputs": [
    {
     "data": {
      "text/plain": [
       "0.8735045285477125"
      ]
     },
     "execution_count": 99,
     "metadata": {},
     "output_type": "execute_result"
    }
   ],
   "source": [
    "from sklearn.model_selection import cross_val_score\n",
    "cv_score= cross_val_score(DT, x_res, y_res, cv=5)\n",
    "cv_mean=cv_score.mean()\n",
    "cv_mean"
   ]
  },
  {
   "cell_type": "markdown",
   "id": "459fcf38",
   "metadata": {},
   "source": [
    "The Accuracy score for Decision tree Classifier model is : 87.28%\n",
    "Cross validation score for Decision tree Classifier is : 87.35%"
   ]
  },
  {
   "cell_type": "markdown",
   "id": "bf1a6be5",
   "metadata": {},
   "source": [
    "# 4.Support vector Classifier"
   ]
  },
  {
   "cell_type": "code",
   "execution_count": 100,
   "id": "14446bd2",
   "metadata": {},
   "outputs": [
    {
     "data": {
      "text/plain": [
       "SVC()"
      ]
     },
     "execution_count": 100,
     "metadata": {},
     "output_type": "execute_result"
    }
   ],
   "source": [
    "from sklearn.svm import SVC\n",
    "\n",
    "sv = SVC()\n",
    "sv.fit(x_train, y_train)"
   ]
  },
  {
   "cell_type": "code",
   "execution_count": 101,
   "id": "a5b69533",
   "metadata": {},
   "outputs": [
    {
     "name": "stdout",
     "output_type": "stream",
     "text": [
      "0.7889447236180904\n"
     ]
    }
   ],
   "source": [
    "pred_sv = sv.predict(x_test)\n",
    "print(accuracy_score(y_test,pred_sv))"
   ]
  },
  {
   "cell_type": "code",
   "execution_count": 102,
   "id": "263884aa",
   "metadata": {},
   "outputs": [
    {
     "name": "stdout",
     "output_type": "stream",
     "text": [
      "[[ 962  339]\n",
      " [ 207 1079]]\n",
      "              precision    recall  f1-score   support\n",
      "\n",
      "           0       0.82      0.74      0.78      1301\n",
      "           1       0.76      0.84      0.80      1286\n",
      "\n",
      "    accuracy                           0.79      2587\n",
      "   macro avg       0.79      0.79      0.79      2587\n",
      "weighted avg       0.79      0.79      0.79      2587\n",
      "\n"
     ]
    }
   ],
   "source": [
    "print(confusion_matrix(y_test,pred_sv))\n",
    "print(classification_report(y_test,pred_sv))"
   ]
  },
  {
   "cell_type": "code",
   "execution_count": 103,
   "id": "5bb3873a",
   "metadata": {},
   "outputs": [
    {
     "data": {
      "text/plain": [
       "0.7850811262646428"
      ]
     },
     "execution_count": 103,
     "metadata": {},
     "output_type": "execute_result"
    }
   ],
   "source": [
    "cv_score= cross_val_score(sv, x_res, y_res, cv=5)\n",
    "cv_mean=cv_score.mean()\n",
    "cv_mean"
   ]
  },
  {
   "cell_type": "markdown",
   "id": "5c531ae5",
   "metadata": {},
   "source": [
    "The Accuracy score for SVC model is : 78.89%\n",
    "\n",
    "Cross validation score for SVC is : 78.50%"
   ]
  },
  {
   "cell_type": "markdown",
   "id": "1c8d7a5e",
   "metadata": {},
   "source": [
    "# Comparison of all model"
   ]
  },
  {
   "cell_type": "markdown",
   "id": "7a366e2b",
   "metadata": {},
   "source": [
    "The difference between Cross validation score and logistic regression model is: 1.14%\n",
    "\n",
    "The difference between Cross validation score and Random Forest Classifier model is: 0.06%\n",
    "\n",
    "The difference between Cross validation score and Decision tree Classifier model is: 0.07%\n",
    "    \n",
    "The difference between Cross validation score and SVC model is: 0.39%"
   ]
  },
  {
   "cell_type": "markdown",
   "id": "897f6955",
   "metadata": {},
   "source": [
    "# As shown above Random Forest Classifier having minimum low difference so we choose this model for Hyperparameter tuning"
   ]
  },
  {
   "cell_type": "markdown",
   "id": "f6f0e2a3",
   "metadata": {},
   "source": [
    "# Hyper parameter tunning"
   ]
  },
  {
   "cell_type": "code",
   "execution_count": 104,
   "id": "8e30aa0f",
   "metadata": {},
   "outputs": [],
   "source": [
    "#Random forest Classifier\n",
    "\n",
    "Parameters = {'n_estimators' : [200, 700],\n",
    "              'max_features' : ['auto', 'sqrt', 'log2'],\n",
    "              'max_depth' : [4, 5, 6, 7, 8],\n",
    "              'criterion' : ['gini', 'entropy']}\n"
   ]
  },
  {
   "cell_type": "code",
   "execution_count": 105,
   "id": "36512732",
   "metadata": {},
   "outputs": [],
   "source": [
    "GCV=GridSearchCV(RandomForestClassifier(),Parameters,cv=5)"
   ]
  },
  {
   "cell_type": "code",
   "execution_count": 106,
   "id": "cd5406f0",
   "metadata": {},
   "outputs": [
    {
     "data": {
      "text/plain": [
       "GridSearchCV(cv=5, estimator=RandomForestClassifier(),\n",
       "             param_grid={'criterion': ['gini', 'entropy'],\n",
       "                         'max_depth': [4, 5, 6, 7, 8],\n",
       "                         'max_features': ['auto', 'sqrt', 'log2'],\n",
       "                         'n_estimators': [200, 700]})"
      ]
     },
     "execution_count": 106,
     "metadata": {},
     "output_type": "execute_result"
    }
   ],
   "source": [
    "GCV.fit(x_train, y_train)"
   ]
  },
  {
   "cell_type": "code",
   "execution_count": 107,
   "id": "f801e976",
   "metadata": {},
   "outputs": [
    {
     "data": {
      "text/plain": [
       "{'criterion': 'gini',\n",
       " 'max_depth': 8,\n",
       " 'max_features': 'log2',\n",
       " 'n_estimators': 200}"
      ]
     },
     "execution_count": 107,
     "metadata": {},
     "output_type": "execute_result"
    }
   ],
   "source": [
    "GCV.best_params_ # printing the best parameters found by GridSearchCV"
   ]
  },
  {
   "cell_type": "markdown",
   "id": "404273be",
   "metadata": {},
   "source": [
    "# Final Model"
   ]
  },
  {
   "cell_type": "code",
   "execution_count": 112,
   "id": "7cabcb4a",
   "metadata": {},
   "outputs": [
    {
     "name": "stdout",
     "output_type": "stream",
     "text": [
      "82.18013142636258\n"
     ]
    }
   ],
   "source": [
    "mod = RandomForestClassifier(criterion= 'gini', max_depth= 8, max_features= 'auto', n_estimators= 700)\n",
    "\n",
    "mod.fit(x_train, y_train)\n",
    "pred =mod.predict(x_test)\n",
    "print(accuracy_score(y_test, pred)*100)"
   ]
  },
  {
   "cell_type": "markdown",
   "id": "d7505195",
   "metadata": {},
   "source": [
    "# after hyper parameter tunning accuracy score is: 82.29%"
   ]
  },
  {
   "cell_type": "markdown",
   "id": "2b386426",
   "metadata": {},
   "source": [
    "# Boosting of model with adaboost"
   ]
  },
  {
   "cell_type": "code",
   "execution_count": 113,
   "id": "3537d6ee",
   "metadata": {},
   "outputs": [],
   "source": [
    "from sklearn.ensemble import AdaBoostClassifier\n",
    "ada = AdaBoostClassifier()"
   ]
  },
  {
   "cell_type": "code",
   "execution_count": 114,
   "id": "1557e95b",
   "metadata": {},
   "outputs": [],
   "source": [
    "ada.fit(x_train, y_train)\n",
    "y_pred = ada.predict(x_train)"
   ]
  },
  {
   "cell_type": "code",
   "execution_count": 116,
   "id": "3aaf3a43",
   "metadata": {},
   "outputs": [
    {
     "name": "stdout",
     "output_type": "stream",
     "text": [
      "accuracy square score 0.770390413606494\n"
     ]
    }
   ],
   "source": [
    "from sklearn import metrics\n",
    "print('accuracy square score', metrics.accuracy_score(y_train, y_pred))"
   ]
  },
  {
   "cell_type": "markdown",
   "id": "61ecf79c",
   "metadata": {},
   "source": [
    "# ROC AUC curve to choose best model"
   ]
  },
  {
   "cell_type": "code",
   "execution_count": 117,
   "id": "f4031974",
   "metadata": {},
   "outputs": [],
   "source": [
    "# plot ROC/AUC for multiple models\n",
    "\n",
    "from sklearn.linear_model import LogisticRegression\n",
    "from sklearn.ensemble import RandomForestClassifier\n",
    "from sklearn.tree import DecisionTreeClassifier\n",
    "from sklearn.svm import SVC\n",
    "from sklearn.metrics import roc_curve, roc_auc_score\n",
    "from sklearn.metrics import plot_roc_curve"
   ]
  },
  {
   "cell_type": "code",
   "execution_count": 118,
   "id": "6a5c4026",
   "metadata": {},
   "outputs": [],
   "source": [
    "lr = LogisticRegression()\n",
    "rf = RandomForestClassifier()\n",
    "dt = DecisionTreeClassifier()\n",
    "sv = SVC()"
   ]
  },
  {
   "cell_type": "code",
   "execution_count": 119,
   "id": "2c62ac64",
   "metadata": {},
   "outputs": [
    {
     "name": "stdout",
     "output_type": "stream",
     "text": [
      "Now all models are trained\n"
     ]
    }
   ],
   "source": [
    "#train all classifiers\n",
    "lr.fit(x_train, y_train)\n",
    "rf.fit(x_train, y_train)\n",
    "dt.fit(x_train, y_train)\n",
    "sv.fit(x_train, y_train)\n",
    "\n",
    "print(\"Now all models are trained\")"
   ]
  },
  {
   "cell_type": "code",
   "execution_count": 120,
   "id": "981c1411",
   "metadata": {},
   "outputs": [
    {
     "name": "stdout",
     "output_type": "stream",
     "text": [
      "all model test score captured\n"
     ]
    }
   ],
   "source": [
    "#All model score captured\n",
    "\n",
    "lr.score(x_train, y_train)\n",
    "rf.score(x_train, y_train)\n",
    "dt.score(x_train, y_train)\n",
    "sv.score(x_train, y_train)\n",
    "\n",
    "print(\"all model test score captured\")"
   ]
  },
  {
   "cell_type": "markdown",
   "id": "0580cdf1",
   "metadata": {},
   "source": [
    "# find ROC AUC Score"
   ]
  },
  {
   "cell_type": "code",
   "execution_count": 121,
   "id": "5103bdf1",
   "metadata": {},
   "outputs": [
    {
     "data": {
      "text/plain": [
       "0.7741015703914801"
      ]
     },
     "execution_count": 121,
     "metadata": {},
     "output_type": "execute_result"
    }
   ],
   "source": [
    "#logistic Regression\n",
    "roc_auc_score(y_test, lr.predict(x_test))"
   ]
  },
  {
   "cell_type": "code",
   "execution_count": 122,
   "id": "650842a8",
   "metadata": {},
   "outputs": [
    {
     "data": {
      "text/plain": [
       "0.9017608778030538"
      ]
     },
     "execution_count": 122,
     "metadata": {},
     "output_type": "execute_result"
    }
   ],
   "source": [
    "# Random Forest Classifier\n",
    "roc_auc_score(y_test, rf.predict(x_test))"
   ]
  },
  {
   "cell_type": "code",
   "execution_count": 123,
   "id": "dad7aeb3",
   "metadata": {},
   "outputs": [
    {
     "data": {
      "text/plain": [
       "0.8712472042680414"
      ]
     },
     "execution_count": 123,
     "metadata": {},
     "output_type": "execute_result"
    }
   ],
   "source": [
    "#Decision Tree Classifier\n",
    "roc_auc_score(y_test, dt.predict(x_test))"
   ]
  },
  {
   "cell_type": "code",
   "execution_count": 124,
   "id": "fc80df4b",
   "metadata": {},
   "outputs": [
    {
     "data": {
      "text/plain": [
       "0.7892334882964772"
      ]
     },
     "execution_count": 124,
     "metadata": {},
     "output_type": "execute_result"
    }
   ],
   "source": [
    "#SVC\n",
    "roc_auc_score(y_test, sv.predict(x_test))"
   ]
  },
  {
   "cell_type": "markdown",
   "id": "5d04ef4b",
   "metadata": {},
   "source": [
    "# Ploting AUC ROC curve"
   ]
  },
  {
   "cell_type": "code",
   "execution_count": 125,
   "id": "f713b73b",
   "metadata": {},
   "outputs": [
    {
     "data": {
      "image/png": "[encoded data removed]",
      "text/plain": [
       "<Figure size 432x288 with 1 Axes>"
      ]
     },
     "metadata": {
      "needs_background": "light"
     },
     "output_type": "display_data"
    }
   ],
   "source": [
    "disp = plot_roc_curve(dt, x_test, y_test)\n",
    "\n",
    "plot_roc_curve(lr, x_test, y_test, ax=disp.ax_)\n",
    "\n",
    "plot_roc_curve(rf, x_test, y_test, ax=disp.ax_)\n",
    "\n",
    "plot_roc_curve(dt, x_test, y_test, ax=disp.ax_)\n",
    "\n",
    "plot_roc_curve(sv, x_test, y_test, ax=disp.ax_)\n",
    "\n",
    "plt.legend(prop = {'size':11}, loc='lower right')\n",
    "\n",
    "plt.show()"
   ]
  },
  {
   "cell_type": "markdown",
   "id": "81ae05e4",
   "metadata": {},
   "source": [
    "# Saving the model"
   ]
  },
  {
   "cell_type": "code",
   "execution_count": 126,
   "id": "cdc66856",
   "metadata": {},
   "outputs": [
    {
     "data": {
      "text/plain": [
       "['CustomerChurnAna.pkl']"
      ]
     },
     "execution_count": 126,
     "metadata": {},
     "output_type": "execute_result"
    }
   ],
   "source": [
    "import joblib\n",
    "joblib.dump(mod,\"CustomerChurnAna.pkl\")"
   ]
  },
  {
   "cell_type": "markdown",
   "id": "152ee2fa",
   "metadata": {},
   "source": [
    "# Loding model"
   ]
  },
  {
   "cell_type": "code",
   "execution_count": 127,
   "id": "2d520396",
   "metadata": {},
   "outputs": [],
   "source": [
    "model = joblib.load(\"CustomerChurnAna.pkl\")"
   ]
  },
  {
   "cell_type": "code",
   "execution_count": 128,
   "id": "8c8612b2",
   "metadata": {},
   "outputs": [],
   "source": [
    "prediction = model.predict(x_test)\n"
   ]
  },
  {
   "cell_type": "code",
   "execution_count": 129,
   "id": "9c570cdf",
   "metadata": {},
   "outputs": [],
   "source": [
    "prediction=pd.DataFrame(prediction)\n",
    "#converted into data frame"
   ]
  },
  {
   "cell_type": "code",
   "execution_count": 130,
   "id": "7b0da654",
   "metadata": {},
   "outputs": [],
   "source": [
    "prediction.to_csv('CustomerChurnAnaResults.csv', index = False)\n",
    "#prediction saving"
   ]
  },
  {
   "cell_type": "markdown",
   "id": "8afd5726",
   "metadata": {},
   "source": [
    "# Model Saved"
   ]
  }
 ],
 "metadata": {
  "kernelspec": {
   "display_name": "Python 3",
   "language": "python",
   "name": "python3"
  },
  "language_info": {
   "codemirror_mode": {
    "name": "ipython",
    "version": 3
   },
   "file_extension": ".py",
   "mimetype": "text/x-python",
   "name": "python",
   "nbconvert_exporter": "python",
   "pygments_lexer": "ipython3",
   "version": "3.8.8"
  }
 },
 "nbformat": 4,
 "nbformat_minor": 5
}
