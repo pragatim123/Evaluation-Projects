{
 "cells": [
  {
   "cell_type": "markdown",
   "id": "a045ee70",
   "metadata": {},
   "source": [
    "# Flight Price Prediction Project\n"
   ]
  },
  {
   "cell_type": "markdown",
   "id": "271bc648",
   "metadata": {},
   "source": [
    "# Importing Neccessary libraries"
   ]
  },
  {
   "cell_type": "code",
   "execution_count": 6,
   "id": "588015f5",
   "metadata": {},
   "outputs": [],
   "source": [
    "import pandas as pd\n",
    "import numpy as np\n",
    "from sklearn.preprocessing import StandardScaler\n",
    "from sklearn.linear_model import LinearRegression\n",
    "from sklearn.model_selection import train_test_split\n",
    "import statsmodels.api as sm\n",
    "import matplotlib.pyplot as plt\n",
    "import seaborn as sn\n",
    "\n",
    "import warnings\n",
    "warnings.filterwarnings(\"ignore\")"
   ]
  },
  {
   "cell_type": "markdown",
   "id": "98c7104d",
   "metadata": {},
   "source": [
    "# Importing dataset\n"
   ]
  },
  {
   "cell_type": "markdown",
   "id": "776cacd0",
   "metadata": {},
   "source": [
    "As according to question statement there are two datasets available in problem statement and they are: 1.train 2.test. So, first import train data set and than import test dataset."
   ]
  },
  {
   "cell_type": "markdown",
   "id": "15aaebf6",
   "metadata": {},
   "source": [
    "Importing train data set as a df1"
   ]
  },
  {
   "cell_type": "code",
   "execution_count": 8,
   "id": "ef1480b7",
   "metadata": {},
   "outputs": [
    {
     "data": {
      "text/html": [
       "<div>\n",
       "<style scoped>\n",
       "    .dataframe tbody tr th:only-of-type {\n",
       "        vertical-align: middle;\n",
       "    }\n",
       "\n",
       "    .dataframe tbody tr th {\n",
       "        vertical-align: top;\n",
       "    }\n",
       "\n",
       "    .dataframe thead th {\n",
       "        text-align: right;\n",
       "    }\n",
       "</style>\n",
       "<table border=\"1\" class=\"dataframe\">\n",
       "  <thead>\n",
       "    <tr style=\"text-align: right;\">\n",
       "      <th></th>\n",
       "      <th>Airline</th>\n",
       "      <th>Date_of_Journey</th>\n",
       "      <th>Source</th>\n",
       "      <th>Destination</th>\n",
       "      <th>Route</th>\n",
       "      <th>Dep_Time</th>\n",
       "      <th>Arrival_Time</th>\n",
       "      <th>Duration</th>\n",
       "      <th>Total_Stops</th>\n",
       "      <th>Additional_Info</th>\n",
       "      <th>Price</th>\n",
       "    </tr>\n",
       "  </thead>\n",
       "  <tbody>\n",
       "    <tr>\n",
       "      <th>0</th>\n",
       "      <td>IndiGo</td>\n",
       "      <td>24/03/2019</td>\n",
       "      <td>Banglore</td>\n",
       "      <td>New Delhi</td>\n",
       "      <td>BLR → DEL</td>\n",
       "      <td>22:20</td>\n",
       "      <td>01:10 22 Mar</td>\n",
       "      <td>2h 50m</td>\n",
       "      <td>non-stop</td>\n",
       "      <td>No info</td>\n",
       "      <td>3897</td>\n",
       "    </tr>\n",
       "    <tr>\n",
       "      <th>1</th>\n",
       "      <td>Air India</td>\n",
       "      <td>1/05/2019</td>\n",
       "      <td>Kolkata</td>\n",
       "      <td>Banglore</td>\n",
       "      <td>CCU → IXR → BBI → BLR</td>\n",
       "      <td>05:50</td>\n",
       "      <td>13:15</td>\n",
       "      <td>7h 25m</td>\n",
       "      <td>2 stops</td>\n",
       "      <td>No info</td>\n",
       "      <td>7662</td>\n",
       "    </tr>\n",
       "    <tr>\n",
       "      <th>2</th>\n",
       "      <td>Jet Airways</td>\n",
       "      <td>9/06/2019</td>\n",
       "      <td>Delhi</td>\n",
       "      <td>Cochin</td>\n",
       "      <td>DEL → LKO → BOM → COK</td>\n",
       "      <td>09:25</td>\n",
       "      <td>04:25 10 Jun</td>\n",
       "      <td>19h</td>\n",
       "      <td>2 stops</td>\n",
       "      <td>No info</td>\n",
       "      <td>13882</td>\n",
       "    </tr>\n",
       "    <tr>\n",
       "      <th>3</th>\n",
       "      <td>IndiGo</td>\n",
       "      <td>12/05/2019</td>\n",
       "      <td>Kolkata</td>\n",
       "      <td>Banglore</td>\n",
       "      <td>CCU → NAG → BLR</td>\n",
       "      <td>18:05</td>\n",
       "      <td>23:30</td>\n",
       "      <td>5h 25m</td>\n",
       "      <td>1 stop</td>\n",
       "      <td>No info</td>\n",
       "      <td>6218</td>\n",
       "    </tr>\n",
       "    <tr>\n",
       "      <th>4</th>\n",
       "      <td>IndiGo</td>\n",
       "      <td>01/03/2019</td>\n",
       "      <td>Banglore</td>\n",
       "      <td>New Delhi</td>\n",
       "      <td>BLR → NAG → DEL</td>\n",
       "      <td>16:50</td>\n",
       "      <td>21:35</td>\n",
       "      <td>4h 45m</td>\n",
       "      <td>1 stop</td>\n",
       "      <td>No info</td>\n",
       "      <td>13302</td>\n",
       "    </tr>\n",
       "    <tr>\n",
       "      <th>...</th>\n",
       "      <td>...</td>\n",
       "      <td>...</td>\n",
       "      <td>...</td>\n",
       "      <td>...</td>\n",
       "      <td>...</td>\n",
       "      <td>...</td>\n",
       "      <td>...</td>\n",
       "      <td>...</td>\n",
       "      <td>...</td>\n",
       "      <td>...</td>\n",
       "      <td>...</td>\n",
       "    </tr>\n",
       "    <tr>\n",
       "      <th>10678</th>\n",
       "      <td>Air Asia</td>\n",
       "      <td>9/04/2019</td>\n",
       "      <td>Kolkata</td>\n",
       "      <td>Banglore</td>\n",
       "      <td>CCU → BLR</td>\n",
       "      <td>19:55</td>\n",
       "      <td>22:25</td>\n",
       "      <td>2h 30m</td>\n",
       "      <td>non-stop</td>\n",
       "      <td>No info</td>\n",
       "      <td>4107</td>\n",
       "    </tr>\n",
       "    <tr>\n",
       "      <th>10679</th>\n",
       "      <td>Air India</td>\n",
       "      <td>27/04/2019</td>\n",
       "      <td>Kolkata</td>\n",
       "      <td>Banglore</td>\n",
       "      <td>CCU → BLR</td>\n",
       "      <td>20:45</td>\n",
       "      <td>23:20</td>\n",
       "      <td>2h 35m</td>\n",
       "      <td>non-stop</td>\n",
       "      <td>No info</td>\n",
       "      <td>4145</td>\n",
       "    </tr>\n",
       "    <tr>\n",
       "      <th>10680</th>\n",
       "      <td>Jet Airways</td>\n",
       "      <td>27/04/2019</td>\n",
       "      <td>Banglore</td>\n",
       "      <td>Delhi</td>\n",
       "      <td>BLR → DEL</td>\n",
       "      <td>08:20</td>\n",
       "      <td>11:20</td>\n",
       "      <td>3h</td>\n",
       "      <td>non-stop</td>\n",
       "      <td>No info</td>\n",
       "      <td>7229</td>\n",
       "    </tr>\n",
       "    <tr>\n",
       "      <th>10681</th>\n",
       "      <td>Vistara</td>\n",
       "      <td>01/03/2019</td>\n",
       "      <td>Banglore</td>\n",
       "      <td>New Delhi</td>\n",
       "      <td>BLR → DEL</td>\n",
       "      <td>11:30</td>\n",
       "      <td>14:10</td>\n",
       "      <td>2h 40m</td>\n",
       "      <td>non-stop</td>\n",
       "      <td>No info</td>\n",
       "      <td>12648</td>\n",
       "    </tr>\n",
       "    <tr>\n",
       "      <th>10682</th>\n",
       "      <td>Air India</td>\n",
       "      <td>9/05/2019</td>\n",
       "      <td>Delhi</td>\n",
       "      <td>Cochin</td>\n",
       "      <td>DEL → GOI → BOM → COK</td>\n",
       "      <td>10:55</td>\n",
       "      <td>19:15</td>\n",
       "      <td>8h 20m</td>\n",
       "      <td>2 stops</td>\n",
       "      <td>No info</td>\n",
       "      <td>11753</td>\n",
       "    </tr>\n",
       "  </tbody>\n",
       "</table>\n",
       "<p>10683 rows × 11 columns</p>\n",
       "</div>"
      ],
      "text/plain": [
       "           Airline Date_of_Journey    Source Destination  \\\n",
       "0           IndiGo      24/03/2019  Banglore   New Delhi   \n",
       "1        Air India       1/05/2019   Kolkata    Banglore   \n",
       "2      Jet Airways       9/06/2019     Delhi      Cochin   \n",
       "3           IndiGo      12/05/2019   Kolkata    Banglore   \n",
       "4           IndiGo      01/03/2019  Banglore   New Delhi   \n",
       "...            ...             ...       ...         ...   \n",
       "10678     Air Asia       9/04/2019   Kolkata    Banglore   \n",
       "10679    Air India      27/04/2019   Kolkata    Banglore   \n",
       "10680  Jet Airways      27/04/2019  Banglore       Delhi   \n",
       "10681      Vistara      01/03/2019  Banglore   New Delhi   \n",
       "10682    Air India       9/05/2019     Delhi      Cochin   \n",
       "\n",
       "                       Route Dep_Time  Arrival_Time Duration Total_Stops  \\\n",
       "0                  BLR → DEL    22:20  01:10 22 Mar   2h 50m    non-stop   \n",
       "1      CCU → IXR → BBI → BLR    05:50         13:15   7h 25m     2 stops   \n",
       "2      DEL → LKO → BOM → COK    09:25  04:25 10 Jun      19h     2 stops   \n",
       "3            CCU → NAG → BLR    18:05         23:30   5h 25m      1 stop   \n",
       "4            BLR → NAG → DEL    16:50         21:35   4h 45m      1 stop   \n",
       "...                      ...      ...           ...      ...         ...   \n",
       "10678              CCU → BLR    19:55         22:25   2h 30m    non-stop   \n",
       "10679              CCU → BLR    20:45         23:20   2h 35m    non-stop   \n",
       "10680              BLR → DEL    08:20         11:20       3h    non-stop   \n",
       "10681              BLR → DEL    11:30         14:10   2h 40m    non-stop   \n",
       "10682  DEL → GOI → BOM → COK    10:55         19:15   8h 20m     2 stops   \n",
       "\n",
       "      Additional_Info  Price  \n",
       "0             No info   3897  \n",
       "1             No info   7662  \n",
       "2             No info  13882  \n",
       "3             No info   6218  \n",
       "4             No info  13302  \n",
       "...               ...    ...  \n",
       "10678         No info   4107  \n",
       "10679         No info   4145  \n",
       "10680         No info   7229  \n",
       "10681         No info  12648  \n",
       "10682         No info  11753  \n",
       "\n",
       "[10683 rows x 11 columns]"
      ]
     },
     "execution_count": 8,
     "metadata": {},
     "output_type": "execute_result"
    }
   ],
   "source": [
    "df1=pd.read_csv(\"Data_Train.csv\")\n",
    "df1"
   ]
  },
  {
   "cell_type": "markdown",
   "id": "882d54f6",
   "metadata": {},
   "source": [
    "# Type of problem"
   ]
  },
  {
   "cell_type": "markdown",
   "id": "b34bb9a6",
   "metadata": {},
   "source": [
    "STATEMENT: Flight ticket prices can be something hard to guess, today we might see a price, check out the price of the same flight tomorrow, it will be a different story. We might have often heard travellers saying that flight ticket prices are so unpredictable. Here you will be provided with prices of flight tickets for various airlines between the months of March and June of 2019 and between various cities.\n",
    "\n",
    "So this problem is regression problem finding continous values\n"
   ]
  },
  {
   "cell_type": "code",
   "execution_count": 9,
   "id": "926a0751",
   "metadata": {},
   "outputs": [
    {
     "data": {
      "text/plain": [
       "(10683, 11)"
      ]
     },
     "execution_count": 9,
     "metadata": {},
     "output_type": "execute_result"
    }
   ],
   "source": [
    "df1.shape#shape of data"
   ]
  },
  {
   "cell_type": "markdown",
   "id": "25bd7425",
   "metadata": {},
   "source": [
    "# Detailed description df1"
   ]
  },
  {
   "cell_type": "code",
   "execution_count": 10,
   "id": "65307039",
   "metadata": {},
   "outputs": [
    {
     "data": {
      "text/html": [
       "<div>\n",
       "<style scoped>\n",
       "    .dataframe tbody tr th:only-of-type {\n",
       "        vertical-align: middle;\n",
       "    }\n",
       "\n",
       "    .dataframe tbody tr th {\n",
       "        vertical-align: top;\n",
       "    }\n",
       "\n",
       "    .dataframe thead th {\n",
       "        text-align: right;\n",
       "    }\n",
       "</style>\n",
       "<table border=\"1\" class=\"dataframe\">\n",
       "  <thead>\n",
       "    <tr style=\"text-align: right;\">\n",
       "      <th></th>\n",
       "      <th>Price</th>\n",
       "    </tr>\n",
       "  </thead>\n",
       "  <tbody>\n",
       "    <tr>\n",
       "      <th>count</th>\n",
       "      <td>10683.000000</td>\n",
       "    </tr>\n",
       "    <tr>\n",
       "      <th>mean</th>\n",
       "      <td>9087.064121</td>\n",
       "    </tr>\n",
       "    <tr>\n",
       "      <th>std</th>\n",
       "      <td>4611.359167</td>\n",
       "    </tr>\n",
       "    <tr>\n",
       "      <th>min</th>\n",
       "      <td>1759.000000</td>\n",
       "    </tr>\n",
       "    <tr>\n",
       "      <th>25%</th>\n",
       "      <td>5277.000000</td>\n",
       "    </tr>\n",
       "    <tr>\n",
       "      <th>50%</th>\n",
       "      <td>8372.000000</td>\n",
       "    </tr>\n",
       "    <tr>\n",
       "      <th>75%</th>\n",
       "      <td>12373.000000</td>\n",
       "    </tr>\n",
       "    <tr>\n",
       "      <th>max</th>\n",
       "      <td>79512.000000</td>\n",
       "    </tr>\n",
       "  </tbody>\n",
       "</table>\n",
       "</div>"
      ],
      "text/plain": [
       "              Price\n",
       "count  10683.000000\n",
       "mean    9087.064121\n",
       "std     4611.359167\n",
       "min     1759.000000\n",
       "25%     5277.000000\n",
       "50%     8372.000000\n",
       "75%    12373.000000\n",
       "max    79512.000000"
      ]
     },
     "execution_count": 10,
     "metadata": {},
     "output_type": "execute_result"
    }
   ],
   "source": [
    "df1.describe()#describe data"
   ]
  },
  {
   "cell_type": "markdown",
   "id": "e2f0f2d8",
   "metadata": {},
   "source": [
    "We can see the detailed description of all the rows and columns like count, mean value, standard deviation, minimum and maximum values."
   ]
  },
  {
   "cell_type": "markdown",
   "id": "3a797361",
   "metadata": {},
   "source": [
    "# Datatypes of all columns in df1\n"
   ]
  },
  {
   "cell_type": "code",
   "execution_count": 11,
   "id": "5a7965b2",
   "metadata": {},
   "outputs": [
    {
     "data": {
      "text/plain": [
       "Airline            object\n",
       "Date_of_Journey    object\n",
       "Source             object\n",
       "Destination        object\n",
       "Route              object\n",
       "Dep_Time           object\n",
       "Arrival_Time       object\n",
       "Duration           object\n",
       "Total_Stops        object\n",
       "Additional_Info    object\n",
       "Price               int64\n",
       "dtype: object"
      ]
     },
     "execution_count": 11,
     "metadata": {},
     "output_type": "execute_result"
    }
   ],
   "source": [
    "df1.dtypes#datatypes"
   ]
  },
  {
   "cell_type": "markdown",
   "id": "efdd4dfb",
   "metadata": {},
   "source": [
    "Some columns are having object datatypes :Airline, Date_of_Journey, Source, Destination, Route, Dep_Time, Arrival_Time, Duration, Total_Stops, Additional_Info.\n",
    "\n",
    "and only one column is having integer data type : Price,\n",
    "\n",
    "Price is a target variable."
   ]
  },
  {
   "cell_type": "markdown",
   "id": "8e0457ab",
   "metadata": {},
   "source": [
    "# Checking is there any null value in train dataset df1"
   ]
  },
  {
   "cell_type": "code",
   "execution_count": 12,
   "id": "0c3415c0",
   "metadata": {},
   "outputs": [
    {
     "data": {
      "text/plain": [
       "Airline            0\n",
       "Date_of_Journey    0\n",
       "Source             0\n",
       "Destination        0\n",
       "Route              1\n",
       "Dep_Time           0\n",
       "Arrival_Time       0\n",
       "Duration           0\n",
       "Total_Stops        1\n",
       "Additional_Info    0\n",
       "Price              0\n",
       "dtype: int64"
      ]
     },
     "execution_count": 12,
     "metadata": {},
     "output_type": "execute_result"
    }
   ],
   "source": [
    "#check is there any null value present in any column\n",
    "\n",
    "df1.isnull().sum()"
   ]
  },
  {
   "cell_type": "markdown",
   "id": "e1cb6b10",
   "metadata": {},
   "source": [
    "There are two columns are having missing data in it.\n",
    "\n",
    "Total_Stops 1\n",
    "\n",
    "Route 1"
   ]
  },
  {
   "cell_type": "markdown",
   "id": "ebe7c9df",
   "metadata": {},
   "source": [
    "# Visualization of null values"
   ]
  },
  {
   "cell_type": "code",
   "execution_count": 13,
   "id": "de30939a",
   "metadata": {},
   "outputs": [
    {
     "data": {
      "image/png": "[encoded data removed]",
      "text/plain": [
       "<Figure size 1152x432 with 2 Axes>"
      ]
     },
     "metadata": {
      "needs_background": "light"
     },
     "output_type": "display_data"
    }
   ],
   "source": [
    "plt.figure(figsize=[16,6])\n",
    "sn.heatmap(df1.isnull())\n",
    "plt.title(\"NULL VALUES\")\n",
    "plt.show()"
   ]
  },
  {
   "cell_type": "markdown",
   "id": "a8b554e0",
   "metadata": {},
   "source": [
    "there is only two columns which are having null value."
   ]
  },
  {
   "cell_type": "markdown",
   "id": "487887a6",
   "metadata": {},
   "source": [
    "# EDA (Exploratory Data Analysis)"
   ]
  },
  {
   "cell_type": "markdown",
   "id": "dae6d194",
   "metadata": {},
   "source": [
    "# Visualization (Uni Variate analysis)"
   ]
  },
  {
   "cell_type": "markdown",
   "id": "939141da",
   "metadata": {},
   "source": [
    "Uni variate analysis works with only one variable, hence it is called uni variate."
   ]
  },
  {
   "cell_type": "code",
   "execution_count": 14,
   "id": "4800cf37",
   "metadata": {},
   "outputs": [
    {
     "data": {
      "image/png": "[encoded data removed]",
      "text/plain": [
       "<Figure size 432x288 with 1 Axes>"
      ]
     },
     "metadata": {
      "needs_background": "light"
     },
     "output_type": "display_data"
    }
   ],
   "source": [
    "#visualization of variables \n",
    "sn.countplot(df1[\"Airline\"])\n",
    "plt.show()"
   ]
  },
  {
   "cell_type": "code",
   "execution_count": 15,
   "id": "db262e4a",
   "metadata": {},
   "outputs": [
    {
     "data": {
      "image/png": "[encoded data removed]",
      "text/plain": [
       "<Figure size 432x288 with 1 Axes>"
      ]
     },
     "metadata": {
      "needs_background": "light"
     },
     "output_type": "display_data"
    }
   ],
   "source": [
    "#visualization of variables \n",
    "sn.countplot(df1[\"Date_of_Journey\"])\n",
    "plt.show()"
   ]
  },
  {
   "cell_type": "code",
   "execution_count": 16,
   "id": "a7f2eded",
   "metadata": {},
   "outputs": [
    {
     "data": {
      "image/png": "[encoded data removed]",
      "text/plain": [
       "<Figure size 432x288 with 1 Axes>"
      ]
     },
     "metadata": {
      "needs_background": "light"
     },
     "output_type": "display_data"
    }
   ],
   "source": [
    "#visualization of variables \n",
    "sn.countplot(df1[\"Source\"])\n",
    "plt.show()"
   ]
  },
  {
   "cell_type": "code",
   "execution_count": 17,
   "id": "367ba06e",
   "metadata": {},
   "outputs": [
    {
     "data": {
      "image/png": "[encoded data removed]",
      "text/plain": [
       "<Figure size 432x288 with 1 Axes>"
      ]
     },
     "metadata": {
      "needs_background": "light"
     },
     "output_type": "display_data"
    }
   ],
   "source": [
    "#visualization of variables \n",
    "sn.countplot(df1[\"Destination\"])\n",
    "plt.show()"
   ]
  },
  {
   "cell_type": "code",
   "execution_count": 18,
   "id": "ac38b0bc",
   "metadata": {},
   "outputs": [
    {
     "data": {
      "image/png": "[encoded data removed]",
      "text/plain": [
       "<Figure size 432x288 with 1 Axes>"
      ]
     },
     "metadata": {
      "needs_background": "light"
     },
     "output_type": "display_data"
    }
   ],
   "source": [
    "#visualization of variables \n",
    "sn.countplot(df1[\"Route\"])\n",
    "plt.show()\n"
   ]
  },
  {
   "cell_type": "code",
   "execution_count": 19,
   "id": "1261b989",
   "metadata": {},
   "outputs": [
    {
     "data": {
      "image/png": "[encoded data removed]",
      "text/plain": [
       "<Figure size 432x288 with 1 Axes>"
      ]
     },
     "metadata": {
      "needs_background": "light"
     },
     "output_type": "display_data"
    }
   ],
   "source": [
    "#visualization of variables \n",
    "sn.countplot(df1[\"Dep_Time\"])\n",
    "plt.show()"
   ]
  },
  {
   "cell_type": "code",
   "execution_count": 20,
   "id": "ebaca949",
   "metadata": {},
   "outputs": [
    {
     "data": {
      "image/png": "[encoded data removed]",
      "text/plain": [
       "<Figure size 432x288 with 1 Axes>"
      ]
     },
     "metadata": {
      "needs_background": "light"
     },
     "output_type": "display_data"
    }
   ],
   "source": [
    "#visualization of variables \n",
    "sn.countplot(df1[\"Arrival_Time\"])\n",
    "plt.show()"
   ]
  },
  {
   "cell_type": "code",
   "execution_count": 21,
   "id": "2083d35a",
   "metadata": {},
   "outputs": [
    {
     "data": {
      "image/png": "[encoded data removed]",
      "text/plain": [
       "<Figure size 432x288 with 1 Axes>"
      ]
     },
     "metadata": {
      "needs_background": "light"
     },
     "output_type": "display_data"
    }
   ],
   "source": [
    "#visualization of variables \n",
    "sn.countplot(df1[\"Duration\"])\n",
    "plt.show()"
   ]
  },
  {
   "cell_type": "code",
   "execution_count": 22,
   "id": "01c83c32",
   "metadata": {},
   "outputs": [
    {
     "data": {
      "image/png": "[encoded data removed]",
      "text/plain": [
       "<Figure size 432x288 with 1 Axes>"
      ]
     },
     "metadata": {
      "needs_background": "light"
     },
     "output_type": "display_data"
    }
   ],
   "source": [
    "#visualization of variables \n",
    "sn.countplot(df1[\"Total_Stops\"])\n",
    "plt.show()"
   ]
  },
  {
   "cell_type": "code",
   "execution_count": 23,
   "id": "e302e6d4",
   "metadata": {},
   "outputs": [
    {
     "data": {
      "image/png": "[encoded data removed]",
      "text/plain": [
       "<Figure size 432x288 with 1 Axes>"
      ]
     },
     "metadata": {
      "needs_background": "light"
     },
     "output_type": "display_data"
    }
   ],
   "source": [
    "#visualization of variables \n",
    "sn.countplot(df1[\"Additional_Info\"])\n",
    "plt.show()"
   ]
  },
  {
   "cell_type": "markdown",
   "id": "45ea6e54",
   "metadata": {},
   "source": [
    "# Bi variate analysis\n"
   ]
  },
  {
   "cell_type": "markdown",
   "id": "aae33f15",
   "metadata": {},
   "source": [
    "Bi variate analysis is works with two variables.\n",
    "\n",
    "It is not possible inscatter plot to every variable relationship with target variable as it is not in proper form, so drop that column only for bivariate visualization."
   ]
  },
  {
   "cell_type": "code",
   "execution_count": 24,
   "id": "cd418481",
   "metadata": {},
   "outputs": [],
   "source": [
    "fe = df1[[\"Airline\", \"Date_of_Journey\", \"Source\", \"Destination\", \"Dep_Time\", \"Arrival_Time\", \"Duration\", \"Additional_Info\", \"Price\"]]"
   ]
  },
  {
   "cell_type": "code",
   "execution_count": 25,
   "id": "736498f7",
   "metadata": {},
   "outputs": [
    {
     "data": {
      "image/png": "[encoded data removed]",
      "text/plain": [
       "<Figure size 1800x1800 with 9 Axes>"
      ]
     },
     "metadata": {},
     "output_type": "display_data"
    }
   ],
   "source": [
    "#Relationship Visualizing\n",
    "\n",
    "plt.figure(figsize = (25,25), facecolor = 'white')\n",
    "plotnumber = 1\n",
    "\n",
    "for column in fe:\n",
    "    if plotnumber <= 15:\n",
    "        ax = plt.subplot(5,3,plotnumber)\n",
    "        plt.scatter(fe[column],fe['Price'], color='g')\n",
    "        plt.xlabel(column,fontsize=18)\n",
    "        plt.ylabel('Price', fontsize=18)\n",
    "    plotnumber += 1\n",
    "plt.tight_layout()"
   ]
  },
  {
   "cell_type": "markdown",
   "id": "2a2f4195",
   "metadata": {},
   "source": [
    "as we have seen in plot all input variables are having almost linear relationship with target variable and other variables are having non linear realationship with target variable and outliers are also present in some columns."
   ]
  },
  {
   "cell_type": "markdown",
   "id": "ae09bcc7",
   "metadata": {},
   "source": [
    "# Multi Variate analysis"
   ]
  },
  {
   "cell_type": "markdown",
   "id": "fc49e056",
   "metadata": {},
   "source": [
    "Multi variate analysis find the relationship with all variables. Now we will visualize the data and check the coiefficient of multicollinearity"
   ]
  },
  {
   "cell_type": "code",
   "execution_count": 26,
   "id": "8bf0614a",
   "metadata": {},
   "outputs": [
    {
     "data": {
      "image/png": "[encoded data removed]",
      "text/plain": [
       "<Figure size 1440x1080 with 2 Axes>"
      ]
     },
     "metadata": {
      "needs_background": "light"
     },
     "output_type": "display_data"
    }
   ],
   "source": [
    "df1_cor = df1.corr().abs()\n",
    "\n",
    "plt.figure(figsize = (20,15))\n",
    "sn.heatmap(df1_cor, vmin=-1, vmax= 1, annot=True, square=True,\n",
    "          center=0, fmt='.1g', linewidths=.1)\n",
    "plt.tight_layout()"
   ]
  },
  {
   "cell_type": "markdown",
   "id": "f6149da0",
   "metadata": {},
   "source": [
    "As shown in heatmap.\n",
    "\n",
    "After visualization conclude that all input variables are having some/good amount relationship with target variable. Now proceed for next steps:"
   ]
  },
  {
   "cell_type": "markdown",
   "id": "9f7b5c59",
   "metadata": {},
   "source": [
    "# Handling missing values"
   ]
  },
  {
   "cell_type": "markdown",
   "id": "58358c19",
   "metadata": {},
   "source": [
    "1.Route\n",
    "2.Total_Stops"
   ]
  },
  {
   "cell_type": "code",
   "execution_count": 27,
   "id": "02014d73",
   "metadata": {},
   "outputs": [
    {
     "data": {
      "text/plain": [
       "DEL → BOM → COK                      2376\n",
       "BLR → DEL                            1552\n",
       "CCU → BOM → BLR                       979\n",
       "CCU → BLR                             724\n",
       "BOM → HYD                             621\n",
       "                                     ... \n",
       "BOM → RPR → VTZ → HYD                   1\n",
       "BOM → JDH → JAI → DEL → HYD             1\n",
       "BOM → DED → DEL → HYD                   1\n",
       "BLR → CCU → BBI → HYD → VGA → DEL       1\n",
       "CCU → RPR → HYD → BLR                   1\n",
       "Name: Route, Length: 128, dtype: int64"
      ]
     },
     "execution_count": 27,
     "metadata": {},
     "output_type": "execute_result"
    }
   ],
   "source": [
    "df1['Route'].value_counts()"
   ]
  },
  {
   "cell_type": "code",
   "execution_count": 28,
   "id": "a9b44e4d",
   "metadata": {},
   "outputs": [],
   "source": [
    "df1['Route']=df1['Route'].fillna(df1['Route'].mode()[0])#fill values with mode of observation"
   ]
  },
  {
   "cell_type": "code",
   "execution_count": 29,
   "id": "69dee59a",
   "metadata": {},
   "outputs": [
    {
     "data": {
      "text/plain": [
       "1 stop      5625\n",
       "non-stop    3491\n",
       "2 stops     1520\n",
       "3 stops       45\n",
       "4 stops        1\n",
       "Name: Total_Stops, dtype: int64"
      ]
     },
     "execution_count": 29,
     "metadata": {},
     "output_type": "execute_result"
    }
   ],
   "source": [
    "df1['Total_Stops'].value_counts()"
   ]
  },
  {
   "cell_type": "code",
   "execution_count": 30,
   "id": "39ab4a2a",
   "metadata": {},
   "outputs": [],
   "source": [
    "df1['Total_Stops']=df1['Total_Stops'].fillna(df1['Total_Stops'].mode()[0])#fill values with mode of observation"
   ]
  },
  {
   "cell_type": "code",
   "execution_count": 31,
   "id": "dd1fbeb6",
   "metadata": {},
   "outputs": [
    {
     "data": {
      "text/plain": [
       "Airline            0\n",
       "Date_of_Journey    0\n",
       "Source             0\n",
       "Destination        0\n",
       "Route              0\n",
       "Dep_Time           0\n",
       "Arrival_Time       0\n",
       "Duration           0\n",
       "Total_Stops        0\n",
       "Additional_Info    0\n",
       "Price              0\n",
       "dtype: int64"
      ]
     },
     "execution_count": 31,
     "metadata": {},
     "output_type": "execute_result"
    }
   ],
   "source": [
    "df1.isnull().sum()"
   ]
  },
  {
   "cell_type": "markdown",
   "id": "4054f988",
   "metadata": {},
   "source": [
    "as we see above the null values can fill up with mode."
   ]
  },
  {
   "cell_type": "markdown",
   "id": "3620d3e6",
   "metadata": {},
   "source": [
    "# Encoding"
   ]
  },
  {
   "cell_type": "markdown",
   "id": "82165456",
   "metadata": {},
   "source": [
    "# 1.Airline"
   ]
  },
  {
   "cell_type": "code",
   "execution_count": 32,
   "id": "4fb9a1d4",
   "metadata": {},
   "outputs": [
    {
     "data": {
      "text/plain": [
       "array(['IndiGo', 'Air India', 'Jet Airways', 'SpiceJet',\n",
       "       'Multiple carriers', 'GoAir', 'Vistara', 'Air Asia',\n",
       "       'Vistara Premium economy', 'Jet Airways Business',\n",
       "       'Multiple carriers Premium economy', 'Trujet'], dtype=object)"
      ]
     },
     "execution_count": 32,
     "metadata": {},
     "output_type": "execute_result"
    }
   ],
   "source": [
    "df1['Airline'].unique()"
   ]
  },
  {
   "cell_type": "code",
   "execution_count": 33,
   "id": "3f03246d",
   "metadata": {},
   "outputs": [
    {
     "data": {
      "text/plain": [
       "Jet Airways                          3849\n",
       "IndiGo                               2053\n",
       "Air India                            1752\n",
       "Multiple carriers                    1196\n",
       "SpiceJet                              818\n",
       "Vistara                               479\n",
       "Air Asia                              319\n",
       "GoAir                                 194\n",
       "Multiple carriers Premium economy      13\n",
       "Jet Airways Business                    6\n",
       "Vistara Premium economy                 3\n",
       "Trujet                                  1\n",
       "Name: Airline, dtype: int64"
      ]
     },
     "execution_count": 33,
     "metadata": {},
     "output_type": "execute_result"
    }
   ],
   "source": [
    "df1['Airline'].value_counts()"
   ]
  },
  {
   "cell_type": "markdown",
   "id": "f8ebc3d2",
   "metadata": {},
   "source": [
    "# 2. Extract Date_of_Journey column"
   ]
  },
  {
   "cell_type": "code",
   "execution_count": 34,
   "id": "d28eeea3",
   "metadata": {},
   "outputs": [
    {
     "data": {
      "text/plain": [
       "array(['24/03/2019', '1/05/2019', '9/06/2019', '12/05/2019', '01/03/2019',\n",
       "       '24/06/2019', '12/03/2019', '27/05/2019', '1/06/2019',\n",
       "       '18/04/2019', '9/05/2019', '24/04/2019', '3/03/2019', '15/04/2019',\n",
       "       '12/06/2019', '6/03/2019', '21/03/2019', '3/04/2019', '6/05/2019',\n",
       "       '15/05/2019', '18/06/2019', '15/06/2019', '6/04/2019',\n",
       "       '18/05/2019', '27/06/2019', '21/05/2019', '06/03/2019',\n",
       "       '3/06/2019', '15/03/2019', '3/05/2019', '9/03/2019', '6/06/2019',\n",
       "       '24/05/2019', '09/03/2019', '1/04/2019', '21/04/2019',\n",
       "       '21/06/2019', '27/03/2019', '18/03/2019', '12/04/2019',\n",
       "       '9/04/2019', '1/03/2019', '03/03/2019', '27/04/2019'], dtype=object)"
      ]
     },
     "execution_count": 34,
     "metadata": {},
     "output_type": "execute_result"
    }
   ],
   "source": [
    "df1['Date_of_Journey'].unique()"
   ]
  },
  {
   "cell_type": "code",
   "execution_count": 35,
   "id": "9f929b3c",
   "metadata": {},
   "outputs": [],
   "source": [
    "df1[\"Date_of_Journey\"]=pd.to_datetime(df1[\"Date_of_Journey\"])\n"
   ]
  },
  {
   "cell_type": "code",
   "execution_count": 36,
   "id": "e949d371",
   "metadata": {},
   "outputs": [
    {
     "data": {
      "text/plain": [
       "Airline                    object\n",
       "Date_of_Journey    datetime64[ns]\n",
       "Source                     object\n",
       "Destination                object\n",
       "Route                      object\n",
       "Dep_Time                   object\n",
       "Arrival_Time               object\n",
       "Duration                   object\n",
       "Total_Stops                object\n",
       "Additional_Info            object\n",
       "Price                       int64\n",
       "dtype: object"
      ]
     },
     "execution_count": 36,
     "metadata": {},
     "output_type": "execute_result"
    }
   ],
   "source": [
    "df1.dtypes"
   ]
  },
  {
   "cell_type": "markdown",
   "id": "cead01d9",
   "metadata": {},
   "source": [
    "we can see the data type of date column change from oject to datetime. Now, we can axtract it."
   ]
  },
  {
   "cell_type": "code",
   "execution_count": 37,
   "id": "14dc0962",
   "metadata": {},
   "outputs": [],
   "source": [
    "df1[\"Journey_Year\"] = df1[\"Date_of_Journey\"].dt.year"
   ]
  },
  {
   "cell_type": "code",
   "execution_count": 38,
   "id": "b3a9e99b",
   "metadata": {},
   "outputs": [],
   "source": [
    "df1[\"Journey_Month\"] = df1[\"Date_of_Journey\"].dt.month"
   ]
  },
  {
   "cell_type": "code",
   "execution_count": 39,
   "id": "d1f80160",
   "metadata": {},
   "outputs": [],
   "source": [
    "df1[\"Journey_day\"] = df1[\"Date_of_Journey\"].dt.day"
   ]
  },
  {
   "cell_type": "code",
   "execution_count": 40,
   "id": "59e89468",
   "metadata": {},
   "outputs": [
    {
     "data": {
      "text/plain": [
       "array([2019])"
      ]
     },
     "execution_count": 40,
     "metadata": {},
     "output_type": "execute_result"
    }
   ],
   "source": [
    "df1[\"Journey_Year\"].unique()"
   ]
  },
  {
   "cell_type": "code",
   "execution_count": 41,
   "id": "6bacc8f0",
   "metadata": {},
   "outputs": [],
   "source": [
    "#drop Journey_Year column\n",
    "df1= df1.drop(['Journey_Year'], axis=1)"
   ]
  },
  {
   "cell_type": "code",
   "execution_count": 42,
   "id": "75d85b7f",
   "metadata": {},
   "outputs": [],
   "source": [
    "#drop Date column\n",
    "df1=df1.drop(['Date_of_Journey'], axis=1)"
   ]
  },
  {
   "cell_type": "code",
   "execution_count": 43,
   "id": "a00d2486",
   "metadata": {},
   "outputs": [
    {
     "data": {
      "text/plain": [
       "Delhi       4537\n",
       "Kolkata     2871\n",
       "Banglore    2197\n",
       "Mumbai       697\n",
       "Chennai      381\n",
       "Name: Source, dtype: int64"
      ]
     },
     "execution_count": 43,
     "metadata": {},
     "output_type": "execute_result"
    }
   ],
   "source": [
    "df1['Source'].value_counts()"
   ]
  },
  {
   "cell_type": "markdown",
   "id": "f7a0d550",
   "metadata": {},
   "source": [
    "# 3. Destination"
   ]
  },
  {
   "cell_type": "code",
   "execution_count": 44,
   "id": "9d756353",
   "metadata": {},
   "outputs": [
    {
     "data": {
      "text/plain": [
       "array(['New Delhi', 'Banglore', 'Cochin', 'Kolkata', 'Delhi', 'Hyderabad'],\n",
       "      dtype=object)"
      ]
     },
     "execution_count": 44,
     "metadata": {},
     "output_type": "execute_result"
    }
   ],
   "source": [
    "df1['Destination'].unique()#unique values"
   ]
  },
  {
   "cell_type": "code",
   "execution_count": 45,
   "id": "79b53ca8",
   "metadata": {},
   "outputs": [
    {
     "data": {
      "text/plain": [
       "Cochin       4537\n",
       "Banglore     2871\n",
       "Delhi        1265\n",
       "New Delhi     932\n",
       "Hyderabad     697\n",
       "Kolkata       381\n",
       "Name: Destination, dtype: int64"
      ]
     },
     "execution_count": 45,
     "metadata": {},
     "output_type": "execute_result"
    }
   ],
   "source": [
    "df1['Destination'].value_counts()"
   ]
  },
  {
   "cell_type": "markdown",
   "id": "a12d52fb",
   "metadata": {},
   "source": [
    "# 4.Route"
   ]
  },
  {
   "cell_type": "code",
   "execution_count": 46,
   "id": "406ab944",
   "metadata": {},
   "outputs": [
    {
     "data": {
      "text/plain": [
       "DEL → BOM → COK                      2377\n",
       "BLR → DEL                            1552\n",
       "CCU → BOM → BLR                       979\n",
       "CCU → BLR                             724\n",
       "BOM → HYD                             621\n",
       "                                     ... \n",
       "BOM → RPR → VTZ → HYD                   1\n",
       "BOM → JDH → JAI → DEL → HYD             1\n",
       "BOM → DED → DEL → HYD                   1\n",
       "BLR → CCU → BBI → HYD → VGA → DEL       1\n",
       "CCU → RPR → HYD → BLR                   1\n",
       "Name: Route, Length: 128, dtype: int64"
      ]
     },
     "execution_count": 46,
     "metadata": {},
     "output_type": "execute_result"
    }
   ],
   "source": [
    "df1['Route'].value_counts()"
   ]
  },
  {
   "cell_type": "markdown",
   "id": "2569506d",
   "metadata": {},
   "source": [
    "# 5.Extract Dep_Time column"
   ]
  },
  {
   "cell_type": "code",
   "execution_count": 47,
   "id": "0e7d8c16",
   "metadata": {},
   "outputs": [
    {
     "data": {
      "text/plain": [
       "18:55    233\n",
       "17:00    227\n",
       "07:05    205\n",
       "10:00    203\n",
       "07:10    202\n",
       "        ... \n",
       "16:25      1\n",
       "22:25      1\n",
       "04:50      1\n",
       "03:00      1\n",
       "01:35      1\n",
       "Name: Dep_Time, Length: 222, dtype: int64"
      ]
     },
     "execution_count": 47,
     "metadata": {},
     "output_type": "execute_result"
    }
   ],
   "source": [
    "df1['Dep_Time'].value_counts()"
   ]
  },
  {
   "cell_type": "code",
   "execution_count": 48,
   "id": "c244959e",
   "metadata": {},
   "outputs": [],
   "source": [
    "df1[\"Dep_Time\"]=pd.to_datetime(df1[\"Dep_Time\"])"
   ]
  },
  {
   "cell_type": "code",
   "execution_count": 49,
   "id": "fe5bd8eb",
   "metadata": {},
   "outputs": [],
   "source": [
    "df1[\"Dep_Hour\"] = df1[\"Dep_Time\"].dt.hour#hour"
   ]
  },
  {
   "cell_type": "code",
   "execution_count": 50,
   "id": "ae527e98",
   "metadata": {},
   "outputs": [],
   "source": [
    "df1[\"Dep_Minute\"] = df1[\"Dep_Time\"].dt.minute#minute"
   ]
  },
  {
   "cell_type": "code",
   "execution_count": 51,
   "id": "854f55da",
   "metadata": {},
   "outputs": [],
   "source": [
    "#drop Dep_Time column\n",
    "df1=df1.drop(['Dep_Time'], axis=1)"
   ]
  },
  {
   "cell_type": "markdown",
   "id": "e06b3be8",
   "metadata": {},
   "source": [
    "# 6. Arrival_Time"
   ]
  },
  {
   "cell_type": "code",
   "execution_count": 52,
   "id": "75a0cb71",
   "metadata": {},
   "outputs": [
    {
     "data": {
      "text/plain": [
       "19:00           423\n",
       "21:00           360\n",
       "19:15           333\n",
       "16:10           154\n",
       "12:35           122\n",
       "               ... \n",
       "08:55 19 Mar      1\n",
       "12:30 13 Jun      1\n",
       "03:35 22 May      1\n",
       "10:50 07 Mar      1\n",
       "00:50 19 Jun      1\n",
       "Name: Arrival_Time, Length: 1343, dtype: int64"
      ]
     },
     "execution_count": 52,
     "metadata": {},
     "output_type": "execute_result"
    }
   ],
   "source": [
    "df1['Arrival_Time'].value_counts()"
   ]
  },
  {
   "cell_type": "code",
   "execution_count": 54,
   "id": "c7fc47e3",
   "metadata": {},
   "outputs": [],
   "source": [
    "df1[\"Arrival_Time\"]=pd.to_datetime(df1[\"Arrival_Time\"])#convert to datetime"
   ]
  },
  {
   "cell_type": "code",
   "execution_count": 55,
   "id": "c9df7ad8",
   "metadata": {},
   "outputs": [],
   "source": [
    "df1[\"Arrival_Hour\"] = df1[\"Arrival_Time\"].dt.hour#hour"
   ]
  },
  {
   "cell_type": "code",
   "execution_count": 56,
   "id": "4e99551f",
   "metadata": {},
   "outputs": [],
   "source": [
    "df1[\"Arrival_Minute\"] = df1[\"Arrival_Time\"].dt.minute#minute"
   ]
  },
  {
   "cell_type": "code",
   "execution_count": 57,
   "id": "64368d36",
   "metadata": {},
   "outputs": [],
   "source": [
    "df1[\"Arrival_day\"] = df1[\"Arrival_Time\"].dt.day#day"
   ]
  },
  {
   "cell_type": "code",
   "execution_count": 58,
   "id": "ce4eedec",
   "metadata": {},
   "outputs": [],
   "source": [
    "df1[\"Arrival_Month\"] = df1[\"Arrival_Time\"].dt.month#month"
   ]
  },
  {
   "cell_type": "code",
   "execution_count": 59,
   "id": "cbc47f63",
   "metadata": {},
   "outputs": [],
   "source": [
    "#drop Arrival_Time column\n",
    "df1=df1.drop(['Arrival_Time'], axis=1)"
   ]
  },
  {
   "cell_type": "code",
   "execution_count": 60,
   "id": "21520680",
   "metadata": {},
   "outputs": [],
   "source": [
    "df1=df1.drop(['Arrival_day'], axis=1)#drop this column"
   ]
  },
  {
   "cell_type": "code",
   "execution_count": 61,
   "id": "32601ecd",
   "metadata": {},
   "outputs": [],
   "source": [
    "df1=df1.drop(['Arrival_Month'], axis=1)#drop this column"
   ]
  },
  {
   "cell_type": "markdown",
   "id": "c4ca6ea0",
   "metadata": {},
   "source": [
    "# 7. Duration"
   ]
  },
  {
   "cell_type": "code",
   "execution_count": 62,
   "id": "8024b02e",
   "metadata": {},
   "outputs": [
    {
     "data": {
      "text/plain": [
       "2h 50m     550\n",
       "1h 30m     386\n",
       "2h 55m     337\n",
       "2h 45m     337\n",
       "2h 35m     329\n",
       "          ... \n",
       "33h 45m      1\n",
       "33h 20m      1\n",
       "42h 45m      1\n",
       "37h 10m      1\n",
       "47h 40m      1\n",
       "Name: Duration, Length: 368, dtype: int64"
      ]
     },
     "execution_count": 62,
     "metadata": {},
     "output_type": "execute_result"
    }
   ],
   "source": [
    "df1['Duration'].value_counts()"
   ]
  },
  {
   "cell_type": "markdown",
   "id": "7621d0f4",
   "metadata": {},
   "source": [
    "# 8. Total_Stops"
   ]
  },
  {
   "cell_type": "code",
   "execution_count": 63,
   "id": "a9403c75",
   "metadata": {},
   "outputs": [
    {
     "data": {
      "text/plain": [
       "1 stop      5626\n",
       "non-stop    3491\n",
       "2 stops     1520\n",
       "3 stops       45\n",
       "4 stops        1\n",
       "Name: Total_Stops, dtype: int64"
      ]
     },
     "execution_count": 63,
     "metadata": {},
     "output_type": "execute_result"
    }
   ],
   "source": [
    "df1['Total_Stops'].value_counts()"
   ]
  },
  {
   "cell_type": "markdown",
   "id": "8c48d844",
   "metadata": {},
   "source": [
    "# 9. Additional_Info"
   ]
  },
  {
   "cell_type": "code",
   "execution_count": 64,
   "id": "27fb2229",
   "metadata": {},
   "outputs": [
    {
     "data": {
      "text/plain": [
       "No info                         8345\n",
       "In-flight meal not included     1982\n",
       "No check-in baggage included     320\n",
       "1 Long layover                    19\n",
       "Change airports                    7\n",
       "Business class                     4\n",
       "No Info                            3\n",
       "1 Short layover                    1\n",
       "Red-eye flight                     1\n",
       "2 Long layover                     1\n",
       "Name: Additional_Info, dtype: int64"
      ]
     },
     "execution_count": 64,
     "metadata": {},
     "output_type": "execute_result"
    }
   ],
   "source": [
    "df1['Additional_Info'].value_counts()#valuecounts"
   ]
  },
  {
   "cell_type": "code",
   "execution_count": 65,
   "id": "fdc6e90b",
   "metadata": {},
   "outputs": [],
   "source": [
    "df1= df1.drop(['Additional_Info'], axis=1)# dropping this column as doesn't affect to target column"
   ]
  },
  {
   "cell_type": "markdown",
   "id": "a9367d3b",
   "metadata": {},
   "source": [
    "# Label Encoder"
   ]
  },
  {
   "cell_type": "code",
   "execution_count": 66,
   "id": "3c66a93f",
   "metadata": {},
   "outputs": [],
   "source": [
    "from sklearn.preprocessing import LabelEncoder\n",
    "le = LabelEncoder()"
   ]
  },
  {
   "cell_type": "code",
   "execution_count": 67,
   "id": "57c91ae2",
   "metadata": {},
   "outputs": [],
   "source": [
    "for i in df1.columns:\n",
    "    if df1[i].dtypes==\"object\":\n",
    "        df1[i]=le.fit_transform(df1[i].values.reshape(-1,1))"
   ]
  },
  {
   "cell_type": "code",
   "execution_count": 68,
   "id": "a098ff10",
   "metadata": {},
   "outputs": [
    {
     "data": {
      "text/plain": [
       "Airline           int64\n",
       "Source            int64\n",
       "Destination       int64\n",
       "Route             int64\n",
       "Duration          int64\n",
       "Total_Stops       int64\n",
       "Price             int64\n",
       "Journey_Month     int64\n",
       "Journey_day       int64\n",
       "Dep_Hour          int64\n",
       "Dep_Minute        int64\n",
       "Arrival_Hour      int64\n",
       "Arrival_Minute    int64\n",
       "dtype: object"
      ]
     },
     "execution_count": 68,
     "metadata": {},
     "output_type": "execute_result"
    }
   ],
   "source": [
    "df1.dtypes #datatypes"
   ]
  },
  {
   "cell_type": "markdown",
   "id": "9af3e7ed",
   "metadata": {},
   "source": [
    "after encoding we can see there is no object datatypes present in whole dataset"
   ]
  },
  {
   "cell_type": "markdown",
   "id": "dc884b54",
   "metadata": {},
   "source": [
    "# Finding relation between input and target variables"
   ]
  },
  {
   "cell_type": "code",
   "execution_count": 69,
   "id": "02426d9c",
   "metadata": {},
   "outputs": [
    {
     "data": {
      "image/png": "[encoded data removed]",
      "text/plain": [
       "<Figure size 1584x504 with 1 Axes>"
      ]
     },
     "metadata": {
      "needs_background": "light"
     },
     "output_type": "display_data"
    }
   ],
   "source": [
    "plt.figure(figsize=(22,7))\n",
    "df1.corr()['Price'].sort_values(ascending = False).drop(['Price']).plot(kind = 'bar', color = 'g')\n",
    "plt.xlabel('Feature', fontsize = 15)\n",
    "plt.ylabel('Price', fontsize = 15)\n",
    "plt.title('correlation', fontsize = 18)\n",
    "plt.show()"
   ]
  },
  {
   "cell_type": "markdown",
   "id": "5ab7c8ae",
   "metadata": {},
   "source": [
    "# Remove outliers"
   ]
  },
  {
   "cell_type": "markdown",
   "id": "178dfec8",
   "metadata": {},
   "source": [
    "Now check the outliers and skewness is present in variables"
   ]
  },
  {
   "cell_type": "code",
   "execution_count": 70,
   "id": "6002d658",
   "metadata": {},
   "outputs": [
    {
     "data": {
      "image/png": "[encoded data removed]",
      "text/plain": [
       "<Figure size 1800x2880 with 13 Axes>"
      ]
     },
     "metadata": {
      "needs_background": "light"
     },
     "output_type": "display_data"
    }
   ],
   "source": [
    "plt.figure(figsize=(25,40))\n",
    "graph = 1\n",
    "\n",
    "for column in df1:\n",
    "    if graph <= 30:\n",
    "        ax = plt.subplot(8,2, graph)\n",
    "        sn.boxplot(df1[column], color = 'c')\n",
    "        plt.xlabel(column, fontsize = 20)\n",
    "        \n",
    "    graph+=1\n",
    "plt.show()"
   ]
  },
  {
   "cell_type": "markdown",
   "id": "4ee0ebde",
   "metadata": {},
   "source": [
    "as we can see above there is no outliers present in some columns but that columns are catogorical in nature. so, no need to remove outliers from that. We need to remove outliers from only contineous data.\n"
   ]
  },
  {
   "cell_type": "markdown",
   "id": "0d5f4b79",
   "metadata": {},
   "source": [
    "# Check the skewness and remove that"
   ]
  },
  {
   "cell_type": "code",
   "execution_count": 71,
   "id": "d2696608",
   "metadata": {},
   "outputs": [
    {
     "data": {
      "text/plain": [
       "Airline           0.731095\n",
       "Source           -0.424054\n",
       "Destination       1.244169\n",
       "Route            -0.502066\n",
       "Duration         -0.213427\n",
       "Total_Stops       0.631681\n",
       "Price             1.812552\n",
       "Journey_Month     0.629540\n",
       "Journey_day       0.367373\n",
       "Dep_Hour          0.113073\n",
       "Dep_Minute        0.167029\n",
       "Arrival_Hour     -0.369988\n",
       "Arrival_Minute    0.110945\n",
       "dtype: float64"
      ]
     },
     "execution_count": 71,
     "metadata": {},
     "output_type": "execute_result"
    }
   ],
   "source": [
    "df1.skew()#skewness"
   ]
  },
  {
   "cell_type": "markdown",
   "id": "37724be1",
   "metadata": {},
   "source": [
    "as we can see above there is no skwness present in some columns but that columns are catogorical in nature. so, no need to remove skewness from that. We need to remove skewness from only contineous data."
   ]
  },
  {
   "cell_type": "markdown",
   "id": "336073f4",
   "metadata": {},
   "source": [
    "# Now work on data set 2"
   ]
  },
  {
   "cell_type": "markdown",
   "id": "7dc3def8",
   "metadata": {},
   "source": [
    "# 2. Test Dataset"
   ]
  },
  {
   "cell_type": "code",
   "execution_count": 72,
   "id": "3542daae",
   "metadata": {},
   "outputs": [
    {
     "data": {
      "text/html": [
       "<div>\n",
       "<style scoped>\n",
       "    .dataframe tbody tr th:only-of-type {\n",
       "        vertical-align: middle;\n",
       "    }\n",
       "\n",
       "    .dataframe tbody tr th {\n",
       "        vertical-align: top;\n",
       "    }\n",
       "\n",
       "    .dataframe thead th {\n",
       "        text-align: right;\n",
       "    }\n",
       "</style>\n",
       "<table border=\"1\" class=\"dataframe\">\n",
       "  <thead>\n",
       "    <tr style=\"text-align: right;\">\n",
       "      <th></th>\n",
       "      <th>Airline</th>\n",
       "      <th>Date_of_Journey</th>\n",
       "      <th>Source</th>\n",
       "      <th>Destination</th>\n",
       "      <th>Route</th>\n",
       "      <th>Dep_Time</th>\n",
       "      <th>Arrival_Time</th>\n",
       "      <th>Duration</th>\n",
       "      <th>Total_Stops</th>\n",
       "      <th>Additional_Info</th>\n",
       "    </tr>\n",
       "  </thead>\n",
       "  <tbody>\n",
       "    <tr>\n",
       "      <th>0</th>\n",
       "      <td>Jet Airways</td>\n",
       "      <td>6/06/2019</td>\n",
       "      <td>Delhi</td>\n",
       "      <td>Cochin</td>\n",
       "      <td>DEL → BOM → COK</td>\n",
       "      <td>17:30</td>\n",
       "      <td>04:25 07 Jun</td>\n",
       "      <td>10h 55m</td>\n",
       "      <td>1 stop</td>\n",
       "      <td>No info</td>\n",
       "    </tr>\n",
       "    <tr>\n",
       "      <th>1</th>\n",
       "      <td>IndiGo</td>\n",
       "      <td>12/05/2019</td>\n",
       "      <td>Kolkata</td>\n",
       "      <td>Banglore</td>\n",
       "      <td>CCU → MAA → BLR</td>\n",
       "      <td>06:20</td>\n",
       "      <td>10:20</td>\n",
       "      <td>4h</td>\n",
       "      <td>1 stop</td>\n",
       "      <td>No info</td>\n",
       "    </tr>\n",
       "    <tr>\n",
       "      <th>2</th>\n",
       "      <td>Jet Airways</td>\n",
       "      <td>21/05/2019</td>\n",
       "      <td>Delhi</td>\n",
       "      <td>Cochin</td>\n",
       "      <td>DEL → BOM → COK</td>\n",
       "      <td>19:15</td>\n",
       "      <td>19:00 22 May</td>\n",
       "      <td>23h 45m</td>\n",
       "      <td>1 stop</td>\n",
       "      <td>In-flight meal not included</td>\n",
       "    </tr>\n",
       "    <tr>\n",
       "      <th>3</th>\n",
       "      <td>Multiple carriers</td>\n",
       "      <td>21/05/2019</td>\n",
       "      <td>Delhi</td>\n",
       "      <td>Cochin</td>\n",
       "      <td>DEL → BOM → COK</td>\n",
       "      <td>08:00</td>\n",
       "      <td>21:00</td>\n",
       "      <td>13h</td>\n",
       "      <td>1 stop</td>\n",
       "      <td>No info</td>\n",
       "    </tr>\n",
       "    <tr>\n",
       "      <th>4</th>\n",
       "      <td>Air Asia</td>\n",
       "      <td>24/06/2019</td>\n",
       "      <td>Banglore</td>\n",
       "      <td>Delhi</td>\n",
       "      <td>BLR → DEL</td>\n",
       "      <td>23:55</td>\n",
       "      <td>02:45 25 Jun</td>\n",
       "      <td>2h 50m</td>\n",
       "      <td>non-stop</td>\n",
       "      <td>No info</td>\n",
       "    </tr>\n",
       "    <tr>\n",
       "      <th>...</th>\n",
       "      <td>...</td>\n",
       "      <td>...</td>\n",
       "      <td>...</td>\n",
       "      <td>...</td>\n",
       "      <td>...</td>\n",
       "      <td>...</td>\n",
       "      <td>...</td>\n",
       "      <td>...</td>\n",
       "      <td>...</td>\n",
       "      <td>...</td>\n",
       "    </tr>\n",
       "    <tr>\n",
       "      <th>2666</th>\n",
       "      <td>Air India</td>\n",
       "      <td>6/06/2019</td>\n",
       "      <td>Kolkata</td>\n",
       "      <td>Banglore</td>\n",
       "      <td>CCU → DEL → BLR</td>\n",
       "      <td>20:30</td>\n",
       "      <td>20:25 07 Jun</td>\n",
       "      <td>23h 55m</td>\n",
       "      <td>1 stop</td>\n",
       "      <td>No info</td>\n",
       "    </tr>\n",
       "    <tr>\n",
       "      <th>2667</th>\n",
       "      <td>IndiGo</td>\n",
       "      <td>27/03/2019</td>\n",
       "      <td>Kolkata</td>\n",
       "      <td>Banglore</td>\n",
       "      <td>CCU → BLR</td>\n",
       "      <td>14:20</td>\n",
       "      <td>16:55</td>\n",
       "      <td>2h 35m</td>\n",
       "      <td>non-stop</td>\n",
       "      <td>No info</td>\n",
       "    </tr>\n",
       "    <tr>\n",
       "      <th>2668</th>\n",
       "      <td>Jet Airways</td>\n",
       "      <td>6/03/2019</td>\n",
       "      <td>Delhi</td>\n",
       "      <td>Cochin</td>\n",
       "      <td>DEL → BOM → COK</td>\n",
       "      <td>21:50</td>\n",
       "      <td>04:25 07 Mar</td>\n",
       "      <td>6h 35m</td>\n",
       "      <td>1 stop</td>\n",
       "      <td>No info</td>\n",
       "    </tr>\n",
       "    <tr>\n",
       "      <th>2669</th>\n",
       "      <td>Air India</td>\n",
       "      <td>6/03/2019</td>\n",
       "      <td>Delhi</td>\n",
       "      <td>Cochin</td>\n",
       "      <td>DEL → BOM → COK</td>\n",
       "      <td>04:00</td>\n",
       "      <td>19:15</td>\n",
       "      <td>15h 15m</td>\n",
       "      <td>1 stop</td>\n",
       "      <td>No info</td>\n",
       "    </tr>\n",
       "    <tr>\n",
       "      <th>2670</th>\n",
       "      <td>Multiple carriers</td>\n",
       "      <td>15/06/2019</td>\n",
       "      <td>Delhi</td>\n",
       "      <td>Cochin</td>\n",
       "      <td>DEL → BOM → COK</td>\n",
       "      <td>04:55</td>\n",
       "      <td>19:15</td>\n",
       "      <td>14h 20m</td>\n",
       "      <td>1 stop</td>\n",
       "      <td>No info</td>\n",
       "    </tr>\n",
       "  </tbody>\n",
       "</table>\n",
       "<p>2671 rows × 10 columns</p>\n",
       "</div>"
      ],
      "text/plain": [
       "                Airline Date_of_Journey    Source Destination  \\\n",
       "0           Jet Airways       6/06/2019     Delhi      Cochin   \n",
       "1                IndiGo      12/05/2019   Kolkata    Banglore   \n",
       "2           Jet Airways      21/05/2019     Delhi      Cochin   \n",
       "3     Multiple carriers      21/05/2019     Delhi      Cochin   \n",
       "4              Air Asia      24/06/2019  Banglore       Delhi   \n",
       "...                 ...             ...       ...         ...   \n",
       "2666          Air India       6/06/2019   Kolkata    Banglore   \n",
       "2667             IndiGo      27/03/2019   Kolkata    Banglore   \n",
       "2668        Jet Airways       6/03/2019     Delhi      Cochin   \n",
       "2669          Air India       6/03/2019     Delhi      Cochin   \n",
       "2670  Multiple carriers      15/06/2019     Delhi      Cochin   \n",
       "\n",
       "                Route Dep_Time  Arrival_Time Duration Total_Stops  \\\n",
       "0     DEL → BOM → COK    17:30  04:25 07 Jun  10h 55m      1 stop   \n",
       "1     CCU → MAA → BLR    06:20         10:20       4h      1 stop   \n",
       "2     DEL → BOM → COK    19:15  19:00 22 May  23h 45m      1 stop   \n",
       "3     DEL → BOM → COK    08:00         21:00      13h      1 stop   \n",
       "4           BLR → DEL    23:55  02:45 25 Jun   2h 50m    non-stop   \n",
       "...               ...      ...           ...      ...         ...   \n",
       "2666  CCU → DEL → BLR    20:30  20:25 07 Jun  23h 55m      1 stop   \n",
       "2667        CCU → BLR    14:20         16:55   2h 35m    non-stop   \n",
       "2668  DEL → BOM → COK    21:50  04:25 07 Mar   6h 35m      1 stop   \n",
       "2669  DEL → BOM → COK    04:00         19:15  15h 15m      1 stop   \n",
       "2670  DEL → BOM → COK    04:55         19:15  14h 20m      1 stop   \n",
       "\n",
       "                  Additional_Info  \n",
       "0                         No info  \n",
       "1                         No info  \n",
       "2     In-flight meal not included  \n",
       "3                         No info  \n",
       "4                         No info  \n",
       "...                           ...  \n",
       "2666                      No info  \n",
       "2667                      No info  \n",
       "2668                      No info  \n",
       "2669                      No info  \n",
       "2670                      No info  \n",
       "\n",
       "[2671 rows x 10 columns]"
      ]
     },
     "execution_count": 72,
     "metadata": {},
     "output_type": "execute_result"
    }
   ],
   "source": [
    "#Importing test data set as a test_df\n",
    "\n",
    "#Import the dataset\n",
    "df2=pd.read_csv(\"Test_set.csv\")\n",
    "df2"
   ]
  },
  {
   "cell_type": "markdown",
   "id": "9c7af561",
   "metadata": {},
   "source": [
    "# Detailed description df2"
   ]
  },
  {
   "cell_type": "code",
   "execution_count": 73,
   "id": "576a16c7",
   "metadata": {},
   "outputs": [
    {
     "data": {
      "text/html": [
       "<div>\n",
       "<style scoped>\n",
       "    .dataframe tbody tr th:only-of-type {\n",
       "        vertical-align: middle;\n",
       "    }\n",
       "\n",
       "    .dataframe tbody tr th {\n",
       "        vertical-align: top;\n",
       "    }\n",
       "\n",
       "    .dataframe thead th {\n",
       "        text-align: right;\n",
       "    }\n",
       "</style>\n",
       "<table border=\"1\" class=\"dataframe\">\n",
       "  <thead>\n",
       "    <tr style=\"text-align: right;\">\n",
       "      <th></th>\n",
       "      <th>Airline</th>\n",
       "      <th>Date_of_Journey</th>\n",
       "      <th>Source</th>\n",
       "      <th>Destination</th>\n",
       "      <th>Route</th>\n",
       "      <th>Dep_Time</th>\n",
       "      <th>Arrival_Time</th>\n",
       "      <th>Duration</th>\n",
       "      <th>Total_Stops</th>\n",
       "      <th>Additional_Info</th>\n",
       "    </tr>\n",
       "  </thead>\n",
       "  <tbody>\n",
       "    <tr>\n",
       "      <th>count</th>\n",
       "      <td>2671</td>\n",
       "      <td>2671</td>\n",
       "      <td>2671</td>\n",
       "      <td>2671</td>\n",
       "      <td>2671</td>\n",
       "      <td>2671</td>\n",
       "      <td>2671</td>\n",
       "      <td>2671</td>\n",
       "      <td>2671</td>\n",
       "      <td>2671</td>\n",
       "    </tr>\n",
       "    <tr>\n",
       "      <th>unique</th>\n",
       "      <td>11</td>\n",
       "      <td>44</td>\n",
       "      <td>5</td>\n",
       "      <td>6</td>\n",
       "      <td>100</td>\n",
       "      <td>199</td>\n",
       "      <td>704</td>\n",
       "      <td>320</td>\n",
       "      <td>5</td>\n",
       "      <td>6</td>\n",
       "    </tr>\n",
       "    <tr>\n",
       "      <th>top</th>\n",
       "      <td>Jet Airways</td>\n",
       "      <td>9/05/2019</td>\n",
       "      <td>Delhi</td>\n",
       "      <td>Cochin</td>\n",
       "      <td>DEL → BOM → COK</td>\n",
       "      <td>10:00</td>\n",
       "      <td>19:00</td>\n",
       "      <td>2h 50m</td>\n",
       "      <td>1 stop</td>\n",
       "      <td>No info</td>\n",
       "    </tr>\n",
       "    <tr>\n",
       "      <th>freq</th>\n",
       "      <td>897</td>\n",
       "      <td>144</td>\n",
       "      <td>1145</td>\n",
       "      <td>1145</td>\n",
       "      <td>624</td>\n",
       "      <td>62</td>\n",
       "      <td>113</td>\n",
       "      <td>122</td>\n",
       "      <td>1431</td>\n",
       "      <td>2148</td>\n",
       "    </tr>\n",
       "  </tbody>\n",
       "</table>\n",
       "</div>"
      ],
      "text/plain": [
       "            Airline Date_of_Journey Source Destination            Route  \\\n",
       "count          2671            2671   2671        2671             2671   \n",
       "unique           11              44      5           6              100   \n",
       "top     Jet Airways       9/05/2019  Delhi      Cochin  DEL → BOM → COK   \n",
       "freq            897             144   1145        1145              624   \n",
       "\n",
       "       Dep_Time Arrival_Time Duration Total_Stops Additional_Info  \n",
       "count      2671         2671     2671        2671            2671  \n",
       "unique      199          704      320           5               6  \n",
       "top       10:00        19:00   2h 50m      1 stop         No info  \n",
       "freq         62          113      122        1431            2148  "
      ]
     },
     "execution_count": 73,
     "metadata": {},
     "output_type": "execute_result"
    }
   ],
   "source": [
    "df2.describe()#describe of data"
   ]
  },
  {
   "cell_type": "markdown",
   "id": "c13ce9ce",
   "metadata": {},
   "source": [
    "We can see the detailed description of all the rows and columns like count, mean value, standard deviation, minimum and maximum values."
   ]
  },
  {
   "cell_type": "markdown",
   "id": "404c7f82",
   "metadata": {},
   "source": [
    "# Datatypes of all columns in df2"
   ]
  },
  {
   "cell_type": "code",
   "execution_count": 74,
   "id": "5a1103e1",
   "metadata": {},
   "outputs": [
    {
     "data": {
      "text/plain": [
       "Airline            object\n",
       "Date_of_Journey    object\n",
       "Source             object\n",
       "Destination        object\n",
       "Route              object\n",
       "Dep_Time           object\n",
       "Arrival_Time       object\n",
       "Duration           object\n",
       "Total_Stops        object\n",
       "Additional_Info    object\n",
       "dtype: object"
      ]
     },
     "execution_count": 74,
     "metadata": {},
     "output_type": "execute_result"
    }
   ],
   "source": [
    "df2.dtypes#datatypes"
   ]
  },
  {
   "cell_type": "markdown",
   "id": "5252e154",
   "metadata": {},
   "source": [
    "All columns are having object datatypes :\"Airline\", \"Date_of_Journey\", \"Source\", \"Destination\", 'Route\", \"Dep_Time\", \"Arrival_Time\", \"Duration\", \"Total_Stops\", \"Additional_Info"
   ]
  },
  {
   "cell_type": "markdown",
   "id": "1fcca462",
   "metadata": {},
   "source": [
    "# Check is there any null value in test dataset df2"
   ]
  },
  {
   "cell_type": "code",
   "execution_count": 75,
   "id": "f75540d1",
   "metadata": {},
   "outputs": [
    {
     "data": {
      "text/plain": [
       "Airline            0\n",
       "Date_of_Journey    0\n",
       "Source             0\n",
       "Destination        0\n",
       "Route              0\n",
       "Dep_Time           0\n",
       "Arrival_Time       0\n",
       "Duration           0\n",
       "Total_Stops        0\n",
       "Additional_Info    0\n",
       "dtype: int64"
      ]
     },
     "execution_count": 75,
     "metadata": {},
     "output_type": "execute_result"
    }
   ],
   "source": [
    "#check is there any null value present in any column\n",
    "\n",
    "df2.isnull().sum()\n"
   ]
  },
  {
   "cell_type": "markdown",
   "id": "f043acec",
   "metadata": {},
   "source": [
    "There are no null values present in whole dataset."
   ]
  },
  {
   "cell_type": "markdown",
   "id": "20f95fee",
   "metadata": {},
   "source": [
    "# EDA (Exploratory Data Analysis)\n"
   ]
  },
  {
   "cell_type": "markdown",
   "id": "fcaf970e",
   "metadata": {},
   "source": [
    "Visualization (Uni Variate analysis)¶"
   ]
  },
  {
   "cell_type": "markdown",
   "id": "1fda6858",
   "metadata": {},
   "source": [
    "1. Countplot"
   ]
  },
  {
   "cell_type": "code",
   "execution_count": 76,
   "id": "20705d5d",
   "metadata": {},
   "outputs": [
    {
     "data": {
      "image/png": "[encoded data removed]",
      "text/plain": [
       "<Figure size 432x288 with 1 Axes>"
      ]
     },
     "metadata": {
      "needs_background": "light"
     },
     "output_type": "display_data"
    }
   ],
   "source": [
    "#visualization of variables \n",
    "sn.countplot(df2[\"Airline\"])\n",
    "plt.show()"
   ]
  },
  {
   "cell_type": "code",
   "execution_count": 77,
   "id": "7b716a94",
   "metadata": {},
   "outputs": [
    {
     "data": {
      "image/png": "[encoded data removed]",
      "text/plain": [
       "<Figure size 432x288 with 1 Axes>"
      ]
     },
     "metadata": {
      "needs_background": "light"
     },
     "output_type": "display_data"
    }
   ],
   "source": [
    "#visualization of variables \n",
    "sn.countplot(df2[\"Date_of_Journey\"])\n",
    "plt.show()"
   ]
  },
  {
   "cell_type": "code",
   "execution_count": 78,
   "id": "00435afa",
   "metadata": {},
   "outputs": [
    {
     "data": {
      "image/png": "[encoded data removed]",
      "text/plain": [
       "<Figure size 432x288 with 1 Axes>"
      ]
     },
     "metadata": {
      "needs_background": "light"
     },
     "output_type": "display_data"
    }
   ],
   "source": [
    "#visualization of variables \n",
    "sn.countplot(df2[\"Source\"])\n",
    "plt.show()"
   ]
  },
  {
   "cell_type": "code",
   "execution_count": 79,
   "id": "f949cd7c",
   "metadata": {},
   "outputs": [
    {
     "data": {
      "image/png": "[encoded data removed]",
      "text/plain": [
       "<Figure size 432x288 with 1 Axes>"
      ]
     },
     "metadata": {
      "needs_background": "light"
     },
     "output_type": "display_data"
    }
   ],
   "source": [
    "#visualization of variables \n",
    "sn.countplot(df2[\"Destination\"])\n",
    "plt.show()"
   ]
  },
  {
   "cell_type": "code",
   "execution_count": 80,
   "id": "5e83584d",
   "metadata": {},
   "outputs": [
    {
     "data": {
      "image/png": "[encoded data removed]",
      "text/plain": [
       "<Figure size 432x288 with 1 Axes>"
      ]
     },
     "metadata": {
      "needs_background": "light"
     },
     "output_type": "display_data"
    }
   ],
   "source": [
    "#visualization of variables \n",
    "sn.countplot(df2[\"Route\"])\n",
    "plt.show()"
   ]
  },
  {
   "cell_type": "code",
   "execution_count": 81,
   "id": "76a73855",
   "metadata": {},
   "outputs": [
    {
     "data": {
      "image/png": "[encoded data removed]",
      "text/plain": [
       "<Figure size 432x288 with 1 Axes>"
      ]
     },
     "metadata": {
      "needs_background": "light"
     },
     "output_type": "display_data"
    }
   ],
   "source": [
    "#visualization of variables \n",
    "sn.countplot(df2[\"Dep_Time\"])\n",
    "plt.show()"
   ]
  },
  {
   "cell_type": "code",
   "execution_count": 82,
   "id": "144a2bc9",
   "metadata": {},
   "outputs": [
    {
     "data": {
      "image/png": "[encoded data removed]",
      "text/plain": [
       "<Figure size 432x288 with 1 Axes>"
      ]
     },
     "metadata": {
      "needs_background": "light"
     },
     "output_type": "display_data"
    }
   ],
   "source": [
    "#visualization of variables \n",
    "sn.countplot(df2[\"Arrival_Time\"])\n",
    "plt.show()"
   ]
  },
  {
   "cell_type": "code",
   "execution_count": 83,
   "id": "3e30be97",
   "metadata": {},
   "outputs": [
    {
     "data": {
      "image/png": "[encoded data removed]",
      "text/plain": [
       "<Figure size 432x288 with 1 Axes>"
      ]
     },
     "metadata": {
      "needs_background": "light"
     },
     "output_type": "display_data"
    }
   ],
   "source": [
    "#visualization of variables \n",
    "sn.countplot(df2[\"Duration\"])\n",
    "plt.show()"
   ]
  },
  {
   "cell_type": "code",
   "execution_count": 84,
   "id": "6f863f05",
   "metadata": {},
   "outputs": [
    {
     "data": {
      "image/png": "[encoded data removed]",
      "text/plain": [
       "<Figure size 432x288 with 1 Axes>"
      ]
     },
     "metadata": {
      "needs_background": "light"
     },
     "output_type": "display_data"
    }
   ],
   "source": [
    "#visualization of variables \n",
    "sn.countplot(df2[\"Total_Stops\"])\n",
    "plt.show()"
   ]
  },
  {
   "cell_type": "code",
   "execution_count": 85,
   "id": "bf6370fd",
   "metadata": {},
   "outputs": [
    {
     "data": {
      "image/png": "[encoded data removed]",
      "text/plain": [
       "<Figure size 432x288 with 1 Axes>"
      ]
     },
     "metadata": {
      "needs_background": "light"
     },
     "output_type": "display_data"
    }
   ],
   "source": [
    "#visualization of variables \n",
    "sn.countplot(df2[\"Additional_Info\"])\n",
    "plt.show()"
   ]
  },
  {
   "cell_type": "code",
   "execution_count": 86,
   "id": "7fa9f7ad",
   "metadata": {},
   "outputs": [
    {
     "data": {
      "text/html": [
       "<div>\n",
       "<style scoped>\n",
       "    .dataframe tbody tr th:only-of-type {\n",
       "        vertical-align: middle;\n",
       "    }\n",
       "\n",
       "    .dataframe tbody tr th {\n",
       "        vertical-align: top;\n",
       "    }\n",
       "\n",
       "    .dataframe thead th {\n",
       "        text-align: right;\n",
       "    }\n",
       "</style>\n",
       "<table border=\"1\" class=\"dataframe\">\n",
       "  <thead>\n",
       "    <tr style=\"text-align: right;\">\n",
       "      <th></th>\n",
       "      <th>Airline</th>\n",
       "      <th>Date_of_Journey</th>\n",
       "      <th>Source</th>\n",
       "      <th>Destination</th>\n",
       "      <th>Route</th>\n",
       "      <th>Dep_Time</th>\n",
       "      <th>Arrival_Time</th>\n",
       "      <th>Duration</th>\n",
       "      <th>Total_Stops</th>\n",
       "      <th>Additional_Info</th>\n",
       "    </tr>\n",
       "  </thead>\n",
       "  <tbody>\n",
       "    <tr>\n",
       "      <th>0</th>\n",
       "      <td>Jet Airways</td>\n",
       "      <td>6/06/2019</td>\n",
       "      <td>Delhi</td>\n",
       "      <td>Cochin</td>\n",
       "      <td>DEL → BOM → COK</td>\n",
       "      <td>17:30</td>\n",
       "      <td>04:25 07 Jun</td>\n",
       "      <td>10h 55m</td>\n",
       "      <td>1 stop</td>\n",
       "      <td>No info</td>\n",
       "    </tr>\n",
       "    <tr>\n",
       "      <th>1</th>\n",
       "      <td>IndiGo</td>\n",
       "      <td>12/05/2019</td>\n",
       "      <td>Kolkata</td>\n",
       "      <td>Banglore</td>\n",
       "      <td>CCU → MAA → BLR</td>\n",
       "      <td>06:20</td>\n",
       "      <td>10:20</td>\n",
       "      <td>4h</td>\n",
       "      <td>1 stop</td>\n",
       "      <td>No info</td>\n",
       "    </tr>\n",
       "    <tr>\n",
       "      <th>2</th>\n",
       "      <td>Jet Airways</td>\n",
       "      <td>21/05/2019</td>\n",
       "      <td>Delhi</td>\n",
       "      <td>Cochin</td>\n",
       "      <td>DEL → BOM → COK</td>\n",
       "      <td>19:15</td>\n",
       "      <td>19:00 22 May</td>\n",
       "      <td>23h 45m</td>\n",
       "      <td>1 stop</td>\n",
       "      <td>In-flight meal not included</td>\n",
       "    </tr>\n",
       "    <tr>\n",
       "      <th>3</th>\n",
       "      <td>Multiple carriers</td>\n",
       "      <td>21/05/2019</td>\n",
       "      <td>Delhi</td>\n",
       "      <td>Cochin</td>\n",
       "      <td>DEL → BOM → COK</td>\n",
       "      <td>08:00</td>\n",
       "      <td>21:00</td>\n",
       "      <td>13h</td>\n",
       "      <td>1 stop</td>\n",
       "      <td>No info</td>\n",
       "    </tr>\n",
       "    <tr>\n",
       "      <th>4</th>\n",
       "      <td>Air Asia</td>\n",
       "      <td>24/06/2019</td>\n",
       "      <td>Banglore</td>\n",
       "      <td>Delhi</td>\n",
       "      <td>BLR → DEL</td>\n",
       "      <td>23:55</td>\n",
       "      <td>02:45 25 Jun</td>\n",
       "      <td>2h 50m</td>\n",
       "      <td>non-stop</td>\n",
       "      <td>No info</td>\n",
       "    </tr>\n",
       "  </tbody>\n",
       "</table>\n",
       "</div>"
      ],
      "text/plain": [
       "             Airline Date_of_Journey    Source Destination            Route  \\\n",
       "0        Jet Airways       6/06/2019     Delhi      Cochin  DEL → BOM → COK   \n",
       "1             IndiGo      12/05/2019   Kolkata    Banglore  CCU → MAA → BLR   \n",
       "2        Jet Airways      21/05/2019     Delhi      Cochin  DEL → BOM → COK   \n",
       "3  Multiple carriers      21/05/2019     Delhi      Cochin  DEL → BOM → COK   \n",
       "4           Air Asia      24/06/2019  Banglore       Delhi        BLR → DEL   \n",
       "\n",
       "  Dep_Time  Arrival_Time Duration Total_Stops              Additional_Info  \n",
       "0    17:30  04:25 07 Jun  10h 55m      1 stop                      No info  \n",
       "1    06:20         10:20       4h      1 stop                      No info  \n",
       "2    19:15  19:00 22 May  23h 45m      1 stop  In-flight meal not included  \n",
       "3    08:00         21:00      13h      1 stop                      No info  \n",
       "4    23:55  02:45 25 Jun   2h 50m    non-stop                      No info  "
      ]
     },
     "execution_count": 86,
     "metadata": {},
     "output_type": "execute_result"
    }
   ],
   "source": [
    "df2.head()#top 5 rows"
   ]
  },
  {
   "cell_type": "markdown",
   "id": "2e81ee5c",
   "metadata": {},
   "source": [
    "# Encoding, Droping and Missing data handling"
   ]
  },
  {
   "cell_type": "markdown",
   "id": "e356ba49",
   "metadata": {},
   "source": [
    "# 1. Airline'"
   ]
  },
  {
   "cell_type": "code",
   "execution_count": 87,
   "id": "1e542a52",
   "metadata": {},
   "outputs": [
    {
     "data": {
      "text/plain": [
       "array(['Jet Airways', 'IndiGo', 'Multiple carriers', 'Air Asia',\n",
       "       'Air India', 'Vistara', 'SpiceJet', 'Vistara Premium economy',\n",
       "       'GoAir', 'Multiple carriers Premium economy',\n",
       "       'Jet Airways Business'], dtype=object)"
      ]
     },
     "execution_count": 87,
     "metadata": {},
     "output_type": "execute_result"
    }
   ],
   "source": [
    "df2['Airline'].unique() #chking unique value"
   ]
  },
  {
   "cell_type": "code",
   "execution_count": 88,
   "id": "5fe98dfb",
   "metadata": {},
   "outputs": [
    {
     "data": {
      "text/plain": [
       "Jet Airways                          897\n",
       "IndiGo                               511\n",
       "Air India                            440\n",
       "Multiple carriers                    347\n",
       "SpiceJet                             208\n",
       "Vistara                              129\n",
       "Air Asia                              86\n",
       "GoAir                                 46\n",
       "Multiple carriers Premium economy      3\n",
       "Vistara Premium economy                2\n",
       "Jet Airways Business                   2\n",
       "Name: Airline, dtype: int64"
      ]
     },
     "execution_count": 88,
     "metadata": {},
     "output_type": "execute_result"
    }
   ],
   "source": [
    "df2['Airline'].value_counts()#value counts"
   ]
  },
  {
   "cell_type": "markdown",
   "id": "9f948c3b",
   "metadata": {},
   "source": [
    "# 2. Extract the Date_of_Journey column\n"
   ]
  },
  {
   "cell_type": "code",
   "execution_count": 89,
   "id": "c9ad375d",
   "metadata": {},
   "outputs": [
    {
     "data": {
      "text/plain": [
       "array(['6/06/2019', '12/05/2019', '21/05/2019', '24/06/2019',\n",
       "       '12/06/2019', '12/03/2019', '1/05/2019', '15/03/2019',\n",
       "       '18/05/2019', '21/03/2019', '15/06/2019', '15/05/2019',\n",
       "       '3/06/2019', '06/03/2019', '24/03/2019', '6/03/2019', '9/05/2019',\n",
       "       '18/03/2019', '6/04/2019', '1/06/2019', '3/03/2019', '27/03/2019',\n",
       "       '9/06/2019', '3/05/2019', '1/04/2019', '18/06/2019', '15/04/2019',\n",
       "       '6/05/2019', '9/03/2019', '3/04/2019', '27/06/2019', '21/06/2019',\n",
       "       '21/04/2019', '18/04/2019', '9/04/2019', '24/05/2019',\n",
       "       '01/03/2019', '09/03/2019', '27/05/2019', '03/03/2019',\n",
       "       '27/04/2019', '1/03/2019', '24/04/2019', '12/04/2019'],\n",
       "      dtype=object)"
      ]
     },
     "execution_count": 89,
     "metadata": {},
     "output_type": "execute_result"
    }
   ],
   "source": [
    "df2['Date_of_Journey'].unique()"
   ]
  },
  {
   "cell_type": "code",
   "execution_count": 90,
   "id": "df472683",
   "metadata": {},
   "outputs": [],
   "source": [
    "df2[\"Date_of_Journey\"]=pd.to_datetime(df2[\"Date_of_Journey\"])"
   ]
  },
  {
   "cell_type": "code",
   "execution_count": 91,
   "id": "a9a1cbf1",
   "metadata": {},
   "outputs": [],
   "source": [
    "df2[\"Journey_Year\"] = df2[\"Date_of_Journey\"].dt.year"
   ]
  },
  {
   "cell_type": "code",
   "execution_count": 92,
   "id": "3569bb9b",
   "metadata": {},
   "outputs": [],
   "source": [
    "df2[\"Journey_Month\"] = df2[\"Date_of_Journey\"].dt.month"
   ]
  },
  {
   "cell_type": "code",
   "execution_count": 93,
   "id": "780831c0",
   "metadata": {},
   "outputs": [],
   "source": [
    "df2[\"Journey_day\"] = df2[\"Date_of_Journey\"].dt.day"
   ]
  },
  {
   "cell_type": "code",
   "execution_count": 94,
   "id": "87d0a187",
   "metadata": {},
   "outputs": [
    {
     "data": {
      "text/plain": [
       "array([2019])"
      ]
     },
     "execution_count": 94,
     "metadata": {},
     "output_type": "execute_result"
    }
   ],
   "source": [
    "df2[\"Journey_Year\"].unique()"
   ]
  },
  {
   "cell_type": "code",
   "execution_count": 95,
   "id": "32f50b28",
   "metadata": {},
   "outputs": [],
   "source": [
    "#drop Journey_Year column\n",
    "df2=df2.drop(['Journey_Year'], axis=1)"
   ]
  },
  {
   "cell_type": "code",
   "execution_count": 96,
   "id": "2693deed",
   "metadata": {},
   "outputs": [],
   "source": [
    "#drop Date column\n",
    "df2=df2.drop(['Date_of_Journey'], axis=1)"
   ]
  },
  {
   "cell_type": "markdown",
   "id": "2fe4948b",
   "metadata": {},
   "source": [
    "# 3.Source"
   ]
  },
  {
   "cell_type": "code",
   "execution_count": 97,
   "id": "8072d9d8",
   "metadata": {},
   "outputs": [
    {
     "data": {
      "text/plain": [
       "array(['Delhi', 'Kolkata', 'Banglore', 'Mumbai', 'Chennai'], dtype=object)"
      ]
     },
     "execution_count": 97,
     "metadata": {},
     "output_type": "execute_result"
    }
   ],
   "source": [
    "df2['Source'].unique() #unique values"
   ]
  },
  {
   "cell_type": "code",
   "execution_count": 98,
   "id": "d19515c0",
   "metadata": {},
   "outputs": [
    {
     "data": {
      "text/plain": [
       "Delhi       1145\n",
       "Kolkata      710\n",
       "Banglore     555\n",
       "Mumbai       186\n",
       "Chennai       75\n",
       "Name: Source, dtype: int64"
      ]
     },
     "execution_count": 98,
     "metadata": {},
     "output_type": "execute_result"
    }
   ],
   "source": [
    "df2['Source'].value_counts()"
   ]
  },
  {
   "cell_type": "markdown",
   "id": "1e8e7120",
   "metadata": {},
   "source": [
    "# 4.Destination"
   ]
  },
  {
   "cell_type": "code",
   "execution_count": 99,
   "id": "9cbafb6e",
   "metadata": {},
   "outputs": [
    {
     "data": {
      "text/plain": [
       "array(['Cochin', 'Banglore', 'Delhi', 'New Delhi', 'Hyderabad', 'Kolkata'],\n",
       "      dtype=object)"
      ]
     },
     "execution_count": 99,
     "metadata": {},
     "output_type": "execute_result"
    }
   ],
   "source": [
    "df2['Destination'].unique()#chking unique values"
   ]
  },
  {
   "cell_type": "code",
   "execution_count": 100,
   "id": "b73af9e5",
   "metadata": {},
   "outputs": [
    {
     "data": {
      "text/plain": [
       "Cochin       1145\n",
       "Banglore      710\n",
       "Delhi         317\n",
       "New Delhi     238\n",
       "Hyderabad     186\n",
       "Kolkata        75\n",
       "Name: Destination, dtype: int64"
      ]
     },
     "execution_count": 100,
     "metadata": {},
     "output_type": "execute_result"
    }
   ],
   "source": [
    "df2['Destination'].value_counts()"
   ]
  },
  {
   "cell_type": "markdown",
   "id": "886df9c5",
   "metadata": {},
   "source": [
    "# 5.Route"
   ]
  },
  {
   "cell_type": "code",
   "execution_count": 101,
   "id": "cd96d6eb",
   "metadata": {},
   "outputs": [
    {
     "data": {
      "text/plain": [
       "DEL → BOM → COK          624\n",
       "BLR → DEL                389\n",
       "CCU → BOM → BLR          253\n",
       "CCU → BLR                172\n",
       "BOM → HYD                164\n",
       "                        ... \n",
       "BLR → VGA → DEL            1\n",
       "CCU → BOM → TRV → BLR      1\n",
       "BLR → BOM → UDR → DEL      1\n",
       "CCU → BBI → HYD → BLR      1\n",
       "BOM → GOI → HYD            1\n",
       "Name: Route, Length: 100, dtype: int64"
      ]
     },
     "execution_count": 101,
     "metadata": {},
     "output_type": "execute_result"
    }
   ],
   "source": [
    "df2['Route'].value_counts()#value counts for route"
   ]
  },
  {
   "cell_type": "markdown",
   "id": "57efcc3a",
   "metadata": {},
   "source": [
    "# 6.Extract Dep_Time column"
   ]
  },
  {
   "cell_type": "code",
   "execution_count": 102,
   "id": "09a13576",
   "metadata": {},
   "outputs": [
    {
     "data": {
      "text/plain": [
       "array(['17:30', '06:20', '19:15', '08:00', '23:55', '18:15', '07:30',\n",
       "       '15:15', '10:10', '16:30', '13:55', '06:50', '09:00', '05:45',\n",
       "       '21:25', '13:15', '09:55', '22:55', '10:45', '20:00', '05:30',\n",
       "       '21:05', '16:00', '14:00', '22:50', '19:50', '07:10', '05:55',\n",
       "       '16:55', '18:55', '10:20', '17:10', '13:00', '22:45', '21:00',\n",
       "       '17:45', '09:25', '14:05', '09:45', '02:00', '11:40', '17:00',\n",
       "       '06:00', '07:05', '16:45', '19:40', '03:50', '21:15', '11:30',\n",
       "       '12:00', '21:50', '05:50', '07:55', '09:10', '08:20', '09:30',\n",
       "       '10:00', '14:55', '22:10', '07:00', '19:55', '19:30', '15:00',\n",
       "       '05:35', '06:40', '17:15', '21:20', '07:35', '06:55', '17:35',\n",
       "       '11:15', '20:15', '20:25', '05:40', '15:05', '20:55', '14:25',\n",
       "       '19:45', '08:25', '22:00', '21:10', '02:15', '08:30', '20:40',\n",
       "       '14:15', '14:35', '11:10', '19:35', '15:20', '06:10', '22:20',\n",
       "       '08:35', '14:40', '09:40', '01:30', '08:50', '19:05', '08:55',\n",
       "       '11:35', '04:55', '14:10', '09:35', '17:50', '15:45', '02:55',\n",
       "       '00:30', '19:00', '23:05', '11:25', '05:25', '05:15', '12:50',\n",
       "       '06:45', '18:05', '13:25', '09:20', '02:30', '23:30', '07:45',\n",
       "       '11:55', '20:20', '08:15', '17:25', '09:50', '15:50', '10:35',\n",
       "       '14:30', '06:30', '11:50', '19:10', '20:45', '15:10', '16:50',\n",
       "       '16:35', '10:30', '04:45', '04:00', '04:40', '18:25', '15:35',\n",
       "       '19:20', '13:10', '13:05', '09:15', '20:30', '12:30', '11:00',\n",
       "       '08:45', '07:20', '14:45', '10:55', '05:00', '15:55', '15:30',\n",
       "       '20:05', '18:45', '16:10', '23:25', '16:40', '07:15', '13:20',\n",
       "       '06:05', '20:50', '11:20', '06:15', '18:00', '18:40', '12:55',\n",
       "       '05:10', '22:05', '07:25', '05:05', '22:30', '04:50', '18:20',\n",
       "       '17:40', '00:40', '11:45', '22:15', '15:40', '14:20', '20:35',\n",
       "       '13:30', '02:35', '17:05', '17:55', '21:30', '22:40', '08:10',\n",
       "       '06:25', '20:10', '18:35', '13:50', '00:25', '01:35', '16:15',\n",
       "       '10:25', '12:10', '23:00'], dtype=object)"
      ]
     },
     "execution_count": 102,
     "metadata": {},
     "output_type": "execute_result"
    }
   ],
   "source": [
    "df2['Dep_Time'].unique()#chking unique values"
   ]
  },
  {
   "cell_type": "code",
   "execution_count": 103,
   "id": "23229ee7",
   "metadata": {},
   "outputs": [
    {
     "data": {
      "text/plain": [
       "10:00    62\n",
       "18:55    55\n",
       "20:00    53\n",
       "14:05    51\n",
       "17:00    48\n",
       "         ..\n",
       "15:40     1\n",
       "12:10     1\n",
       "16:35     1\n",
       "23:00     1\n",
       "10:25     1\n",
       "Name: Dep_Time, Length: 199, dtype: int64"
      ]
     },
     "execution_count": 103,
     "metadata": {},
     "output_type": "execute_result"
    }
   ],
   "source": [
    "df2['Dep_Time'].value_counts()"
   ]
  },
  {
   "cell_type": "code",
   "execution_count": 104,
   "id": "00695e46",
   "metadata": {},
   "outputs": [],
   "source": [
    "df2[\"Dep_Time\"]=pd.to_datetime(df2[\"Dep_Time\"])#convert to datetime"
   ]
  },
  {
   "cell_type": "code",
   "execution_count": 105,
   "id": "a6bfc47e",
   "metadata": {},
   "outputs": [],
   "source": [
    "df2[\"Dep_Hour\"] = df2[\"Dep_Time\"].dt.hour #hour"
   ]
  },
  {
   "cell_type": "code",
   "execution_count": 106,
   "id": "70b38c36",
   "metadata": {},
   "outputs": [],
   "source": [
    "df2[\"Dep_Minute\"] = df2[\"Dep_Time\"].dt.minute#minute"
   ]
  },
  {
   "cell_type": "code",
   "execution_count": 107,
   "id": "1906f583",
   "metadata": {},
   "outputs": [],
   "source": [
    "#drop Dep_Time column\n",
    "df2=df2.drop(['Dep_Time'], axis=1)"
   ]
  },
  {
   "cell_type": "markdown",
   "id": "d6831e4d",
   "metadata": {},
   "source": [
    "# 7. Extract Arrival_Time column"
   ]
  },
  {
   "cell_type": "code",
   "execution_count": 108,
   "id": "e100f9ff",
   "metadata": {},
   "outputs": [
    {
     "data": {
      "text/plain": [
       "19:00           113\n",
       "21:00           106\n",
       "19:15           101\n",
       "12:35            37\n",
       "16:10            31\n",
       "               ... \n",
       "08:55 19 May      1\n",
       "16:25             1\n",
       "00:05 02 May      1\n",
       "18:00 25 May      1\n",
       "01:20 22 May      1\n",
       "Name: Arrival_Time, Length: 704, dtype: int64"
      ]
     },
     "execution_count": 108,
     "metadata": {},
     "output_type": "execute_result"
    }
   ],
   "source": [
    "df2['Arrival_Time'].value_counts()"
   ]
  },
  {
   "cell_type": "code",
   "execution_count": 109,
   "id": "3d114c89",
   "metadata": {},
   "outputs": [],
   "source": [
    "df2[\"Arrival_Time\"]=pd.to_datetime(df2[\"Arrival_Time\"])#convert to datetime"
   ]
  },
  {
   "cell_type": "code",
   "execution_count": 110,
   "id": "1b046b51",
   "metadata": {},
   "outputs": [],
   "source": [
    "df2[\"Arrival_Hour\"] = df2[\"Arrival_Time\"].dt.hour#to hour"
   ]
  },
  {
   "cell_type": "code",
   "execution_count": 111,
   "id": "fd5e1123",
   "metadata": {},
   "outputs": [],
   "source": [
    "df2[\"Arrival_Minute\"] = df2[\"Arrival_Time\"].dt.minute#to minute"
   ]
  },
  {
   "cell_type": "code",
   "execution_count": 112,
   "id": "870c7ef8",
   "metadata": {},
   "outputs": [],
   "source": [
    "df2[\"Arrival_day\"] = df2[\"Arrival_Time\"].dt.day"
   ]
  },
  {
   "cell_type": "code",
   "execution_count": 113,
   "id": "f5b50f75",
   "metadata": {},
   "outputs": [],
   "source": [
    "df2[\"Arrival_Month\"] = df2[\"Arrival_Time\"].dt.month"
   ]
  },
  {
   "cell_type": "code",
   "execution_count": 114,
   "id": "4e9f912f",
   "metadata": {},
   "outputs": [],
   "source": [
    "#drop Arrival_Time column\n",
    "df2=df2.drop(['Arrival_Time'], axis=1)"
   ]
  },
  {
   "cell_type": "code",
   "execution_count": 115,
   "id": "b66f0778",
   "metadata": {},
   "outputs": [],
   "source": [
    "df2=df2.drop(['Arrival_day'], axis=1)#drop this column"
   ]
  },
  {
   "cell_type": "code",
   "execution_count": 116,
   "id": "81703eaf",
   "metadata": {},
   "outputs": [],
   "source": [
    "df2=df2.drop(['Arrival_Month'], axis=1)#drop this column"
   ]
  },
  {
   "cell_type": "markdown",
   "id": "86167f05",
   "metadata": {},
   "source": [
    "# 8.Duration"
   ]
  },
  {
   "cell_type": "code",
   "execution_count": 117,
   "id": "4515bd38",
   "metadata": {},
   "outputs": [
    {
     "data": {
      "text/plain": [
       "2h 50m     122\n",
       "1h 30m     107\n",
       "2h 45m      95\n",
       "2h 55m      81\n",
       "3h          72\n",
       "          ... \n",
       "27h 55m      1\n",
       "19h 15m      1\n",
       "34h 30m      1\n",
       "4h 10m       1\n",
       "22h 40m      1\n",
       "Name: Duration, Length: 320, dtype: int64"
      ]
     },
     "execution_count": 117,
     "metadata": {},
     "output_type": "execute_result"
    }
   ],
   "source": [
    "df2['Duration'].value_counts()"
   ]
  },
  {
   "cell_type": "markdown",
   "id": "87197335",
   "metadata": {},
   "source": [
    "# 9. Total_Stops"
   ]
  },
  {
   "cell_type": "code",
   "execution_count": 118,
   "id": "147ab83f",
   "metadata": {},
   "outputs": [
    {
     "data": {
      "text/plain": [
       "1 stop      1431\n",
       "non-stop     849\n",
       "2 stops      379\n",
       "3 stops       11\n",
       "4 stops        1\n",
       "Name: Total_Stops, dtype: int64"
      ]
     },
     "execution_count": 118,
     "metadata": {},
     "output_type": "execute_result"
    }
   ],
   "source": [
    "df2['Total_Stops'].value_counts()#value counts for total stops"
   ]
  },
  {
   "cell_type": "markdown",
   "id": "1cf14cd5",
   "metadata": {},
   "source": [
    "# 10.Additional_Info"
   ]
  },
  {
   "cell_type": "code",
   "execution_count": 119,
   "id": "6c0b2df0",
   "metadata": {},
   "outputs": [
    {
     "data": {
      "text/plain": [
       "No info                         2148\n",
       "In-flight meal not included      444\n",
       "No check-in baggage included      76\n",
       "1 Long layover                     1\n",
       "Business class                     1\n",
       "Change airports                    1\n",
       "Name: Additional_Info, dtype: int64"
      ]
     },
     "execution_count": 119,
     "metadata": {},
     "output_type": "execute_result"
    }
   ],
   "source": [
    "df2['Additional_Info'].value_counts()#value counts for additional info"
   ]
  },
  {
   "cell_type": "code",
   "execution_count": 120,
   "id": "a5797090",
   "metadata": {},
   "outputs": [],
   "source": [
    "df2= df2.drop(['Additional_Info'], axis=1)#drop the column"
   ]
  },
  {
   "cell_type": "markdown",
   "id": "d46812b2",
   "metadata": {},
   "source": [
    "# Label encoder"
   ]
  },
  {
   "cell_type": "code",
   "execution_count": 121,
   "id": "8a3564ac",
   "metadata": {},
   "outputs": [],
   "source": [
    "from sklearn.preprocessing import LabelEncoder\n",
    "le = LabelEncoder()"
   ]
  },
  {
   "cell_type": "code",
   "execution_count": 122,
   "id": "3f652f10",
   "metadata": {},
   "outputs": [],
   "source": [
    "for i in df2.columns:\n",
    "    if df2[i].dtypes==\"object\":\n",
    "        df2[i]=le.fit_transform(df2[i].values.reshape(-1,1))\n"
   ]
  },
  {
   "cell_type": "code",
   "execution_count": 123,
   "id": "73c0e436",
   "metadata": {},
   "outputs": [
    {
     "data": {
      "text/plain": [
       "Airline           int64\n",
       "Source            int64\n",
       "Destination       int64\n",
       "Route             int64\n",
       "Duration          int64\n",
       "Total_Stops       int64\n",
       "Journey_Month     int64\n",
       "Journey_day       int64\n",
       "Dep_Hour          int64\n",
       "Dep_Minute        int64\n",
       "Arrival_Hour      int64\n",
       "Arrival_Minute    int64\n",
       "dtype: object"
      ]
     },
     "execution_count": 123,
     "metadata": {},
     "output_type": "execute_result"
    }
   ],
   "source": [
    "df2.dtypes #chking datatypes again"
   ]
  },
  {
   "cell_type": "markdown",
   "id": "bcc9c252",
   "metadata": {},
   "source": [
    "# Remove outliers"
   ]
  },
  {
   "cell_type": "markdown",
   "id": "5de58f41",
   "metadata": {},
   "source": [
    "Now we found the outliers and skewness in some variables.Removing outliers first."
   ]
  },
  {
   "cell_type": "code",
   "execution_count": 124,
   "id": "7bf82ff2",
   "metadata": {},
   "outputs": [
    {
     "data": {
      "image/png": "[encoded data removed]",
      "text/plain": [
       "<Figure size 1800x2880 with 12 Axes>"
      ]
     },
     "metadata": {
      "needs_background": "light"
     },
     "output_type": "display_data"
    }
   ],
   "source": [
    "plt.figure(figsize=(25,40))\n",
    "graph = 1\n",
    "\n",
    "for column in df2:\n",
    "    if graph <= 30:\n",
    "        ax = plt.subplot(8,2, graph)\n",
    "        sn.boxplot(df2[column], color = 'c')\n",
    "        plt.xlabel(column, fontsize = 20)\n",
    "        \n",
    "    graph+=1\n",
    "plt.show()"
   ]
  },
  {
   "cell_type": "markdown",
   "id": "ed2522f1",
   "metadata": {},
   "source": [
    "as we can see above there is no outliers present in some columns but that columns are catogorical in nature. so, no need to remove outliers from that. We need to remove outliers from only contineous data.\n"
   ]
  },
  {
   "cell_type": "markdown",
   "id": "e19bd4c5",
   "metadata": {},
   "source": [
    "# Check the skewness and remove that"
   ]
  },
  {
   "cell_type": "code",
   "execution_count": 125,
   "id": "dfd73fa0",
   "metadata": {},
   "outputs": [
    {
     "data": {
      "text/plain": [
       "Airline           0.483882\n",
       "Source           -0.424997\n",
       "Destination       1.263630\n",
       "Route            -0.281807\n",
       "Duration         -0.275404\n",
       "Total_Stops       0.672623\n",
       "Journey_Month     0.590701\n",
       "Journey_day       0.478246\n",
       "Dep_Hour          0.093759\n",
       "Dep_Minute        0.128515\n",
       "Arrival_Hour     -0.443166\n",
       "Arrival_Minute    0.115267\n",
       "dtype: float64"
      ]
     },
     "execution_count": 125,
     "metadata": {},
     "output_type": "execute_result"
    }
   ],
   "source": [
    "df2.skew()#skewness"
   ]
  },
  {
   "cell_type": "markdown",
   "id": "24025c53",
   "metadata": {},
   "source": [
    "as we can see above there is no skwness present in some columns but that columns are catogorical in nature. so, no need to remove skewness from that. We need to remove skewness from only contineous data.\n"
   ]
  },
  {
   "cell_type": "markdown",
   "id": "451a6be1",
   "metadata": {},
   "source": [
    "# Seprating the columns into featuers and target:"
   ]
  },
  {
   "cell_type": "markdown",
   "id": "a09c55b3",
   "metadata": {},
   "source": [
    "x= features, y=Target"
   ]
  },
  {
   "cell_type": "code",
   "execution_count": 126,
   "id": "50cdbfc2",
   "metadata": {},
   "outputs": [],
   "source": [
    "x = df1.drop(columns = 'Price', axis=1)\n",
    "y = df1['Price']\n",
    "x1 = df2"
   ]
  },
  {
   "cell_type": "markdown",
   "id": "e351b027",
   "metadata": {},
   "source": [
    "# Scalling technique"
   ]
  },
  {
   "cell_type": "code",
   "execution_count": 127,
   "id": "c2cb4768",
   "metadata": {},
   "outputs": [],
   "source": [
    "from sklearn.preprocessing import StandardScaler #Standard scalar\n",
    "\n",
    "ss = StandardScaler()\n",
    "x_scalar = ss.fit_transform(x)"
   ]
  },
  {
   "cell_type": "code",
   "execution_count": 128,
   "id": "eac12014",
   "metadata": {},
   "outputs": [],
   "source": [
    "x1_scalar = ss.fit_transform(x1)"
   ]
  },
  {
   "cell_type": "markdown",
   "id": "ad767392",
   "metadata": {},
   "source": [
    "test dataset and train dataset are scalled now"
   ]
  },
  {
   "cell_type": "markdown",
   "id": "c9768a4e",
   "metadata": {},
   "source": [
    "# Variance inflation factor"
   ]
  },
  {
   "cell_type": "code",
   "execution_count": 129,
   "id": "720d5db2",
   "metadata": {},
   "outputs": [
    {
     "data": {
      "text/html": [
       "<div>\n",
       "<style scoped>\n",
       "    .dataframe tbody tr th:only-of-type {\n",
       "        vertical-align: middle;\n",
       "    }\n",
       "\n",
       "    .dataframe tbody tr th {\n",
       "        vertical-align: top;\n",
       "    }\n",
       "\n",
       "    .dataframe thead th {\n",
       "        text-align: right;\n",
       "    }\n",
       "</style>\n",
       "<table border=\"1\" class=\"dataframe\">\n",
       "  <thead>\n",
       "    <tr style=\"text-align: right;\">\n",
       "      <th></th>\n",
       "      <th>vif</th>\n",
       "      <th>Features</th>\n",
       "    </tr>\n",
       "  </thead>\n",
       "  <tbody>\n",
       "    <tr>\n",
       "      <th>0</th>\n",
       "      <td>1.015788</td>\n",
       "      <td>Airline</td>\n",
       "    </tr>\n",
       "    <tr>\n",
       "      <th>1</th>\n",
       "      <td>1.701712</td>\n",
       "      <td>Source</td>\n",
       "    </tr>\n",
       "    <tr>\n",
       "      <th>2</th>\n",
       "      <td>1.835565</td>\n",
       "      <td>Destination</td>\n",
       "    </tr>\n",
       "    <tr>\n",
       "      <th>3</th>\n",
       "      <td>1.564508</td>\n",
       "      <td>Route</td>\n",
       "    </tr>\n",
       "    <tr>\n",
       "      <th>4</th>\n",
       "      <td>1.098279</td>\n",
       "      <td>Duration</td>\n",
       "    </tr>\n",
       "    <tr>\n",
       "      <th>5</th>\n",
       "      <td>1.362189</td>\n",
       "      <td>Total_Stops</td>\n",
       "    </tr>\n",
       "    <tr>\n",
       "      <th>6</th>\n",
       "      <td>1.095631</td>\n",
       "      <td>Journey_Month</td>\n",
       "    </tr>\n",
       "    <tr>\n",
       "      <th>7</th>\n",
       "      <td>1.104480</td>\n",
       "      <td>Journey_day</td>\n",
       "    </tr>\n",
       "    <tr>\n",
       "      <th>8</th>\n",
       "      <td>1.028923</td>\n",
       "      <td>Dep_Hour</td>\n",
       "    </tr>\n",
       "    <tr>\n",
       "      <th>9</th>\n",
       "      <td>1.026364</td>\n",
       "      <td>Dep_Minute</td>\n",
       "    </tr>\n",
       "    <tr>\n",
       "      <th>10</th>\n",
       "      <td>1.038613</td>\n",
       "      <td>Arrival_Hour</td>\n",
       "    </tr>\n",
       "    <tr>\n",
       "      <th>11</th>\n",
       "      <td>1.095050</td>\n",
       "      <td>Arrival_Minute</td>\n",
       "    </tr>\n",
       "  </tbody>\n",
       "</table>\n",
       "</div>"
      ],
      "text/plain": [
       "         vif        Features\n",
       "0   1.015788         Airline\n",
       "1   1.701712          Source\n",
       "2   1.835565     Destination\n",
       "3   1.564508           Route\n",
       "4   1.098279        Duration\n",
       "5   1.362189     Total_Stops\n",
       "6   1.095631   Journey_Month\n",
       "7   1.104480     Journey_day\n",
       "8   1.028923        Dep_Hour\n",
       "9   1.026364      Dep_Minute\n",
       "10  1.038613    Arrival_Hour\n",
       "11  1.095050  Arrival_Minute"
      ]
     },
     "execution_count": 129,
     "metadata": {},
     "output_type": "execute_result"
    }
   ],
   "source": [
    "#import libraries\n",
    "from statsmodels.stats.outliers_influence import variance_inflation_factor\n",
    "\n",
    "vif = pd.DataFrame()\n",
    "vif[\"vif\"] = [variance_inflation_factor(x_scalar, i) for i in range(x_scalar.shape[1])]\n",
    "vif[\"Features\"] = x.columns\n",
    "\n",
    "#lets check the values\n",
    "vif\n"
   ]
  },
  {
   "cell_type": "code",
   "execution_count": 130,
   "id": "a725f63a",
   "metadata": {},
   "outputs": [
    {
     "data": {
      "text/html": [
       "<div>\n",
       "<style scoped>\n",
       "    .dataframe tbody tr th:only-of-type {\n",
       "        vertical-align: middle;\n",
       "    }\n",
       "\n",
       "    .dataframe tbody tr th {\n",
       "        vertical-align: top;\n",
       "    }\n",
       "\n",
       "    .dataframe thead th {\n",
       "        text-align: right;\n",
       "    }\n",
       "</style>\n",
       "<table border=\"1\" class=\"dataframe\">\n",
       "  <thead>\n",
       "    <tr style=\"text-align: right;\">\n",
       "      <th></th>\n",
       "      <th>vif</th>\n",
       "      <th>Features</th>\n",
       "    </tr>\n",
       "  </thead>\n",
       "  <tbody>\n",
       "    <tr>\n",
       "      <th>0</th>\n",
       "      <td>1.020441</td>\n",
       "      <td>Airline</td>\n",
       "    </tr>\n",
       "    <tr>\n",
       "      <th>1</th>\n",
       "      <td>1.616695</td>\n",
       "      <td>Source</td>\n",
       "    </tr>\n",
       "    <tr>\n",
       "      <th>2</th>\n",
       "      <td>1.836204</td>\n",
       "      <td>Destination</td>\n",
       "    </tr>\n",
       "    <tr>\n",
       "      <th>3</th>\n",
       "      <td>1.540408</td>\n",
       "      <td>Route</td>\n",
       "    </tr>\n",
       "    <tr>\n",
       "      <th>4</th>\n",
       "      <td>1.116116</td>\n",
       "      <td>Duration</td>\n",
       "    </tr>\n",
       "    <tr>\n",
       "      <th>5</th>\n",
       "      <td>1.393231</td>\n",
       "      <td>Total_Stops</td>\n",
       "    </tr>\n",
       "    <tr>\n",
       "      <th>6</th>\n",
       "      <td>1.088962</td>\n",
       "      <td>Journey_Month</td>\n",
       "    </tr>\n",
       "    <tr>\n",
       "      <th>7</th>\n",
       "      <td>1.095957</td>\n",
       "      <td>Journey_day</td>\n",
       "    </tr>\n",
       "    <tr>\n",
       "      <th>8</th>\n",
       "      <td>1.046671</td>\n",
       "      <td>Dep_Hour</td>\n",
       "    </tr>\n",
       "    <tr>\n",
       "      <th>9</th>\n",
       "      <td>1.034761</td>\n",
       "      <td>Dep_Minute</td>\n",
       "    </tr>\n",
       "    <tr>\n",
       "      <th>10</th>\n",
       "      <td>1.037861</td>\n",
       "      <td>Arrival_Hour</td>\n",
       "    </tr>\n",
       "    <tr>\n",
       "      <th>11</th>\n",
       "      <td>1.107802</td>\n",
       "      <td>Arrival_Minute</td>\n",
       "    </tr>\n",
       "  </tbody>\n",
       "</table>\n",
       "</div>"
      ],
      "text/plain": [
       "         vif        Features\n",
       "0   1.020441         Airline\n",
       "1   1.616695          Source\n",
       "2   1.836204     Destination\n",
       "3   1.540408           Route\n",
       "4   1.116116        Duration\n",
       "5   1.393231     Total_Stops\n",
       "6   1.088962   Journey_Month\n",
       "7   1.095957     Journey_day\n",
       "8   1.046671        Dep_Hour\n",
       "9   1.034761      Dep_Minute\n",
       "10  1.037861    Arrival_Hour\n",
       "11  1.107802  Arrival_Minute"
      ]
     },
     "execution_count": 130,
     "metadata": {},
     "output_type": "execute_result"
    }
   ],
   "source": [
    "#import libraries\n",
    "from statsmodels.stats.outliers_influence import variance_inflation_factor\n",
    "\n",
    "vif = pd.DataFrame()\n",
    "vif[\"vif\"] = [variance_inflation_factor(x1_scalar, i) for i in range(x1_scalar.shape[1])]\n",
    "vif[\"Features\"] = x1.columns\n",
    "\n",
    "#lets check the values\n",
    "vif"
   ]
  },
  {
   "cell_type": "markdown",
   "id": "51784fdb",
   "metadata": {},
   "source": [
    "as we have saw in the table vif value is not greater than 5. so no need to drop any column to avoid multiclinearity issue."
   ]
  },
  {
   "cell_type": "markdown",
   "id": "836023ea",
   "metadata": {},
   "source": [
    "# Finding best random state\n"
   ]
  },
  {
   "cell_type": "code",
   "execution_count": 131,
   "id": "d8cd9513",
   "metadata": {},
   "outputs": [],
   "source": [
    "from sklearn.model_selection import train_test_split #importing library for finding random state\n",
    "from sklearn.metrics import r2_score"
   ]
  },
  {
   "cell_type": "code",
   "execution_count": 132,
   "id": "67567b2a",
   "metadata": {},
   "outputs": [
    {
     "name": "stdout",
     "output_type": "stream",
     "text": [
      "Best accuracy is  0.770093626710178 on Random_state  58\n"
     ]
    }
   ],
   "source": [
    "from sklearn.tree import DecisionTreeRegressor\n",
    "maxAccu = 0\n",
    "maxRS = 0\n",
    "for i in range(1,200):\n",
    "    x_train, x_test, y_train, y_test = train_test_split(x,y, test_size=.25, random_state=i)\n",
    "    mod= DecisionTreeRegressor()\n",
    "    mod.fit(x_train, y_train)\n",
    "    pred = mod.predict(x_test)\n",
    "    acc= r2_score(y_test, pred)\n",
    "    if acc>maxAccu:\n",
    "        maxAccu=acc\n",
    "        maxRS=i\n",
    "print(\"Best accuracy is \",maxAccu, \"on Random_state \", maxRS)"
   ]
  },
  {
   "cell_type": "code",
   "execution_count": 133,
   "id": "cd25b96c",
   "metadata": {},
   "outputs": [],
   "source": [
    "x_train,x_test,y_train,y_test = train_test_split(x_scalar, y, test_size=0.2, random_state = 58) #putting best random state"
   ]
  },
  {
   "cell_type": "markdown",
   "id": "39279934",
   "metadata": {},
   "source": [
    "# 1.Linear Regression Model"
   ]
  },
  {
   "cell_type": "code",
   "execution_count": 134,
   "id": "377596bd",
   "metadata": {},
   "outputs": [
    {
     "data": {
      "text/plain": [
       "LinearRegression()"
      ]
     },
     "execution_count": 134,
     "metadata": {},
     "output_type": "execute_result"
    }
   ],
   "source": [
    "from sklearn.linear_model import LinearRegression\n",
    "from sklearn.metrics import mean_squared_error\n",
    "\n",
    "Lr=LinearRegression()\n",
    "Lr.fit(x_train, y_train)"
   ]
  },
  {
   "cell_type": "code",
   "execution_count": 135,
   "id": "f66f5ddf",
   "metadata": {},
   "outputs": [],
   "source": [
    "pred_test=Lr.predict(x_test)"
   ]
  },
  {
   "cell_type": "code",
   "execution_count": 136,
   "id": "0a20ec97",
   "metadata": {},
   "outputs": [
    {
     "name": "stdout",
     "output_type": "stream",
     "text": [
      "0.3664295134756216\n"
     ]
    }
   ],
   "source": [
    "print(r2_score(y_test,pred_test))"
   ]
  },
  {
   "cell_type": "markdown",
   "id": "9d460508",
   "metadata": {},
   "source": [
    "# Cross Validation of Linear Regression"
   ]
  },
  {
   "cell_type": "code",
   "execution_count": 137,
   "id": "3428dc9f",
   "metadata": {},
   "outputs": [
    {
     "data": {
      "text/plain": [
       "0.37014052451672913"
      ]
     },
     "execution_count": 137,
     "metadata": {},
     "output_type": "execute_result"
    }
   ],
   "source": [
    "from sklearn.model_selection import cross_val_score\n",
    "cv_score= cross_val_score(Lr, x, y, cv=5)\n",
    "cv_mean=cv_score.mean()\n",
    "cv_mean"
   ]
  },
  {
   "cell_type": "markdown",
   "id": "a8a0afd1",
   "metadata": {},
   "source": [
    "The Accuracy score for Linear regression model is : 36%\n",
    "Cross validation score for Linear regression is : 37%\n"
   ]
  },
  {
   "cell_type": "markdown",
   "id": "7bf1f0ae",
   "metadata": {},
   "source": [
    "# Regularization"
   ]
  },
  {
   "cell_type": "code",
   "execution_count": 138,
   "id": "2eeb0d84",
   "metadata": {},
   "outputs": [
    {
     "name": "stdout",
     "output_type": "stream",
     "text": [
      "{'alpha': 1, 'random_state': 0}\n"
     ]
    }
   ],
   "source": [
    "from sklearn.model_selection import GridSearchCV\n",
    "from sklearn.linear_model import Lasso\n",
    "\n",
    "parameters = {'alpha' :[.0001, .001, .01, .1, 1, 10], 'random_state':list(range(0,10))}\n",
    "ls = Lasso()\n",
    "clf = GridSearchCV(ls, parameters)\n",
    "clf.fit(x_train, y_train)\n",
    "\n",
    "print(clf.best_params_)"
   ]
  },
  {
   "cell_type": "code",
   "execution_count": 139,
   "id": "c7e734bc",
   "metadata": {},
   "outputs": [
    {
     "data": {
      "text/plain": [
       "0.366397951385081"
      ]
     },
     "execution_count": 139,
     "metadata": {},
     "output_type": "execute_result"
    }
   ],
   "source": [
    "ls = Lasso(alpha = 1, random_state=0)\n",
    "ls.fit(x_train, y_train)\n",
    "ls.score(x_train, y_train)\n",
    "pred_ls = ls.predict(x_test)\n",
    "\n",
    "laso = r2_score(y_test, pred_ls)\n",
    "laso"
   ]
  },
  {
   "cell_type": "markdown",
   "id": "9a8fe67c",
   "metadata": {},
   "source": [
    "# 2.Random forest regression"
   ]
  },
  {
   "cell_type": "code",
   "execution_count": 173,
   "id": "98ea29e9",
   "metadata": {},
   "outputs": [
    {
     "name": "stdout",
     "output_type": "stream",
     "text": [
      "R2 Score:  80.88500084814076\n",
      "Cross Val Score:  79.27271409351985\n"
     ]
    }
   ],
   "source": [
    "from sklearn.model_selection import GridSearchCV\n",
    "from sklearn.ensemble import RandomForestRegressor\n",
    "Rfr= RandomForestRegressor()\n",
    "Rfr.fit(x_train, y_train)\n",
    "Rfr.score(x_train, y_train)\n",
    "pred_decision = Rfr.predict(x_test)\n",
    "\n",
    "Rfrs = r2_score(y_test,pred_decision)\n",
    "print('R2 Score: ',Rfrs*100)\n",
    "\n",
    "Rfrscore = cross_val_score(Rfr, x, y, cv=3)\n",
    "Rfrc = Rfrscore.mean()\n",
    "print('Cross Val Score: ',Rfrc*100)"
   ]
  },
  {
   "cell_type": "markdown",
   "id": "83b29821",
   "metadata": {},
   "source": [
    "The r2 score for Random Forest Regressor model is : 81.46%\n",
    "\n",
    "Cross validation score for Random Forest Regressor is : 79.12%"
   ]
  },
  {
   "cell_type": "markdown",
   "id": "4d56d827",
   "metadata": {},
   "source": [
    "# 3. Decision Tree Regressor"
   ]
  },
  {
   "cell_type": "code",
   "execution_count": 141,
   "id": "92c7d032",
   "metadata": {},
   "outputs": [
    {
     "data": {
      "text/plain": [
       "DecisionTreeRegressor()"
      ]
     },
     "execution_count": 141,
     "metadata": {},
     "output_type": "execute_result"
    }
   ],
   "source": [
    "from sklearn.tree import DecisionTreeRegressor\n",
    "from sklearn.metrics import mean_absolute_error\n",
    "\n",
    "dtree = DecisionTreeRegressor()\n",
    "dtree.fit(x_train, y_train)"
   ]
  },
  {
   "cell_type": "code",
   "execution_count": 142,
   "id": "649e12ca",
   "metadata": {},
   "outputs": [
    {
     "name": "stdout",
     "output_type": "stream",
     "text": [
      "0.7160998513187036\n"
     ]
    }
   ],
   "source": [
    "pred_dtree = dtree.predict(x_test)\n",
    "print(r2_score(y_test,pred_dtree))"
   ]
  },
  {
   "cell_type": "code",
   "execution_count": 143,
   "id": "98baa925",
   "metadata": {},
   "outputs": [
    {
     "data": {
      "text/plain": [
       "0.6792703114290424"
      ]
     },
     "execution_count": 143,
     "metadata": {},
     "output_type": "execute_result"
    }
   ],
   "source": [
    "cv_score= cross_val_score(dtree, x, y, cv=3, scoring='r2')\n",
    "cv_mean=cv_score.mean()\n",
    "cv_mean"
   ]
  },
  {
   "cell_type": "markdown",
   "id": "296123f0",
   "metadata": {},
   "source": [
    "The r2 score for Decision tree regression model is : 71.60%\n",
    "\n",
    "Cross validation score for Decision tree regression is : 67.92%"
   ]
  },
  {
   "cell_type": "markdown",
   "id": "e1a54e87",
   "metadata": {},
   "source": [
    "# 4.KNN:"
   ]
  },
  {
   "cell_type": "code",
   "execution_count": 164,
   "id": "99850f59",
   "metadata": {},
   "outputs": [],
   "source": [
    "from sklearn.neighbors import KNeighborsRegressor as KNN"
   ]
  },
  {
   "cell_type": "code",
   "execution_count": 167,
   "id": "81dabff2",
   "metadata": {},
   "outputs": [
    {
     "name": "stdout",
     "output_type": "stream",
     "text": [
      "R2_score: 0.6806691401350142\n",
      "mean_squared_error: 7334995.328572766\n",
      "mean_absolute_error: 1710.087693027609\n",
      "root_mean_squared_error: 2708.319650368613\n"
     ]
    }
   ],
   "source": [
    "knn=KNN()\n",
    "knn.fit(x_train,y_train)\n",
    "pred=knn.predict(x_test)\n",
    "print('R2_score:',r2_score(y_test,pred))\n",
    "print('mean_squared_error:',metrics.mean_squared_error(y_test,pred))\n",
    "print('mean_absolute_error:',metrics.mean_absolute_error(y_test,pred))\n",
    "print('root_mean_squared_error:',np.sqrt(metrics.mean_squared_error(y_test,pred)))"
   ]
  },
  {
   "cell_type": "markdown",
   "id": "840fd2ca",
   "metadata": {},
   "source": [
    "KNN is giving me 68.06% r2_score."
   ]
  },
  {
   "cell_type": "code",
   "execution_count": 169,
   "id": "19ef7970",
   "metadata": {},
   "outputs": [
    {
     "name": "stdout",
     "output_type": "stream",
     "text": [
      "0.6022617795554963\n"
     ]
    }
   ],
   "source": [
    "print(cross_val_score(knn,x,y,cv=5).mean()) #cross validation score"
   ]
  },
  {
   "cell_type": "markdown",
   "id": "b22d2b7e",
   "metadata": {},
   "source": [
    "By comparing all models we can see that random forest regressor is having low difference so take this model for hyperparameter tuning"
   ]
  },
  {
   "cell_type": "code",
   "execution_count": null,
   "id": "ec391142",
   "metadata": {},
   "outputs": [],
   "source": [
    "# Hyperparameter Tuning"
   ]
  },
  {
   "cell_type": "code",
   "execution_count": 170,
   "id": "1a92eea5",
   "metadata": {},
   "outputs": [
    {
     "data": {
      "text/plain": [
       "GridSearchCV(cv=5, estimator=RandomForestRegressor(),\n",
       "             param_grid={'bootstrap': [True],\n",
       "                         'criterion': ['squared_error', 'poisson'],\n",
       "                         'max_depth': [2, 6], 'min_samples_split': [2, 3],\n",
       "                         'n_estimators': [100]})"
      ]
     },
     "execution_count": 170,
     "metadata": {},
     "output_type": "execute_result"
    }
   ],
   "source": [
    "from sklearn.model_selection import GridSearchCV\n",
    "parameters={'criterion':['squared_error','poisson'],\n",
    "           'n_estimators':[100],\n",
    "           'bootstrap':[True],\n",
    "           'max_depth':[2,6],\n",
    "           'min_samples_split':[2,3]}\n",
    "grid=GridSearchCV(estimator=Rfr, param_grid=parameters,cv=5)\n",
    "grid.fit(x_train,y_train)"
   ]
  },
  {
   "cell_type": "code",
   "execution_count": 171,
   "id": "c39d6115",
   "metadata": {},
   "outputs": [
    {
     "name": "stdout",
     "output_type": "stream",
     "text": [
      "{'bootstrap': True, 'criterion': 'poisson', 'max_depth': 6, 'min_samples_split': 3, 'n_estimators': 100}\n"
     ]
    }
   ],
   "source": [
    "best_parameters=grid.best_params_\n",
    "print(best_parameters)# printing the best parameters found by GridSearchCV"
   ]
  },
  {
   "cell_type": "code",
   "execution_count": null,
   "id": "c559daff",
   "metadata": {},
   "outputs": [],
   "source": [
    "mod = RandomForestRegressor( criterion='poisson', max_depth=6, n_estimators= 700,bootstrap= True,min_samples_split=3)\n",
    "\n",
    "mod.fit(x_train, y_train)\n",
    "pred =mod.predict(x_test)\n",
    "print(r2_score(y_test, pred)*100)"
   ]
  },
  {
   "cell_type": "markdown",
   "id": "5f41069d",
   "metadata": {},
   "source": [
    "Hay thus we got 85% accuracy of our model.."
   ]
  },
  {
   "cell_type": "markdown",
   "id": "66557d42",
   "metadata": {},
   "source": [
    "# Saving the model:"
   ]
  },
  {
   "cell_type": "code",
   "execution_count": 179,
   "id": "8de848e0",
   "metadata": {},
   "outputs": [
    {
     "data": {
      "text/plain": [
       "['Flight_Price.pkl']"
      ]
     },
     "execution_count": 179,
     "metadata": {},
     "output_type": "execute_result"
    }
   ],
   "source": [
    "# Saving the model using .pkl\n",
    "import joblib\n",
    "joblib.dump(mod,\"Flight_Price.pkl\")\n"
   ]
  },
  {
   "cell_type": "markdown",
   "id": "1b5ba558",
   "metadata": {},
   "source": [
    "# Loding model"
   ]
  },
  {
   "cell_type": "code",
   "execution_count": 182,
   "id": "54f05888",
   "metadata": {},
   "outputs": [
    {
     "data": {
      "text/plain": [
       "array([8470.65202722, 8470.65202722, 8467.11423688, ..., 8470.65202722,\n",
       "       8470.65202722, 8470.65202722])"
      ]
     },
     "execution_count": 182,
     "metadata": {},
     "output_type": "execute_result"
    }
   ],
   "source": [
    "# Loading the saved model\n",
    "model=joblib.dump(mod,\"Flight_Price.pkl\")\n",
    "\n",
    "#Prediction\n",
    "prediction = mod.predict(x_test)\n",
    "prediction"
   ]
  },
  {
   "cell_type": "code",
   "execution_count": 184,
   "id": "9ef6e6cb",
   "metadata": {},
   "outputs": [],
   "source": [
    "prediction=pd.DataFrame(prediction)\n",
    "#converted into data frame"
   ]
  },
  {
   "cell_type": "code",
   "execution_count": 185,
   "id": "daa3e8be",
   "metadata": {},
   "outputs": [],
   "source": [
    "prediction.to_csv('FlightPricePredictionResults.csv', index = False)\n",
    "#prediction saving"
   ]
  },
  {
   "cell_type": "markdown",
   "id": "1e4157a9",
   "metadata": {},
   "source": [
    "Model Saved"
   ]
  },
  {
   "cell_type": "code",
   "execution_count": null,
   "id": "aac18588",
   "metadata": {},
   "outputs": [],
   "source": []
  }
 ],
 "metadata": {
  "kernelspec": {
   "display_name": "Python 3",
   "language": "python",
   "name": "python3"
  },
  "language_info": {
   "codemirror_mode": {
    "name": "ipython",
    "version": 3
   },
   "file_extension": ".py",
   "mimetype": "text/x-python",
   "name": "python",
   "nbconvert_exporter": "python",
   "pygments_lexer": "ipython3",
   "version": "3.8.8"
  }
 },
 "nbformat": 4,
 "nbformat_minor": 5
}
